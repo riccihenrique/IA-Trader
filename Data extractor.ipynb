{
 "cells": [
  {
   "cell_type": "code",
   "execution_count": null,
   "metadata": {},
   "outputs": [],
   "source": [
    "from selenium import webdriver\n",
    "from selenium.webdriver.support.ui import WebDriverWait\n",
    "from selenium.webdriver.support import expected_conditions as EC\n",
    "from selenium.webdriver.common.by import By\n",
    "from selenium.common.exceptions import TimeoutException\n",
    "from datetime import datetime\n",
    "import csv"
   ]
  },
  {
   "cell_type": "code",
   "execution_count": null,
   "metadata": {},
   "outputs": [],
   "source": [
    "driver = webdriver.Chrome('/home/henrique/Downloads/chromedriver')\n",
    "driver.get('https://br.investing.com/equities/facebook-inc')\n",
    "delay = 40 # seconds\n",
    "try:\n",
    "    myElem = WebDriverWait(driver, delay).until(EC.presence_of_element_located((By.CSS_SELECTOR, '#quotes_summary_current_data > div.left > div.inlineblock > div.top.bold.inlineblock')))\n",
    "except TimeoutException:\n",
    "    print(\"Loading took too much time!\")\n",
    "with open('facebook.csv', 'a', newline='') as csvfile:\n",
    "    spamwriter = csv.writer(csvfile, delimiter=',', quoting=csv.QUOTE_MINIMAL)\n",
    "    val = ''\n",
    "    data = datetime.now()\n",
    "    while(data.hour != 18):\n",
    "        elem = driver.find_element_by_css_selector('#quotes_summary_current_data > div.left > div.inlineblock > div.top.bold.inlineblock')\n",
    "        span = elem.find_element_by_tag_name('span')\n",
    "        if(span.text != val):        \n",
    "            val = span.text\n",
    "            data = datetime.now()\n",
    "            spamwriter.writerow([data, val])\n",
    "            print(data, ' ', val)\n",
    "driver.close()"
   ]
  },
  {
   "cell_type": "markdown",
   "metadata": {},
   "source": [
    "### Data Format"
   ]
  },
  {
   "cell_type": "code",
   "execution_count": null,
   "metadata": {
    "scrolled": true
   },
   "outputs": [],
   "source": [
    "\n",
    "data = []\n",
    "with open('facebook.csv', 'r', newline='') as csvfile:\n",
    "    spamreader = csv.reader(csvfile, delimiter=',')\n",
    "    for row in spamreader:\n",
    "        data.append(row)\n",
    "\n",
    "dates = []\n",
    "for d in data:\n",
    "    split = d[0].split('.')\n",
    "    dates.append(split[0])\n",
    "    \n",
    "with open('facebook.csv', 'w', newline='') as csvfile:\n",
    "    spamwriter = csv.writer(csvfile, delimiter=',', quoting=csv.QUOTE_MINIMAL)\n",
    "    for i in range(len(dates)):\n",
    "        spamwriter.writerow([dates[i], data[i][1]])"
   ]
  },
  {
   "cell_type": "code",
   "execution_count": null,
   "metadata": {},
   "outputs": [],
   "source": []
  }
 ],
 "metadata": {
  "kernelspec": {
   "display_name": "Python 3",
   "language": "python",
   "name": "python3"
  },
  "language_info": {
   "codemirror_mode": {
    "name": "ipython",
    "version": 3
   },
   "file_extension": ".py",
   "mimetype": "text/x-python",
   "name": "python",
   "nbconvert_exporter": "python",
   "pygments_lexer": "ipython3",
   "version": "3.7.6"
  }
 },
 "nbformat": 4,
 "nbformat_minor": 4
}
