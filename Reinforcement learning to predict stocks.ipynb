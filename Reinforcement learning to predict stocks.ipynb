{
 "cells": [
  {
   "cell_type": "code",
   "execution_count": 1,
   "metadata": {
    "colab": {
     "base_uri": "https://localhost:8080/",
     "height": 71
    },
    "colab_type": "code",
    "executionInfo": {
     "elapsed": 12,
     "status": "ok",
     "timestamp": 1592267973304,
     "user": {
      "displayName": "Henrique Ramos Ricci",
      "photoUrl": "",
      "userId": "12588248443939115501"
     },
     "user_tz": 180
    },
    "id": "qALiMginGiMW",
    "outputId": "5037a0ea-4268-492a-a4c7-8e9da1f22d76"
   },
   "outputs": [],
   "source": [
    "import math\n",
    "import random\n",
    "import numpy as np\n",
    "import pandas as pd\n",
    "import tensorflow as tf\n",
    "import matplotlib.pyplot as plt\n",
    "\n",
    "from tqdm import tqdm_notebook, tqdm\n",
    "from collections import deque"
   ]
  },
  {
   "cell_type": "code",
   "execution_count": 2,
   "metadata": {
    "colab": {},
    "colab_type": "code",
    "id": "qV_UlZrLeSUk"
   },
   "outputs": [],
   "source": [
    "class AI_Trader():\n",
    "  \n",
    "    def __init__(self, state_size, action_space = 3, model_name = \"AITrader\"):\n",
    "        self.state_size = state_size\n",
    "        self.action_space = action_space\n",
    "        self.memory = deque(maxlen = 2000)\n",
    "        self.model_name = model_name\n",
    "\n",
    "        self.gamma = 0.95\n",
    "        self.epsilon = 1.0\n",
    "        self.epsilon_final = 0.01\n",
    "        self.epsilon_decay = 0.995\n",
    "        self.model = self.model_builder()\n",
    "    \n",
    "    def model_builder(self):\n",
    "        model = tf.keras.models.Sequential()\n",
    "        model.add(tf.keras.layers.Dense(units = 32, activation = \"relu\", input_dim = self.state_size))\n",
    "        model.add(tf.keras.layers.Dense(units = 64, activation = \"relu\"))\n",
    "        model.add(tf.keras.layers.Dense(units = 128, activation = \"relu\"))\n",
    "        model.add(tf.keras.layers.Dense(units = self.action_space, activation = \"linear\"))\n",
    "        model.compile(loss = \"mse\", optimizer = tf.keras.optimizers.Adam(lr = 0.001))\n",
    "        return model\n",
    "  \n",
    "    def trade(self, state):\n",
    "        if random.random() <= self.epsilon:\n",
    "            return random.randrange(self.action_space)\n",
    "\n",
    "        actions = self.model.predict(state)\n",
    "        return np.argmax(actions[0])\n",
    "  \n",
    "    def batch_train(self, batch_size):\n",
    "        batch = []\n",
    "        for i in range(len(self.memory) - batch_size + 1, len(self.memory)):\n",
    "            batch.append(self.memory[i])\n",
    "\n",
    "        for state, action, reward, next_state, done in batch:\n",
    "            if not done:\n",
    "                reward = reward + self.gamma * np.max(self.model.predict(next_state))\n",
    "\n",
    "        target = self.model.predict(state)\n",
    "        target[0][action] = reward\n",
    "\n",
    "        self.model.fit(state, target, epochs=1, verbose=0)\n",
    "\n",
    "        if self.epsilon > self.epsilon_final:\n",
    "            self.epsilon *= self.epsilon_decay\n",
    "\n",
    "    def save(self, path):\n",
    "        self.model.save(path)"
   ]
  },
  {
   "cell_type": "code",
   "execution_count": 3,
   "metadata": {
    "colab": {},
    "colab_type": "code",
    "id": "IzXG-49iSZX3"
   },
   "outputs": [],
   "source": [
    "def sigmoid(x):\n",
    "    return 1 / (1 + math.exp(-x))"
   ]
  },
  {
   "cell_type": "code",
   "execution_count": 4,
   "metadata": {
    "colab": {},
    "colab_type": "code",
    "id": "N8vVBL8YTGaE"
   },
   "outputs": [],
   "source": [
    "def stocks_price_format(n):\n",
    "    if n < 0:\n",
    "        return \"- $ {0:2f}\".format(abs(n))\n",
    "    else:\n",
    "        return \"$ {0:2f}\".format(abs(n))"
   ]
  },
  {
   "cell_type": "code",
   "execution_count": 5,
   "metadata": {
    "colab": {},
    "colab_type": "code",
    "id": "n0fpuTNQ1tOP"
   },
   "outputs": [],
   "source": [
    "def dataset_loader(file_path):\n",
    "    dataset = pd.read_csv(file_path)\n",
    "    start_date = str(dataset.index[0]).split()[0]\n",
    "    end_date = str(dataset.index[-1]).split()[0]\n",
    "    value = dataset['valor']\n",
    "    return value"
   ]
  },
  {
   "cell_type": "code",
   "execution_count": 6,
   "metadata": {
    "colab": {},
    "colab_type": "code",
    "id": "D0rX3jY48WaQ"
   },
   "outputs": [],
   "source": [
    "def state_creator(data, timestep, window_size):\n",
    "    starting_id = timestep - window_size + 1\n",
    "  \n",
    "    if starting_id >= 0:\n",
    "        windowed_data = data[starting_id:timestep + 1]\n",
    "    else:\n",
    "        windowed_data = - starting_id * [data[0]] + list(data[0:timestep + 1])\n",
    "        \n",
    "    state = []\n",
    "    for i in range(window_size - 1):\n",
    "        state.append(sigmoid(list(windowed_data)[i + 1] - list(windowed_data)[i]))\n",
    "    \n",
    "    return np.array([state])"
   ]
  },
  {
   "cell_type": "code",
   "execution_count": 7,
   "metadata": {
    "colab": {},
    "colab_type": "code",
    "id": "ye-U_gaNCFcz"
   },
   "outputs": [],
   "source": [
    "data = dataset_loader('/home/henrique/Documentos/dolar3.csv')"
   ]
  },
  {
   "cell_type": "markdown",
   "metadata": {
    "colab_type": "text",
    "id": "hkyW12-L4qo_"
   },
   "source": [
    "### Hyper parâmetros"
   ]
  },
  {
   "cell_type": "code",
   "execution_count": 8,
   "metadata": {
    "colab": {},
    "colab_type": "code",
    "id": "jt1Z8b8iKH9t"
   },
   "outputs": [],
   "source": [
    "window_size = 10\n",
    "episodes = 100\n",
    "batch_size = 32\n",
    "data_samples = len(data) - 1"
   ]
  },
  {
   "cell_type": "code",
   "execution_count": 9,
   "metadata": {
    "colab": {},
    "colab_type": "code",
    "id": "LZSDqBLMKuWJ"
   },
   "outputs": [],
   "source": [
    "trader = AI_Trader(window_size)"
   ]
  },
  {
   "cell_type": "code",
   "execution_count": 10,
   "metadata": {
    "colab": {
     "base_uri": "https://localhost:8080/",
     "height": 289
    },
    "colab_type": "code",
    "executionInfo": {
     "elapsed": 6507,
     "status": "ok",
     "timestamp": 1592268016521,
     "user": {
      "displayName": "Henrique Ramos Ricci",
      "photoUrl": "",
      "userId": "12588248443939115501"
     },
     "user_tz": 180
    },
    "id": "x4p4VbU6MioS",
    "outputId": "68e7163f-05fb-4b75-aa45-5bc968b0607b"
   },
   "outputs": [
    {
     "name": "stdout",
     "output_type": "stream",
     "text": [
      "Model: \"sequential\"\n",
      "_________________________________________________________________\n",
      "Layer (type)                 Output Shape              Param #   \n",
      "=================================================================\n",
      "dense (Dense)                (None, 32)                352       \n",
      "_________________________________________________________________\n",
      "dense_1 (Dense)              (None, 64)                2112      \n",
      "_________________________________________________________________\n",
      "dense_2 (Dense)              (None, 128)               8320      \n",
      "_________________________________________________________________\n",
      "dense_3 (Dense)              (None, 3)                 387       \n",
      "=================================================================\n",
      "Total params: 11,171\n",
      "Trainable params: 11,171\n",
      "Non-trainable params: 0\n",
      "_________________________________________________________________\n"
     ]
    }
   ],
   "source": [
    "trader.model.summary()"
   ]
  },
  {
   "cell_type": "code",
   "execution_count": 11,
   "metadata": {
    "colab": {
     "base_uri": "https://localhost:8080/",
     "height": 1000
    },
    "colab_type": "code",
    "executionInfo": {
     "elapsed": 640047,
     "status": "error",
     "timestamp": 1587391422959,
     "user": {
      "displayName": "Fabio Spak",
      "photoUrl": "https://lh3.googleusercontent.com/a-/AOh14Gh5tkVvfK14igqB5tm5e6mMjKYZxeZEPf0g3sbo5Q=s64",
      "userId": "12631437385440185352"
     },
     "user_tz": 180
    },
    "id": "wxN9NY-_NoWw",
    "outputId": "d3990bda-d930-4a62-b700-1478a775af4d",
    "scrolled": true
   },
   "outputs": [
    {
     "name": "stderr",
     "output_type": "stream",
     "text": [
      "\r",
      "  0%|          | 0/2471 [00:00<?, ?it/s]"
     ]
    },
    {
     "name": "stdout",
     "output_type": "stream",
     "text": [
      "Episode: 1/100\n",
      "AI Trader bought:  $ 5.155800\n",
      "AI Trader sold:  $ 5.155400  Profit: - $ 0.000400\n",
      "AI Trader bought:  $ 5.155500\n",
      "AI Trader sold:  $ 5.153400  Profit: - $ 0.002100\n",
      "AI Trader bought:  $ 5.154500\n",
      "AI Trader bought:  $ 5.155000\n",
      "AI Trader bought:  $ 5.157500\n",
      "AI Trader sold:  $ 5.157000  Profit: $ 0.002500\n",
      "AI Trader bought:  $ 5.157500\n",
      "AI Trader bought:  $ 5.158600\n",
      "AI Trader sold:  $ 5.160500  Profit: $ 0.005500\n",
      "AI Trader bought:  $ 5.157800\n",
      "AI Trader bought:  $ 5.160500\n",
      "AI Trader bought:  $ 5.160000\n",
      "AI Trader bought:  $ 5.160500\n",
      "AI Trader bought:  $ 5.162500\n",
      "AI Trader bought:  $ 5.163200\n",
      "AI Trader bought:  $ 5.162500\n",
      "AI Trader sold:  $ 5.163500  Profit: $ 0.006000\n",
      "AI Trader sold:  $ 5.163000  Profit: $ 0.005500\n",
      "AI Trader bought:  $ 5.164700\n",
      "AI Trader sold:  $ 5.163900  Profit: $ 0.005300\n",
      "AI Trader bought:  $ 5.163800\n",
      "AI Trader bought:  $ 5.165000\n",
      "AI Trader bought:  $ 5.166200\n",
      "AI Trader sold:  $ 5.168500  Profit: $ 0.010700\n",
      "AI Trader bought:  $ 5.165000\n"
     ]
    },
    {
     "name": "stderr",
     "output_type": "stream",
     "text": [
      "\r",
      "  2%|▏         | 48/2471 [00:01<01:19, 30.36it/s]"
     ]
    },
    {
     "name": "stdout",
     "output_type": "stream",
     "text": [
      "AI Trader sold:  $ 5.162700  Profit: $ 0.002200\n",
      "AI Trader bought:  $ 5.163500\n",
      "AI Trader sold:  $ 5.163200  Profit: $ 0.003200\n",
      "AI Trader sold:  $ 5.163100  Profit: $ 0.002600\n",
      "AI Trader bought:  $ 5.164000\n",
      "AI Trader sold:  $ 5.165100  Profit: $ 0.002600\n",
      "AI Trader sold:  $ 5.162500  Profit: - $ 0.000700\n",
      "AI Trader bought:  $ 5.167300\n",
      "AI Trader bought:  $ 5.165300\n",
      "AI Trader sold:  $ 5.166500  Profit: $ 0.004000\n",
      "AI Trader sold:  $ 5.165900  Profit: $ 0.001200\n",
      "AI Trader bought:  $ 5.164900\n"
     ]
    },
    {
     "name": "stderr",
     "output_type": "stream",
     "text": [
      "\r",
      "  3%|▎         | 64/2471 [00:02<01:42, 23.43it/s]"
     ]
    },
    {
     "name": "stdout",
     "output_type": "stream",
     "text": [
      "AI Trader bought:  $ 5.164500\n",
      "AI Trader bought:  $ 5.163500\n",
      "AI Trader bought:  $ 5.165300\n",
      "AI Trader bought:  $ 5.166500\n",
      "AI Trader sold:  $ 5.169000  Profit: $ 0.005200\n",
      "AI Trader sold:  $ 5.167200  Profit: $ 0.002200\n",
      "AI Trader sold:  $ 5.167000  Profit: $ 0.000800\n",
      "AI Trader sold:  $ 5.166500  Profit: $ 0.001500\n",
      "AI Trader bought:  $ 5.167000\n"
     ]
    },
    {
     "name": "stderr",
     "output_type": "stream",
     "text": [
      "\r",
      "  3%|▎         | 80/2471 [00:03<01:55, 20.72it/s]"
     ]
    },
    {
     "name": "stdout",
     "output_type": "stream",
     "text": [
      "AI Trader bought:  $ 5.166500\n",
      "AI Trader bought:  $ 5.167600\n",
      "AI Trader sold:  $ 5.168300  Profit: $ 0.004800\n",
      "AI Trader sold:  $ 5.169100  Profit: $ 0.005100\n",
      "AI Trader bought:  $ 5.170500\n",
      "AI Trader sold:  $ 5.169100  Profit: $ 0.001800\n",
      "AI Trader bought:  $ 5.169500\n",
      "AI Trader bought:  $ 5.166800\n",
      "AI Trader bought:  $ 5.167500\n",
      "AI Trader sold:  $ 5.166500  Profit: $ 0.001200\n",
      "AI Trader bought:  $ 5.167200\n",
      "AI Trader bought:  $ 5.165400\n"
     ]
    },
    {
     "name": "stderr",
     "output_type": "stream",
     "text": [
      "\r",
      "  4%|▍         | 96/2471 [00:04<02:06, 18.84it/s]"
     ]
    },
    {
     "name": "stdout",
     "output_type": "stream",
     "text": [
      "AI Trader sold:  $ 5.167300  Profit: $ 0.002400\n",
      "AI Trader bought:  $ 5.166200\n",
      "AI Trader sold:  $ 5.166500  Profit: $ 0.002000\n",
      "AI Trader sold:  $ 5.166500  Profit: $ 0.003000\n",
      "AI Trader sold:  $ 5.167500  Profit: $ 0.002200\n",
      "AI Trader bought:  $ 5.165800\n",
      "AI Trader bought:  $ 5.166400\n",
      "AI Trader sold:  $ 5.167000  Profit: $ 0.000500\n"
     ]
    },
    {
     "name": "stderr",
     "output_type": "stream",
     "text": [
      "\r",
      "  5%|▍         | 112/2471 [00:05<02:11, 18.00it/s]"
     ]
    },
    {
     "name": "stdout",
     "output_type": "stream",
     "text": [
      "AI Trader sold:  $ 5.166800  Profit: - $ 0.000200\n",
      "AI Trader sold:  $ 5.166900  Profit: $ 0.000400\n",
      "AI Trader bought:  $ 5.163000\n",
      "AI Trader sold:  $ 5.161500  Profit: - $ 0.006100\n",
      "AI Trader sold:  $ 5.161700  Profit: - $ 0.008800\n",
      "AI Trader bought:  $ 5.160200\n",
      "AI Trader sold:  $ 5.159800  Profit: - $ 0.009700\n",
      "AI Trader sold:  $ 5.159700  Profit: - $ 0.007100\n",
      "AI Trader bought:  $ 5.159500\n",
      "AI Trader sold:  $ 5.160000  Profit: - $ 0.007500\n"
     ]
    },
    {
     "name": "stderr",
     "output_type": "stream",
     "text": [
      "\r",
      "  5%|▌         | 128/2471 [00:06<02:14, 17.37it/s]"
     ]
    },
    {
     "name": "stdout",
     "output_type": "stream",
     "text": [
      "AI Trader sold:  $ 5.160500  Profit: - $ 0.006700\n",
      "AI Trader bought:  $ 5.160100\n",
      "AI Trader bought:  $ 5.159200\n",
      "AI Trader sold:  $ 5.160500  Profit: - $ 0.004900\n",
      "AI Trader bought:  $ 5.160200\n",
      "AI Trader bought:  $ 5.162000\n",
      "AI Trader sold:  $ 5.160000  Profit: - $ 0.006200\n",
      "AI Trader bought:  $ 5.159500\n",
      "AI Trader sold:  $ 5.157300  Profit: - $ 0.008500\n",
      "AI Trader sold:  $ 5.156500  Profit: - $ 0.009900\n"
     ]
    },
    {
     "name": "stderr",
     "output_type": "stream",
     "text": [
      "\r",
      "  6%|▌         | 144/2471 [00:07<02:23, 16.18it/s]"
     ]
    },
    {
     "name": "stdout",
     "output_type": "stream",
     "text": [
      "AI Trader sold:  $ 5.156500  Profit: - $ 0.006500\n",
      "AI Trader sold:  $ 5.157200  Profit: - $ 0.003000\n",
      "AI Trader sold:  $ 5.157500  Profit: - $ 0.002000\n",
      "AI Trader bought:  $ 5.155700\n",
      "AI Trader bought:  $ 5.157000\n",
      "AI Trader sold:  $ 5.156500  Profit: - $ 0.003600\n",
      "AI Trader sold:  $ 5.156300  Profit: - $ 0.002900\n",
      "AI Trader sold:  $ 5.156200  Profit: - $ 0.004000\n",
      "AI Trader bought:  $ 5.155900\n",
      "AI Trader sold:  $ 5.157200  Profit: - $ 0.004800\n"
     ]
    },
    {
     "name": "stderr",
     "output_type": "stream",
     "text": [
      "\r",
      "  6%|▋         | 160/2471 [00:08<02:31, 15.23it/s]"
     ]
    },
    {
     "name": "stdout",
     "output_type": "stream",
     "text": [
      "AI Trader sold:  $ 5.157000  Profit: - $ 0.002500\n",
      "AI Trader sold:  $ 5.155900  Profit: $ 0.000200\n",
      "AI Trader sold:  $ 5.157100  Profit: $ 0.000100\n",
      "AI Trader sold:  $ 5.157000  Profit: $ 0.001100\n",
      "AI Trader bought:  $ 5.154500\n",
      "AI Trader sold:  $ 5.152000  Profit: - $ 0.002500\n",
      "AI Trader bought:  $ 5.151700\n",
      "AI Trader sold:  $ 5.151000  Profit: - $ 0.000700\n"
     ]
    },
    {
     "name": "stderr",
     "output_type": "stream",
     "text": [
      "\r",
      "  7%|▋         | 176/2471 [00:10<02:37, 14.61it/s]"
     ]
    },
    {
     "name": "stdout",
     "output_type": "stream",
     "text": [
      "AI Trader bought:  $ 5.150100\n",
      "AI Trader sold:  $ 5.151600  Profit: $ 0.001500\n",
      "AI Trader bought:  $ 5.150000\n",
      "AI Trader sold:  $ 5.148900  Profit: - $ 0.001100\n",
      "AI Trader bought:  $ 5.148000\n"
     ]
    },
    {
     "name": "stderr",
     "output_type": "stream",
     "text": [
      "\r",
      "  8%|▊         | 192/2471 [00:11<02:29, 15.27it/s]"
     ]
    },
    {
     "name": "stdout",
     "output_type": "stream",
     "text": [
      "AI Trader sold:  $ 5.150500  Profit: $ 0.002500\n",
      "AI Trader bought:  $ 5.148000\n",
      "AI Trader bought:  $ 5.150200\n",
      "AI Trader sold:  $ 5.149500  Profit: $ 0.001500\n",
      "AI Trader sold:  $ 5.149800  Profit: - $ 0.000400\n",
      "AI Trader bought:  $ 5.151000\n",
      "AI Trader sold:  $ 5.153500  Profit: $ 0.002500\n"
     ]
    },
    {
     "name": "stderr",
     "output_type": "stream",
     "text": [
      "\r",
      "  8%|▊         | 208/2471 [00:12<02:23, 15.80it/s]"
     ]
    },
    {
     "name": "stdout",
     "output_type": "stream",
     "text": [
      "AI Trader bought:  $ 5.151900\n",
      "AI Trader bought:  $ 5.151600\n",
      "AI Trader sold:  $ 5.151000  Profit: - $ 0.000900\n",
      "AI Trader bought:  $ 5.151500\n",
      "AI Trader sold:  $ 5.150000  Profit: - $ 0.001600\n",
      "AI Trader bought:  $ 5.148400\n",
      "AI Trader sold:  $ 5.150000  Profit: - $ 0.001500\n",
      "AI Trader bought:  $ 5.149500\n",
      "AI Trader bought:  $ 5.147900\n",
      "AI Trader bought:  $ 5.146000\n"
     ]
    },
    {
     "name": "stderr",
     "output_type": "stream",
     "text": [
      "\r",
      "  9%|▉         | 224/2471 [00:13<02:26, 15.37it/s]"
     ]
    },
    {
     "name": "stdout",
     "output_type": "stream",
     "text": [
      "AI Trader sold:  $ 5.145700  Profit: - $ 0.002700\n",
      "AI Trader sold:  $ 5.146000  Profit: - $ 0.003500\n",
      "AI Trader sold:  $ 5.145700  Profit: - $ 0.002200\n",
      "AI Trader sold:  $ 5.147500  Profit: $ 0.001500\n",
      "AI Trader bought:  $ 5.147100\n",
      "AI Trader sold:  $ 5.147000  Profit: - $ 0.000100\n",
      "AI Trader bought:  $ 5.146500\n",
      "AI Trader sold:  $ 5.146000  Profit: - $ 0.000500\n"
     ]
    },
    {
     "name": "stderr",
     "output_type": "stream",
     "text": [
      "\r",
      " 10%|▉         | 240/2471 [00:14<02:26, 15.25it/s]"
     ]
    },
    {
     "name": "stdout",
     "output_type": "stream",
     "text": [
      "AI Trader bought:  $ 5.143500\n",
      "AI Trader sold:  $ 5.144500  Profit: $ 0.001000\n",
      "AI Trader bought:  $ 5.144800\n",
      "AI Trader bought:  $ 5.142300\n",
      "AI Trader sold:  $ 5.143500  Profit: - $ 0.001300\n",
      "AI Trader sold:  $ 5.147200  Profit: $ 0.004900\n",
      "AI Trader bought:  $ 5.146700\n",
      "AI Trader sold:  $ 5.146300  Profit: - $ 0.000400\n"
     ]
    },
    {
     "name": "stderr",
     "output_type": "stream",
     "text": [
      "\r",
      " 10%|█         | 256/2471 [00:15<02:20, 15.75it/s]"
     ]
    },
    {
     "name": "stdout",
     "output_type": "stream",
     "text": [
      "AI Trader bought:  $ 5.146800\n",
      "AI Trader sold:  $ 5.146700  Profit: - $ 0.000100\n",
      "AI Trader bought:  $ 5.146300\n",
      "AI Trader bought:  $ 5.146600\n",
      "AI Trader sold:  $ 5.147500  Profit: $ 0.001200\n",
      "AI Trader bought:  $ 5.146700\n",
      "AI Trader bought:  $ 5.146500\n",
      "AI Trader bought:  $ 5.147100\n"
     ]
    },
    {
     "name": "stderr",
     "output_type": "stream",
     "text": [
      "\r",
      " 11%|█         | 272/2471 [00:16<02:20, 15.67it/s]"
     ]
    },
    {
     "name": "stdout",
     "output_type": "stream",
     "text": [
      "AI Trader bought:  $ 5.146000\n",
      "AI Trader sold:  $ 5.146500  Profit: - $ 0.000100\n",
      "AI Trader sold:  $ 5.148500  Profit: $ 0.001800\n",
      "AI Trader sold:  $ 5.148800  Profit: $ 0.002300\n",
      "AI Trader bought:  $ 5.149000\n",
      "AI Trader sold:  $ 5.149500  Profit: $ 0.002400\n",
      "AI Trader sold:  $ 5.150000  Profit: $ 0.004000\n",
      "AI Trader sold:  $ 5.149300  Profit: $ 0.000300\n",
      "AI Trader bought:  $ 5.148800\n",
      "AI Trader sold:  $ 5.147000  Profit: - $ 0.001800\n"
     ]
    },
    {
     "name": "stderr",
     "output_type": "stream",
     "text": [
      "\r",
      " 12%|█▏        | 288/2471 [00:17<02:23, 15.25it/s]"
     ]
    },
    {
     "name": "stdout",
     "output_type": "stream",
     "text": [
      "AI Trader bought:  $ 5.146000\n",
      "AI Trader sold:  $ 5.148500  Profit: $ 0.002500\n",
      "AI Trader bought:  $ 5.148000\n",
      "AI Trader sold:  $ 5.146500  Profit: - $ 0.001500\n"
     ]
    },
    {
     "name": "stderr",
     "output_type": "stream",
     "text": [
      "\r",
      " 12%|█▏        | 304/2471 [00:18<02:32, 14.22it/s]"
     ]
    },
    {
     "name": "stdout",
     "output_type": "stream",
     "text": [
      "AI Trader bought:  $ 5.149000\n",
      "AI Trader bought:  $ 5.150000\n",
      "AI Trader sold:  $ 5.148600  Profit: - $ 0.000400\n",
      "AI Trader bought:  $ 5.148500\n",
      "AI Trader bought:  $ 5.148600\n"
     ]
    },
    {
     "name": "stderr",
     "output_type": "stream",
     "text": [
      "\r",
      " 13%|█▎        | 320/2471 [00:19<02:25, 14.81it/s]"
     ]
    },
    {
     "name": "stdout",
     "output_type": "stream",
     "text": [
      "AI Trader bought:  $ 5.148600\n",
      "AI Trader bought:  $ 5.147500\n",
      "AI Trader sold:  $ 5.147000  Profit: - $ 0.003000\n",
      "AI Trader bought:  $ 5.147500\n",
      "AI Trader sold:  $ 5.148600  Profit: $ 0.000100\n",
      "AI Trader sold:  $ 5.147500  Profit: - $ 0.001100\n",
      "AI Trader sold:  $ 5.148000  Profit: - $ 0.000600\n",
      "AI Trader bought:  $ 5.149300\n",
      "AI Trader sold:  $ 5.149000  Profit: $ 0.001500\n",
      "AI Trader bought:  $ 5.148500\n",
      "AI Trader bought:  $ 5.148000\n"
     ]
    },
    {
     "name": "stderr",
     "output_type": "stream",
     "text": [
      "\r",
      " 14%|█▎        | 336/2471 [00:20<02:25, 14.66it/s]"
     ]
    },
    {
     "name": "stdout",
     "output_type": "stream",
     "text": [
      "AI Trader bought:  $ 5.149000\n",
      "AI Trader bought:  $ 5.149500\n",
      "AI Trader sold:  $ 5.150000  Profit: $ 0.002500\n",
      "AI Trader sold:  $ 5.151500  Profit: $ 0.002200\n",
      "AI Trader bought:  $ 5.151800\n",
      "AI Trader sold:  $ 5.152000  Profit: $ 0.003500\n",
      "AI Trader bought:  $ 5.153500\n",
      "AI Trader sold:  $ 5.151700  Profit: $ 0.003700\n",
      "AI Trader bought:  $ 5.152800\n",
      "AI Trader sold:  $ 5.152500  Profit: $ 0.003500\n",
      "AI Trader sold:  $ 5.153800  Profit: $ 0.004300\n"
     ]
    },
    {
     "name": "stderr",
     "output_type": "stream",
     "text": [
      "\r",
      " 14%|█▍        | 352/2471 [00:22<02:38, 13.33it/s]"
     ]
    },
    {
     "name": "stdout",
     "output_type": "stream",
     "text": [
      "AI Trader bought:  $ 5.154000\n",
      "AI Trader bought:  $ 5.154000\n",
      "AI Trader sold:  $ 5.153000  Profit: $ 0.001200\n",
      "AI Trader bought:  $ 5.152500\n",
      "AI Trader bought:  $ 5.152400\n",
      "AI Trader sold:  $ 5.153500  Profit: $ 0.000000\n",
      "AI Trader sold:  $ 5.154500  Profit: $ 0.001700\n"
     ]
    },
    {
     "name": "stderr",
     "output_type": "stream",
     "text": [
      "\r",
      " 15%|█▍        | 368/2471 [00:23<02:35, 13.52it/s]"
     ]
    },
    {
     "name": "stdout",
     "output_type": "stream",
     "text": [
      "AI Trader bought:  $ 5.155000\n",
      "AI Trader sold:  $ 5.154600  Profit: $ 0.000600\n",
      "AI Trader bought:  $ 5.155000\n",
      "AI Trader sold:  $ 5.154200  Profit: $ 0.000200\n",
      "AI Trader bought:  $ 5.155500\n",
      "AI Trader bought:  $ 5.157800\n",
      "AI Trader bought:  $ 5.158300\n",
      "AI Trader sold:  $ 5.157800  Profit: $ 0.005300\n",
      "AI Trader bought:  $ 5.157200\n",
      "AI Trader sold:  $ 5.157600  Profit: $ 0.005200\n",
      "AI Trader bought:  $ 5.159300\n",
      "AI Trader sold:  $ 5.159900  Profit: $ 0.004900\n",
      "AI Trader sold:  $ 5.160000  Profit: $ 0.005000\n",
      "AI Trader bought:  $ 5.160200\n",
      "AI Trader sold:  $ 5.160000  Profit: $ 0.004500\n"
     ]
    },
    {
     "name": "stderr",
     "output_type": "stream",
     "text": [
      "\r",
      " 16%|█▌        | 384/2471 [00:24<02:23, 14.55it/s]"
     ]
    },
    {
     "name": "stdout",
     "output_type": "stream",
     "text": [
      "AI Trader bought:  $ 5.159800\n",
      "AI Trader bought:  $ 5.160200\n",
      "AI Trader bought:  $ 5.160600\n",
      "AI Trader bought:  $ 5.162500\n",
      "AI Trader sold:  $ 5.162500  Profit: $ 0.004700\n",
      "AI Trader bought:  $ 5.161700\n",
      "AI Trader bought:  $ 5.161000\n",
      "AI Trader bought:  $ 5.162000\n",
      "AI Trader bought:  $ 5.162100\n",
      "AI Trader bought:  $ 5.162300\n"
     ]
    },
    {
     "name": "stderr",
     "output_type": "stream",
     "text": [
      " 16%|█▋        | 405/2471 [00:25<01:55, 17.96it/s]"
     ]
    },
    {
     "name": "stdout",
     "output_type": "stream",
     "text": [
      "AI Trader sold:  $ 5.160500  Profit: $ 0.002200\n",
      "AI Trader sold:  $ 5.159800  Profit: $ 0.002600\n",
      "AI Trader sold:  $ 5.160600  Profit: $ 0.001300\n",
      "AI Trader bought:  $ 5.160800\n",
      "AI Trader bought:  $ 5.161500\n",
      "AI Trader bought:  $ 5.162300\n",
      "AI Trader bought:  $ 5.162700\n",
      "AI Trader bought:  $ 5.160500\n"
     ]
    },
    {
     "name": "stderr",
     "output_type": "stream",
     "text": [
      "\r",
      " 17%|█▋        | 416/2471 [00:26<02:15, 15.15it/s]"
     ]
    },
    {
     "name": "stdout",
     "output_type": "stream",
     "text": [
      "AI Trader sold:  $ 5.161500  Profit: $ 0.001300\n",
      "AI Trader sold:  $ 5.162500  Profit: $ 0.002700\n",
      "AI Trader sold:  $ 5.161000  Profit: $ 0.000800\n",
      "AI Trader sold:  $ 5.160200  Profit: - $ 0.000400\n",
      "AI Trader sold:  $ 5.160000  Profit: - $ 0.002500\n",
      "AI Trader sold:  $ 5.160800  Profit: - $ 0.000900\n"
     ]
    },
    {
     "name": "stderr",
     "output_type": "stream",
     "text": [
      "\r",
      " 17%|█▋        | 432/2471 [00:27<02:20, 14.52it/s]"
     ]
    },
    {
     "name": "stdout",
     "output_type": "stream",
     "text": [
      "AI Trader bought:  $ 5.160600\n",
      "AI Trader sold:  $ 5.162800  Profit: $ 0.001800\n",
      "AI Trader bought:  $ 5.162700\n",
      "AI Trader sold:  $ 5.162900  Profit: $ 0.000900\n",
      "AI Trader sold:  $ 5.161700  Profit: - $ 0.000400\n",
      "AI Trader sold:  $ 5.163500  Profit: $ 0.001200\n",
      "AI Trader bought:  $ 5.163800\n",
      "AI Trader sold:  $ 5.166800  Profit: $ 0.006000\n",
      "AI Trader bought:  $ 5.165100\n",
      "AI Trader sold:  $ 5.163500  Profit: $ 0.002000\n"
     ]
    },
    {
     "name": "stderr",
     "output_type": "stream",
     "text": [
      "\r",
      " 18%|█▊        | 448/2471 [00:28<02:12, 15.25it/s]"
     ]
    },
    {
     "name": "stdout",
     "output_type": "stream",
     "text": [
      "AI Trader sold:  $ 5.163200  Profit: $ 0.000900\n",
      "AI Trader bought:  $ 5.162500\n",
      "AI Trader sold:  $ 5.162700  Profit: $ 0.000000\n",
      "AI Trader sold:  $ 5.162000  Profit: $ 0.001500\n",
      "AI Trader bought:  $ 5.160800\n",
      "AI Trader bought:  $ 5.162000\n",
      "AI Trader bought:  $ 5.162700\n",
      "AI Trader sold:  $ 5.162000  Profit: $ 0.001400\n",
      "AI Trader bought:  $ 5.162300\n",
      "AI Trader bought:  $ 5.162000\n"
     ]
    },
    {
     "name": "stderr",
     "output_type": "stream",
     "text": [
      "\r",
      " 19%|█▉        | 464/2471 [00:29<02:09, 15.54it/s]"
     ]
    },
    {
     "name": "stdout",
     "output_type": "stream",
     "text": [
      "AI Trader bought:  $ 5.161700\n",
      "AI Trader bought:  $ 5.162300\n",
      "AI Trader bought:  $ 5.161700\n",
      "AI Trader sold:  $ 5.161300  Profit: - $ 0.001400\n",
      "AI Trader sold:  $ 5.162000  Profit: - $ 0.001800\n",
      "AI Trader bought:  $ 5.163500\n"
     ]
    },
    {
     "name": "stderr",
     "output_type": "stream",
     "text": [
      "\r",
      " 19%|█▉        | 480/2471 [00:30<02:04, 15.98it/s]"
     ]
    },
    {
     "name": "stdout",
     "output_type": "stream",
     "text": [
      "AI Trader bought:  $ 5.162100\n",
      "AI Trader sold:  $ 5.160700  Profit: - $ 0.004400\n",
      "AI Trader sold:  $ 5.160800  Profit: - $ 0.001700\n",
      "AI Trader bought:  $ 5.161500\n",
      "AI Trader bought:  $ 5.162200\n",
      "AI Trader sold:  $ 5.161600  Profit: $ 0.000800\n",
      "AI Trader bought:  $ 5.159000\n",
      "AI Trader bought:  $ 5.162000\n",
      "AI Trader bought:  $ 5.163400\n",
      "AI Trader bought:  $ 5.163000\n",
      "AI Trader sold:  $ 5.164100  Profit: $ 0.002100\n"
     ]
    },
    {
     "name": "stderr",
     "output_type": "stream",
     "text": [
      " 20%|██        | 506/2471 [00:31<01:30, 21.62it/s]"
     ]
    },
    {
     "name": "stdout",
     "output_type": "stream",
     "text": [
      "AI Trader bought:  $ 5.163700\n",
      "AI Trader sold:  $ 5.161000  Profit: - $ 0.001700\n",
      "AI Trader bought:  $ 5.162000\n"
     ]
    },
    {
     "name": "stderr",
     "output_type": "stream",
     "text": [
      "\r",
      " 21%|██        | 512/2471 [00:32<02:36, 12.50it/s]"
     ]
    },
    {
     "name": "stdout",
     "output_type": "stream",
     "text": [
      "AI Trader sold:  $ 5.159500  Profit: - $ 0.002800\n",
      "AI Trader bought:  $ 5.158600\n",
      "AI Trader sold:  $ 5.157800  Profit: - $ 0.004200\n",
      "AI Trader bought:  $ 5.157000\n",
      "AI Trader sold:  $ 5.156500  Profit: - $ 0.005200\n",
      "AI Trader bought:  $ 5.158000\n",
      "AI Trader sold:  $ 5.158900  Profit: - $ 0.003400\n",
      "AI Trader sold:  $ 5.158600  Profit: - $ 0.003100\n",
      "AI Trader bought:  $ 5.159200\n",
      "AI Trader bought:  $ 5.158300\n"
     ]
    },
    {
     "name": "stderr",
     "output_type": "stream",
     "text": [
      "\r",
      " 21%|██▏       | 528/2471 [00:33<02:24, 13.45it/s]"
     ]
    },
    {
     "name": "stdout",
     "output_type": "stream",
     "text": [
      "AI Trader sold:  $ 5.158300  Profit: - $ 0.005200\n",
      "AI Trader bought:  $ 5.159600\n",
      "AI Trader sold:  $ 5.160100  Profit: - $ 0.002000\n",
      "AI Trader bought:  $ 5.160100\n",
      "AI Trader sold:  $ 5.159000  Profit: - $ 0.002500\n",
      "AI Trader sold:  $ 5.160700  Profit: - $ 0.001500\n",
      "AI Trader sold:  $ 5.161400  Profit: $ 0.002400\n",
      "AI Trader bought:  $ 5.166200\n"
     ]
    },
    {
     "name": "stderr",
     "output_type": "stream",
     "text": [
      " 23%|██▎       | 558/2471 [00:34<01:24, 22.65it/s]"
     ]
    },
    {
     "name": "stdout",
     "output_type": "stream",
     "text": [
      "AI Trader sold:  $ 5.166400  Profit: $ 0.004400\n",
      "AI Trader sold:  $ 5.166700  Profit: $ 0.003300\n",
      "AI Trader sold:  $ 5.166500  Profit: $ 0.003500\n",
      "AI Trader bought:  $ 5.161700\n",
      "AI Trader bought:  $ 5.164500\n",
      "AI Trader bought:  $ 5.163300\n",
      "AI Trader sold:  $ 5.162700  Profit: - $ 0.001000\n",
      "AI Trader sold:  $ 5.162500  Profit: $ 0.000500\n",
      "AI Trader sold:  $ 5.161900  Profit: $ 0.003300\n",
      "AI Trader sold:  $ 5.161400  Profit: $ 0.004400\n",
      "AI Trader sold:  $ 5.161800  Profit: $ 0.003800\n"
     ]
    },
    {
     "name": "stderr",
     "output_type": "stream",
     "text": [
      "\r",
      " 23%|██▎       | 563/2471 [00:35<02:49, 11.26it/s]"
     ]
    },
    {
     "name": "stdout",
     "output_type": "stream",
     "text": [
      "AI Trader sold:  $ 5.163700  Profit: $ 0.004500\n",
      "AI Trader bought:  $ 5.163300\n",
      "AI Trader bought:  $ 5.162900\n",
      "AI Trader sold:  $ 5.163400  Profit: $ 0.005100\n",
      "AI Trader sold:  $ 5.165600  Profit: $ 0.006000\n",
      "AI Trader sold:  $ 5.164000  Profit: $ 0.003900\n",
      "AI Trader bought:  $ 5.166400\n",
      "AI Trader sold:  $ 5.166700  Profit: $ 0.000500\n",
      "AI Trader sold:  $ 5.166100  Profit: $ 0.004400\n"
     ]
    },
    {
     "name": "stderr",
     "output_type": "stream",
     "text": [
      "\r",
      " 23%|██▎       | 576/2471 [00:36<02:47, 11.31it/s]"
     ]
    },
    {
     "name": "stdout",
     "output_type": "stream",
     "text": [
      "AI Trader sold:  $ 5.167000  Profit: $ 0.002500\n",
      "AI Trader sold:  $ 5.168100  Profit: $ 0.004800\n",
      "AI Trader bought:  $ 5.169600\n",
      "AI Trader sold:  $ 5.170000  Profit: $ 0.006700\n",
      "AI Trader bought:  $ 5.169200\n",
      "AI Trader bought:  $ 5.168500\n",
      "AI Trader bought:  $ 5.169600\n",
      "AI Trader sold:  $ 5.168300  Profit: $ 0.005400\n",
      "AI Trader bought:  $ 5.169000\n"
     ]
    },
    {
     "name": "stderr",
     "output_type": "stream",
     "text": [
      "\r",
      " 24%|██▍       | 592/2471 [00:38<02:35, 12.07it/s]"
     ]
    },
    {
     "name": "stdout",
     "output_type": "stream",
     "text": [
      "AI Trader sold:  $ 5.169600  Profit: $ 0.003200\n",
      "AI Trader sold:  $ 5.169500  Profit: - $ 0.000100\n",
      "AI Trader bought:  $ 5.170700\n",
      "AI Trader bought:  $ 5.169500\n",
      "AI Trader bought:  $ 5.170000\n",
      "AI Trader sold:  $ 5.170500  Profit: $ 0.001300\n",
      "AI Trader sold:  $ 5.167600  Profit: - $ 0.000900\n",
      "AI Trader sold:  $ 5.168100  Profit: - $ 0.001500\n",
      "AI Trader sold:  $ 5.167600  Profit: - $ 0.001400\n",
      "AI Trader sold:  $ 5.167400  Profit: - $ 0.003300\n",
      "AI Trader sold:  $ 5.166900  Profit: - $ 0.002600\n",
      "AI Trader sold:  $ 5.168400  Profit: - $ 0.001600\n",
      "AI Trader bought:  $ 5.167700\n"
     ]
    },
    {
     "name": "stderr",
     "output_type": "stream",
     "text": [
      " 25%|██▍       | 617/2471 [00:39<01:52, 16.49it/s]"
     ]
    },
    {
     "name": "stdout",
     "output_type": "stream",
     "text": [
      "AI Trader bought:  $ 5.169100\n",
      "AI Trader sold:  $ 5.167500  Profit: - $ 0.000200\n",
      "AI Trader sold:  $ 5.170400  Profit: $ 0.001300\n",
      "AI Trader bought:  $ 5.170900\n",
      "AI Trader sold:  $ 5.171900  Profit: $ 0.001000\n",
      "AI Trader bought:  $ 5.172400\n",
      "AI Trader sold:  $ 5.170500  Profit: - $ 0.001900\n"
     ]
    },
    {
     "name": "stderr",
     "output_type": "stream",
     "text": [
      "\r",
      " 25%|██▌       | 624/2471 [00:40<02:41, 11.45it/s]"
     ]
    },
    {
     "name": "stdout",
     "output_type": "stream",
     "text": [
      "AI Trader bought:  $ 5.173300\n",
      "AI Trader sold:  $ 5.173000  Profit: - $ 0.000300\n",
      "AI Trader bought:  $ 5.174000\n",
      "AI Trader bought:  $ 5.173900\n",
      "AI Trader sold:  $ 5.173700  Profit: - $ 0.000300\n",
      "AI Trader sold:  $ 5.173200  Profit: - $ 0.000700\n"
     ]
    },
    {
     "name": "stderr",
     "output_type": "stream",
     "text": [
      "\r",
      " 26%|██▌       | 640/2471 [00:41<02:26, 12.51it/s]"
     ]
    },
    {
     "name": "stdout",
     "output_type": "stream",
     "text": [
      "AI Trader bought:  $ 5.174100\n",
      "AI Trader sold:  $ 5.175500  Profit: $ 0.001400\n",
      "AI Trader bought:  $ 5.175600\n",
      "AI Trader sold:  $ 5.175300  Profit: - $ 0.000300\n",
      "AI Trader bought:  $ 5.175400\n",
      "AI Trader sold:  $ 5.174000  Profit: - $ 0.001400\n",
      "AI Trader bought:  $ 5.175700\n",
      "AI Trader sold:  $ 5.177600  Profit: $ 0.001900\n"
     ]
    },
    {
     "name": "stderr",
     "output_type": "stream",
     "text": [
      "\r",
      " 27%|██▋       | 656/2471 [00:42<02:14, 13.45it/s]"
     ]
    },
    {
     "name": "stdout",
     "output_type": "stream",
     "text": [
      "AI Trader bought:  $ 5.175300\n",
      "AI Trader bought:  $ 5.176400\n",
      "AI Trader sold:  $ 5.176100  Profit: $ 0.000800\n",
      "AI Trader sold:  $ 5.175700  Profit: - $ 0.000700\n",
      "AI Trader bought:  $ 5.171500\n",
      "AI Trader sold:  $ 5.172500  Profit: $ 0.001000\n"
     ]
    },
    {
     "name": "stderr",
     "output_type": "stream",
     "text": [
      " 28%|██▊       | 684/2471 [00:43<01:40, 17.74it/s]"
     ]
    },
    {
     "name": "stdout",
     "output_type": "stream",
     "text": [
      "AI Trader bought:  $ 5.174000\n",
      "AI Trader sold:  $ 5.175200  Profit: $ 0.001200\n",
      "AI Trader bought:  $ 5.175200\n",
      "AI Trader bought:  $ 5.174000\n",
      "AI Trader bought:  $ 5.175300\n",
      "AI Trader bought:  $ 5.173100\n",
      "AI Trader bought:  $ 5.173100\n",
      "AI Trader sold:  $ 5.173700  Profit: - $ 0.001500\n"
     ]
    },
    {
     "name": "stderr",
     "output_type": "stream",
     "text": [
      " 28%|██▊       | 702/2471 [00:45<02:40, 11.03it/s]"
     ]
    },
    {
     "name": "stdout",
     "output_type": "stream",
     "text": [
      "AI Trader sold:  $ 5.173400  Profit: - $ 0.000600\n",
      "AI Trader sold:  $ 5.173200  Profit: - $ 0.002100\n",
      "AI Trader sold:  $ 5.173400  Profit: $ 0.000300\n",
      "AI Trader sold:  $ 5.172500  Profit: - $ 0.000600\n",
      "AI Trader bought:  $ 5.174500\n",
      "AI Trader sold:  $ 5.174300  Profit: - $ 0.000200\n",
      "AI Trader bought:  $ 5.175000\n",
      "AI Trader bought:  $ 5.175400\n",
      "AI Trader sold:  $ 5.175300  Profit: $ 0.000300\n"
     ]
    },
    {
     "name": "stderr",
     "output_type": "stream",
     "text": [
      "\r",
      " 29%|██▊       | 708/2471 [00:45<03:12,  9.17it/s]"
     ]
    },
    {
     "name": "stdout",
     "output_type": "stream",
     "text": [
      "AI Trader sold:  $ 5.175200  Profit: - $ 0.000200\n",
      "AI Trader bought:  $ 5.175300\n",
      "AI Trader sold:  $ 5.174800  Profit: - $ 0.000500\n",
      "AI Trader bought:  $ 5.177400\n",
      "AI Trader bought:  $ 5.177900\n"
     ]
    },
    {
     "name": "stderr",
     "output_type": "stream",
     "text": [
      "\r",
      " 29%|██▉       | 720/2471 [00:46<02:56,  9.93it/s]"
     ]
    },
    {
     "name": "stdout",
     "output_type": "stream",
     "text": [
      "AI Trader bought:  $ 5.176600\n",
      "AI Trader bought:  $ 5.176200\n",
      "AI Trader bought:  $ 5.180000\n",
      "AI Trader sold:  $ 5.181000  Profit: $ 0.003600\n",
      "AI Trader bought:  $ 5.180400\n",
      "AI Trader bought:  $ 5.182200\n",
      "AI Trader sold:  $ 5.180600  Profit: $ 0.002700\n",
      "AI Trader sold:  $ 5.180500  Profit: $ 0.003900\n",
      "AI Trader bought:  $ 5.182000\n",
      "AI Trader bought:  $ 5.181600\n",
      "AI Trader bought:  $ 5.181600\n"
     ]
    },
    {
     "name": "stderr",
     "output_type": "stream",
     "text": [
      " 30%|███       | 746/2471 [00:48<01:56, 14.79it/s]"
     ]
    },
    {
     "name": "stdout",
     "output_type": "stream",
     "text": [
      "AI Trader sold:  $ 5.180900  Profit: $ 0.004700\n",
      "AI Trader sold:  $ 5.179500  Profit: - $ 0.000500\n",
      "AI Trader sold:  $ 5.180600  Profit: $ 0.000200\n",
      "AI Trader sold:  $ 5.181200  Profit: - $ 0.001000\n",
      "AI Trader bought:  $ 5.183700\n",
      "AI Trader sold:  $ 5.184000  Profit: $ 0.002000\n",
      "AI Trader sold:  $ 5.184500  Profit: $ 0.002900\n"
     ]
    },
    {
     "name": "stderr",
     "output_type": "stream",
     "text": [
      "\r",
      " 30%|███       | 752/2471 [00:49<02:51, 10.04it/s]"
     ]
    },
    {
     "name": "stdout",
     "output_type": "stream",
     "text": [
      "AI Trader bought:  $ 5.185300\n",
      "AI Trader bought:  $ 5.185100\n",
      "AI Trader bought:  $ 5.184100\n",
      "AI Trader bought:  $ 5.180600\n",
      "AI Trader bought:  $ 5.181400\n",
      "AI Trader sold:  $ 5.180600  Profit: - $ 0.001000\n",
      "AI Trader sold:  $ 5.180300  Profit: - $ 0.003400\n",
      "AI Trader sold:  $ 5.180600  Profit: - $ 0.004700\n",
      "AI Trader sold:  $ 5.183600  Profit: - $ 0.001500\n",
      "AI Trader sold:  $ 5.181000  Profit: - $ 0.003100\n"
     ]
    },
    {
     "name": "stderr",
     "output_type": "stream",
     "text": [
      " 32%|███▏      | 783/2471 [00:50<01:58, 14.27it/s]"
     ]
    },
    {
     "name": "stdout",
     "output_type": "stream",
     "text": [
      "AI Trader bought:  $ 5.183000\n",
      "AI Trader sold:  $ 5.182700  Profit: $ 0.002100\n",
      "AI Trader sold:  $ 5.183900  Profit: $ 0.002500\n",
      "AI Trader sold:  $ 5.183100  Profit: $ 0.000100\n",
      "AI Trader bought:  $ 5.181500\n",
      "AI Trader sold:  $ 5.179800  Profit: - $ 0.001700\n",
      "AI Trader bought:  $ 5.183400\n",
      "AI Trader sold:  $ 5.182500  Profit: - $ 0.000900\n"
     ]
    },
    {
     "name": "stderr",
     "output_type": "stream",
     "text": [
      "\r",
      " 32%|███▏      | 790/2471 [00:51<02:41, 10.43it/s]"
     ]
    },
    {
     "name": "stdout",
     "output_type": "stream",
     "text": [
      "AI Trader bought:  $ 5.182700\n",
      "AI Trader bought:  $ 5.186900\n",
      "AI Trader sold:  $ 5.186600  Profit: $ 0.003900\n",
      "AI Trader sold:  $ 5.187100  Profit: $ 0.000200\n",
      "AI Trader bought:  $ 5.187000\n",
      "AI Trader sold:  $ 5.186600  Profit: - $ 0.000400\n",
      "AI Trader bought:  $ 5.186400\n"
     ]
    },
    {
     "name": "stderr",
     "output_type": "stream",
     "text": [
      "\r",
      " 32%|███▏      | 800/2471 [00:52<02:46, 10.01it/s]"
     ]
    },
    {
     "name": "stdout",
     "output_type": "stream",
     "text": [
      "AI Trader bought:  $ 5.186700\n",
      "AI Trader bought:  $ 5.187100\n",
      "AI Trader sold:  $ 5.187100  Profit: $ 0.000700\n",
      "AI Trader sold:  $ 5.186700  Profit: $ 0.000000\n",
      "AI Trader bought:  $ 5.186100\n",
      "AI Trader bought:  $ 5.185500\n",
      "AI Trader sold:  $ 5.184400  Profit: - $ 0.002700\n",
      "AI Trader bought:  $ 5.183000\n",
      "AI Trader sold:  $ 5.182800  Profit: - $ 0.003300\n",
      "AI Trader sold:  $ 5.185600  Profit: $ 0.000100\n",
      "AI Trader sold:  $ 5.186100  Profit: $ 0.003100\n",
      "AI Trader bought:  $ 5.184500\n"
     ]
    },
    {
     "name": "stderr",
     "output_type": "stream",
     "text": [
      " 34%|███▎      | 830/2471 [00:54<01:32, 17.65it/s]"
     ]
    },
    {
     "name": "stdout",
     "output_type": "stream",
     "text": [
      "AI Trader bought:  $ 5.186700\n",
      "AI Trader bought:  $ 5.187900\n",
      "AI Trader bought:  $ 5.187500\n",
      "AI Trader bought:  $ 5.186700\n",
      "AI Trader bought:  $ 5.186100\n",
      "AI Trader sold:  $ 5.185600  Profit: $ 0.001100\n",
      "AI Trader bought:  $ 5.186100\n",
      "AI Trader bought:  $ 5.185800\n",
      "AI Trader bought:  $ 5.185100\n",
      "AI Trader bought:  $ 5.186600\n",
      "AI Trader bought:  $ 5.186900\n"
     ]
    },
    {
     "name": "stderr",
     "output_type": "stream",
     "text": [
      "\r",
      " 34%|███▍      | 835/2471 [00:55<02:38, 10.30it/s]"
     ]
    },
    {
     "name": "stdout",
     "output_type": "stream",
     "text": [
      "AI Trader sold:  $ 5.190900  Profit: $ 0.004200\n",
      "AI Trader sold:  $ 5.190000  Profit: $ 0.002100\n",
      "AI Trader bought:  $ 5.189000\n",
      "AI Trader bought:  $ 5.190600\n",
      "AI Trader sold:  $ 5.189700  Profit: $ 0.002200\n",
      "AI Trader sold:  $ 5.191000  Profit: $ 0.004300\n",
      "AI Trader bought:  $ 5.192000\n",
      "AI Trader sold:  $ 5.192700  Profit: $ 0.006600\n",
      "AI Trader bought:  $ 5.190600\n",
      "AI Trader sold:  $ 5.190200  Profit: $ 0.004100\n",
      "AI Trader bought:  $ 5.189700\n",
      "AI Trader sold:  $ 5.190000  Profit: $ 0.004200\n",
      "AI Trader bought:  $ 5.189600\n",
      "AI Trader bought:  $ 5.190200\n",
      "AI Trader bought:  $ 5.191000\n"
     ]
    },
    {
     "name": "stderr",
     "output_type": "stream",
     "text": [
      " 35%|███▍      | 859/2471 [00:56<01:50, 14.57it/s]"
     ]
    },
    {
     "name": "stdout",
     "output_type": "stream",
     "text": [
      "AI Trader sold:  $ 5.191400  Profit: $ 0.006300\n",
      "AI Trader bought:  $ 5.190900\n",
      "AI Trader sold:  $ 5.190600  Profit: $ 0.004000\n",
      "AI Trader sold:  $ 5.191900  Profit: $ 0.005000\n",
      "AI Trader bought:  $ 5.191500\n",
      "AI Trader sold:  $ 5.189800  Profit: $ 0.000800\n",
      "AI Trader bought:  $ 5.191000\n",
      "AI Trader sold:  $ 5.190100  Profit: - $ 0.000500\n",
      "AI Trader bought:  $ 5.189800\n",
      "AI Trader sold:  $ 5.191200  Profit: - $ 0.000800\n",
      "AI Trader bought:  $ 5.191400\n",
      "AI Trader sold:  $ 5.191000  Profit: $ 0.000400\n"
     ]
    },
    {
     "name": "stderr",
     "output_type": "stream",
     "text": [
      "\r",
      " 35%|███▌      | 865/2471 [00:57<02:34, 10.40it/s]"
     ]
    },
    {
     "name": "stdout",
     "output_type": "stream",
     "text": [
      "AI Trader bought:  $ 5.193100\n",
      "AI Trader bought:  $ 5.191800\n",
      "AI Trader sold:  $ 5.192000  Profit: $ 0.002300\n",
      "AI Trader sold:  $ 5.192500  Profit: $ 0.002900\n",
      "AI Trader bought:  $ 5.193100\n",
      "AI Trader sold:  $ 5.192800  Profit: $ 0.002600\n",
      "AI Trader bought:  $ 5.192700\n",
      "AI Trader sold:  $ 5.191800  Profit: $ 0.000800\n"
     ]
    },
    {
     "name": "stderr",
     "output_type": "stream",
     "text": [
      " 36%|███▌      | 887/2471 [00:58<01:50, 14.38it/s]"
     ]
    },
    {
     "name": "stdout",
     "output_type": "stream",
     "text": [
      "AI Trader sold:  $ 5.192200  Profit: $ 0.001300\n",
      "AI Trader bought:  $ 5.190000\n",
      "AI Trader sold:  $ 5.187800  Profit: - $ 0.003700\n",
      "AI Trader sold:  $ 5.187900  Profit: - $ 0.003100\n",
      "AI Trader sold:  $ 5.188200  Profit: - $ 0.001600\n",
      "AI Trader sold:  $ 5.187500  Profit: - $ 0.003900\n"
     ]
    },
    {
     "name": "stderr",
     "output_type": "stream",
     "text": [
      "\r",
      " 36%|███▋      | 896/2471 [01:00<02:18, 11.41it/s]"
     ]
    },
    {
     "name": "stdout",
     "output_type": "stream",
     "text": [
      "AI Trader bought:  $ 5.186500\n",
      "AI Trader sold:  $ 5.187400  Profit: - $ 0.005700\n",
      "AI Trader bought:  $ 5.187500\n",
      "AI Trader sold:  $ 5.188300  Profit: - $ 0.003500\n",
      "AI Trader sold:  $ 5.187900  Profit: - $ 0.005200\n",
      "AI Trader sold:  $ 5.188600  Profit: - $ 0.004100\n",
      "AI Trader sold:  $ 5.188900  Profit: - $ 0.001100\n",
      "AI Trader sold:  $ 5.188200  Profit: $ 0.001700\n",
      "AI Trader bought:  $ 5.187900\n",
      "AI Trader sold:  $ 5.188200  Profit: $ 0.000700\n"
     ]
    },
    {
     "name": "stderr",
     "output_type": "stream",
     "text": [
      "\r",
      " 37%|███▋      | 912/2471 [01:01<02:04, 12.52it/s]"
     ]
    },
    {
     "name": "stdout",
     "output_type": "stream",
     "text": [
      "AI Trader sold:  $ 5.187500  Profit: - $ 0.000400\n",
      "AI Trader bought:  $ 5.186200\n",
      "AI Trader sold:  $ 5.188200  Profit: $ 0.002000\n",
      "AI Trader bought:  $ 5.187000\n",
      "AI Trader bought:  $ 5.188000\n",
      "AI Trader bought:  $ 5.188600\n",
      "AI Trader sold:  $ 5.188900  Profit: $ 0.001900\n",
      "AI Trader sold:  $ 5.188200  Profit: $ 0.000200\n",
      "AI Trader sold:  $ 5.187600  Profit: - $ 0.001000\n"
     ]
    },
    {
     "name": "stderr",
     "output_type": "stream",
     "text": [
      "\r",
      " 38%|███▊      | 928/2471 [01:02<01:57, 13.13it/s]"
     ]
    },
    {
     "name": "stdout",
     "output_type": "stream",
     "text": [
      "AI Trader bought:  $ 5.190900\n",
      "AI Trader sold:  $ 5.190600  Profit: - $ 0.000300\n",
      "AI Trader bought:  $ 5.189900\n",
      "AI Trader sold:  $ 5.189200  Profit: - $ 0.000700\n"
     ]
    },
    {
     "name": "stderr",
     "output_type": "stream",
     "text": [
      "\r",
      " 38%|███▊      | 944/2471 [01:03<01:58, 12.92it/s]"
     ]
    },
    {
     "name": "stdout",
     "output_type": "stream",
     "text": [
      "AI Trader bought:  $ 5.180600\n",
      "AI Trader sold:  $ 5.182300  Profit: $ 0.001700\n",
      "AI Trader bought:  $ 5.181600\n",
      "AI Trader bought:  $ 5.180900\n",
      "AI Trader sold:  $ 5.182400  Profit: $ 0.000800\n",
      "AI Trader bought:  $ 5.181900\n",
      "AI Trader sold:  $ 5.180100  Profit: - $ 0.000800\n",
      "AI Trader sold:  $ 5.180900  Profit: - $ 0.001000\n"
     ]
    },
    {
     "name": "stderr",
     "output_type": "stream",
     "text": [
      " 39%|███▉      | 970/2471 [01:04<01:24, 17.78it/s]"
     ]
    },
    {
     "name": "stdout",
     "output_type": "stream",
     "text": [
      "AI Trader bought:  $ 5.177300\n",
      "AI Trader sold:  $ 5.180400  Profit: $ 0.003100\n",
      "AI Trader bought:  $ 5.179400\n",
      "AI Trader sold:  $ 5.179000  Profit: - $ 0.000400\n"
     ]
    },
    {
     "name": "stderr",
     "output_type": "stream",
     "text": [
      "\r",
      " 39%|███▉      | 976/2471 [01:05<02:22, 10.50it/s]"
     ]
    },
    {
     "name": "stdout",
     "output_type": "stream",
     "text": [
      "AI Trader bought:  $ 5.179300\n",
      "AI Trader bought:  $ 5.179900\n",
      "AI Trader sold:  $ 5.180600  Profit: $ 0.001300\n",
      "AI Trader bought:  $ 5.179900\n",
      "AI Trader bought:  $ 5.180100\n",
      "AI Trader bought:  $ 5.180400\n",
      "AI Trader sold:  $ 5.179200  Profit: - $ 0.000700\n",
      "AI Trader sold:  $ 5.181600  Profit: $ 0.001700\n",
      "AI Trader bought:  $ 5.181400\n",
      "AI Trader sold:  $ 5.181600  Profit: $ 0.001500\n"
     ]
    },
    {
     "name": "stderr",
     "output_type": "stream",
     "text": [
      " 41%|████      | 1003/2471 [01:07<01:37, 15.13it/s]"
     ]
    },
    {
     "name": "stdout",
     "output_type": "stream",
     "text": [
      "AI Trader sold:  $ 5.181200  Profit: $ 0.000800\n",
      "AI Trader sold:  $ 5.181600  Profit: $ 0.000200\n",
      "AI Trader bought:  $ 5.180000\n",
      "AI Trader bought:  $ 5.181900\n",
      "AI Trader sold:  $ 5.182200  Profit: $ 0.002200\n",
      "AI Trader sold:  $ 5.183100  Profit: $ 0.001200\n"
     ]
    },
    {
     "name": "stderr",
     "output_type": "stream",
     "text": [
      "\r",
      " 41%|████      | 1007/2471 [01:07<01:21, 17.96it/s]"
     ]
    },
    {
     "name": "stdout",
     "output_type": "stream",
     "text": [
      "AI Trader bought:  $ 5.183800\n",
      "AI Trader sold:  $ 5.185200  Profit: $ 0.001400\n"
     ]
    },
    {
     "name": "stderr",
     "output_type": "stream",
     "text": [
      " 41%|████▏     | 1022/2471 [01:08<02:10, 11.10it/s]"
     ]
    },
    {
     "name": "stdout",
     "output_type": "stream",
     "text": [
      "AI Trader bought:  $ 5.181900\n",
      "AI Trader sold:  $ 5.180000  Profit: - $ 0.001900\n",
      "AI Trader bought:  $ 5.180100\n",
      "AI Trader bought:  $ 5.181000\n",
      "AI Trader sold:  $ 5.181900  Profit: $ 0.001800\n",
      "AI Trader sold:  $ 5.181500  Profit: $ 0.000500\n"
     ]
    },
    {
     "name": "stderr",
     "output_type": "stream",
     "text": [
      " 42%|████▏     | 1031/2471 [01:09<02:17, 10.44it/s]"
     ]
    },
    {
     "name": "stdout",
     "output_type": "stream",
     "text": [
      "AI Trader bought:  $ 5.181400\n",
      "AI Trader bought:  $ 5.182100\n",
      "AI Trader sold:  $ 5.183000  Profit: $ 0.001600\n",
      "AI Trader sold:  $ 5.183100  Profit: $ 0.001000\n",
      "AI Trader bought:  $ 5.183100\n",
      "AI Trader sold:  $ 5.183700  Profit: $ 0.000600\n"
     ]
    },
    {
     "name": "stderr",
     "output_type": "stream",
     "text": [
      "\r",
      " 42%|████▏     | 1036/2471 [01:09<01:45, 13.61it/s]"
     ]
    },
    {
     "name": "stdout",
     "output_type": "stream",
     "text": [
      "AI Trader bought:  $ 5.185300\n",
      "AI Trader sold:  $ 5.185200  Profit: - $ 0.000100\n"
     ]
    },
    {
     "name": "stderr",
     "output_type": "stream",
     "text": [
      "\r",
      " 42%|████▏     | 1040/2471 [01:10<03:02,  7.85it/s]"
     ]
    },
    {
     "name": "stdout",
     "output_type": "stream",
     "text": [
      "AI Trader bought:  $ 5.185500\n",
      "AI Trader bought:  $ 5.186000\n",
      "AI Trader sold:  $ 5.186100  Profit: $ 0.000600\n",
      "AI Trader bought:  $ 5.186000\n",
      "AI Trader bought:  $ 5.184800\n",
      "AI Trader bought:  $ 5.185100\n",
      "AI Trader bought:  $ 5.185600\n",
      "AI Trader sold:  $ 5.188600  Profit: $ 0.002600\n",
      "AI Trader sold:  $ 5.187000  Profit: $ 0.001000\n",
      "AI Trader bought:  $ 5.188500\n",
      "AI Trader bought:  $ 5.187800\n",
      "AI Trader bought:  $ 5.187600\n"
     ]
    },
    {
     "name": "stderr",
     "output_type": "stream",
     "text": [
      " 43%|████▎     | 1063/2471 [01:11<01:52, 12.55it/s]"
     ]
    },
    {
     "name": "stdout",
     "output_type": "stream",
     "text": [
      "AI Trader sold:  $ 5.186500  Profit: $ 0.001700\n",
      "AI Trader sold:  $ 5.185600  Profit: $ 0.000500\n",
      "AI Trader sold:  $ 5.185900  Profit: $ 0.000300\n",
      "AI Trader bought:  $ 5.183700\n",
      "AI Trader sold:  $ 5.184800  Profit: - $ 0.003700\n",
      "AI Trader sold:  $ 5.187000  Profit: - $ 0.000800\n",
      "AI Trader sold:  $ 5.189000  Profit: $ 0.001400\n",
      "AI Trader sold:  $ 5.189200  Profit: $ 0.005500\n"
     ]
    },
    {
     "name": "stderr",
     "output_type": "stream",
     "text": [
      " 44%|████▍     | 1087/2471 [01:12<01:27, 15.87it/s]"
     ]
    },
    {
     "name": "stdout",
     "output_type": "stream",
     "text": [
      "AI Trader bought:  $ 5.192000\n",
      "AI Trader bought:  $ 5.192700\n",
      "AI Trader bought:  $ 5.193200\n",
      "AI Trader sold:  $ 5.193800  Profit: $ 0.001800\n",
      "AI Trader sold:  $ 5.194700  Profit: $ 0.002000\n",
      "AI Trader bought:  $ 5.193700\n",
      "AI Trader bought:  $ 5.194700\n",
      "AI Trader bought:  $ 5.193500\n"
     ]
    },
    {
     "name": "stderr",
     "output_type": "stream",
     "text": [
      " 45%|████▍     | 1103/2471 [01:13<01:27, 15.72it/s]"
     ]
    },
    {
     "name": "stdout",
     "output_type": "stream",
     "text": [
      "AI Trader bought:  $ 5.194000\n",
      "AI Trader sold:  $ 5.194200  Profit: $ 0.001000\n",
      "AI Trader sold:  $ 5.194600  Profit: $ 0.000900\n",
      "AI Trader bought:  $ 5.193200\n",
      "AI Trader bought:  $ 5.193600\n",
      "AI Trader sold:  $ 5.193600  Profit: - $ 0.001100\n",
      "AI Trader sold:  $ 5.192700  Profit: - $ 0.000800\n"
     ]
    },
    {
     "name": "stderr",
     "output_type": "stream",
     "text": [
      "\r",
      " 45%|████▍     | 1109/2471 [01:15<02:12, 10.28it/s]"
     ]
    },
    {
     "name": "stdout",
     "output_type": "stream",
     "text": [
      "AI Trader bought:  $ 5.193600\n",
      "AI Trader bought:  $ 5.195000\n",
      "AI Trader sold:  $ 5.193900  Profit: - $ 0.000100\n",
      "AI Trader bought:  $ 5.193600\n",
      "AI Trader bought:  $ 5.193800\n",
      "AI Trader bought:  $ 5.192600\n",
      "AI Trader sold:  $ 5.192900  Profit: - $ 0.000300\n",
      "AI Trader bought:  $ 5.191700\n",
      "AI Trader bought:  $ 5.190400\n",
      "AI Trader bought:  $ 5.189100\n",
      "AI Trader sold:  $ 5.188200  Profit: - $ 0.005400\n",
      "AI Trader bought:  $ 5.187600\n",
      "AI Trader bought:  $ 5.185500\n"
     ]
    },
    {
     "name": "stderr",
     "output_type": "stream",
     "text": [
      " 46%|████▌     | 1133/2471 [01:16<01:30, 14.75it/s]"
     ]
    },
    {
     "name": "stdout",
     "output_type": "stream",
     "text": [
      "AI Trader bought:  $ 5.187800\n",
      "AI Trader sold:  $ 5.187600  Profit: - $ 0.006000\n",
      "AI Trader bought:  $ 5.186600\n",
      "AI Trader bought:  $ 5.187600\n",
      "AI Trader bought:  $ 5.186100\n",
      "AI Trader bought:  $ 5.188000\n",
      "AI Trader sold:  $ 5.186600  Profit: - $ 0.008400\n",
      "AI Trader sold:  $ 5.188100  Profit: - $ 0.005500\n",
      "AI Trader bought:  $ 5.188200\n",
      "AI Trader bought:  $ 5.187300\n"
     ]
    },
    {
     "name": "stderr",
     "output_type": "stream",
     "text": [
      " 46%|████▋     | 1149/2471 [01:17<01:32, 14.35it/s]"
     ]
    },
    {
     "name": "stdout",
     "output_type": "stream",
     "text": [
      "AI Trader bought:  $ 5.190400\n",
      "AI Trader sold:  $ 5.188300  Profit: - $ 0.005500\n",
      "AI Trader sold:  $ 5.189000  Profit: - $ 0.003600\n",
      "AI Trader bought:  $ 5.190200\n",
      "AI Trader bought:  $ 5.189000\n",
      "AI Trader sold:  $ 5.189500  Profit: - $ 0.002200\n",
      "AI Trader bought:  $ 5.189000\n",
      "AI Trader sold:  $ 5.191000  Profit: $ 0.000600\n",
      "AI Trader bought:  $ 5.189400\n"
     ]
    },
    {
     "name": "stderr",
     "output_type": "stream",
     "text": [
      "\r",
      " 47%|████▋     | 1155/2471 [01:18<02:36,  8.43it/s]"
     ]
    },
    {
     "name": "stdout",
     "output_type": "stream",
     "text": [
      "AI Trader sold:  $ 5.189000  Profit: - $ 0.000100\n",
      "AI Trader sold:  $ 5.189900  Profit: $ 0.002300\n",
      "AI Trader sold:  $ 5.189800  Profit: $ 0.004300\n",
      "AI Trader bought:  $ 5.187900\n",
      "AI Trader bought:  $ 5.187000\n",
      "AI Trader bought:  $ 5.188000\n"
     ]
    },
    {
     "name": "stderr",
     "output_type": "stream",
     "text": [
      "\r",
      " 47%|████▋     | 1168/2471 [01:19<02:22,  9.14it/s]"
     ]
    },
    {
     "name": "stdout",
     "output_type": "stream",
     "text": [
      "AI Trader sold:  $ 5.186900  Profit: - $ 0.000900\n",
      "AI Trader bought:  $ 5.190400\n"
     ]
    },
    {
     "name": "stderr",
     "output_type": "stream",
     "text": [
      " 48%|████▊     | 1194/2471 [01:21<01:40, 12.69it/s]"
     ]
    },
    {
     "name": "stdout",
     "output_type": "stream",
     "text": [
      "AI Trader sold:  $ 5.188600  Profit: $ 0.002000\n",
      "AI Trader bought:  $ 5.188300\n",
      "AI Trader sold:  $ 5.187000  Profit: - $ 0.000600\n",
      "AI Trader bought:  $ 5.187900\n",
      "AI Trader sold:  $ 5.187600  Profit: $ 0.001500\n",
      "AI Trader bought:  $ 5.188000\n",
      "AI Trader sold:  $ 5.187500  Profit: - $ 0.000500\n",
      "AI Trader bought:  $ 5.188900\n",
      "AI Trader sold:  $ 5.190400  Profit: $ 0.002200\n",
      "AI Trader bought:  $ 5.189800\n"
     ]
    },
    {
     "name": "stderr",
     "output_type": "stream",
     "text": [
      " 49%|████▉     | 1210/2471 [01:23<02:02, 10.27it/s]"
     ]
    },
    {
     "name": "stdout",
     "output_type": "stream",
     "text": [
      "AI Trader sold:  $ 5.190400  Profit: $ 0.003100\n",
      "AI Trader bought:  $ 5.190200\n",
      "AI Trader sold:  $ 5.189200  Profit: - $ 0.001200\n",
      "AI Trader sold:  $ 5.191400  Profit: $ 0.001200\n",
      "AI Trader sold:  $ 5.190300  Profit: $ 0.001300\n",
      "AI Trader sold:  $ 5.191200  Profit: $ 0.002200\n",
      "AI Trader sold:  $ 5.191000  Profit: $ 0.001600\n"
     ]
    },
    {
     "name": "stderr",
     "output_type": "stream",
     "text": [
      "\r",
      " 49%|████▉     | 1214/2471 [01:23<01:37, 12.87it/s]"
     ]
    },
    {
     "name": "stdout",
     "output_type": "stream",
     "text": [
      "AI Trader sold:  $ 5.192100  Profit: $ 0.004200\n",
      "AI Trader sold:  $ 5.190400  Profit: $ 0.003400\n",
      "AI Trader sold:  $ 5.191500  Profit: $ 0.003500\n"
     ]
    },
    {
     "name": "stderr",
     "output_type": "stream",
     "text": [
      " 50%|████▉     | 1228/2471 [01:24<02:02, 10.12it/s]"
     ]
    },
    {
     "name": "stdout",
     "output_type": "stream",
     "text": [
      "AI Trader sold:  $ 5.191400  Profit: $ 0.001000\n",
      "AI Trader bought:  $ 5.190900\n",
      "AI Trader sold:  $ 5.190400  Profit: $ 0.002100\n",
      "AI Trader bought:  $ 5.190200\n",
      "AI Trader sold:  $ 5.190600  Profit: $ 0.002700\n",
      "AI Trader sold:  $ 5.191000  Profit: $ 0.003000\n",
      "AI Trader sold:  $ 5.191100  Profit: $ 0.002200\n",
      "AI Trader bought:  $ 5.191900\n",
      "AI Trader sold:  $ 5.191500  Profit: $ 0.001700\n",
      "AI Trader sold:  $ 5.190900  Profit: $ 0.000700\n",
      "AI Trader sold:  $ 5.191000  Profit: $ 0.000100\n",
      "AI Trader sold:  $ 5.190900  Profit: $ 0.000700\n",
      "AI Trader sold:  $ 5.190600  Profit: - $ 0.001300\n",
      "AI Trader bought:  $ 5.190000\n",
      "AI Trader bought:  $ 5.190900\n",
      "AI Trader sold:  $ 5.191000  Profit: $ 0.001000\n"
     ]
    },
    {
     "name": "stderr",
     "output_type": "stream",
     "text": [
      "\r",
      " 50%|████▉     | 1233/2471 [01:25<02:37,  7.84it/s]"
     ]
    },
    {
     "name": "stdout",
     "output_type": "stream",
     "text": [
      "AI Trader sold:  $ 5.192100  Profit: $ 0.001200\n",
      "AI Trader bought:  $ 5.191900\n",
      "AI Trader bought:  $ 5.191500\n",
      "AI Trader sold:  $ 5.191700  Profit: - $ 0.000200\n",
      "AI Trader sold:  $ 5.192700  Profit: $ 0.001200\n",
      "AI Trader bought:  $ 5.192300\n",
      "AI Trader sold:  $ 5.191900  Profit: - $ 0.000400\n",
      "AI Trader bought:  $ 5.192700\n",
      "AI Trader sold:  $ 5.190400  Profit: - $ 0.002300\n",
      "AI Trader bought:  $ 5.190200\n",
      "AI Trader bought:  $ 5.190500\n",
      "AI Trader sold:  $ 5.191200  Profit: $ 0.001000\n",
      "AI Trader bought:  $ 5.191100\n",
      "AI Trader sold:  $ 5.190000  Profit: - $ 0.000500\n"
     ]
    },
    {
     "name": "stderr",
     "output_type": "stream",
     "text": [
      " 51%|█████     | 1259/2471 [01:26<01:36, 12.55it/s]"
     ]
    },
    {
     "name": "stdout",
     "output_type": "stream",
     "text": [
      "AI Trader sold:  $ 5.190200  Profit: - $ 0.000900\n",
      "AI Trader bought:  $ 5.190600\n",
      "AI Trader sold:  $ 5.188800  Profit: - $ 0.001800\n",
      "AI Trader bought:  $ 5.190400\n",
      "AI Trader sold:  $ 5.191100  Profit: $ 0.000700\n",
      "AI Trader bought:  $ 5.191200\n",
      "AI Trader sold:  $ 5.191700  Profit: $ 0.000500\n",
      "AI Trader bought:  $ 5.190600\n"
     ]
    },
    {
     "name": "stderr",
     "output_type": "stream",
     "text": [
      "\r",
      " 51%|█████     | 1264/2471 [01:27<02:42,  7.42it/s]"
     ]
    },
    {
     "name": "stdout",
     "output_type": "stream",
     "text": [
      "AI Trader sold:  $ 5.191200  Profit: $ 0.000600\n",
      "AI Trader bought:  $ 5.191400\n",
      "AI Trader bought:  $ 5.190700\n",
      "AI Trader sold:  $ 5.191700  Profit: $ 0.000300\n",
      "AI Trader bought:  $ 5.191700\n",
      "AI Trader bought:  $ 5.191200\n",
      "AI Trader bought:  $ 5.190900\n",
      "AI Trader sold:  $ 5.191100  Profit: $ 0.000400\n",
      "AI Trader sold:  $ 5.190000  Profit: - $ 0.001700\n"
     ]
    },
    {
     "name": "stderr",
     "output_type": "stream",
     "text": [
      " 52%|█████▏    | 1288/2471 [01:29<01:43, 11.40it/s]"
     ]
    },
    {
     "name": "stdout",
     "output_type": "stream",
     "text": [
      "AI Trader bought:  $ 5.190400\n",
      "AI Trader sold:  $ 5.190500  Profit: - $ 0.000700\n",
      "AI Trader sold:  $ 5.190700  Profit: - $ 0.000200\n",
      "AI Trader sold:  $ 5.189000  Profit: - $ 0.001400\n",
      "AI Trader bought:  $ 5.190100\n",
      "AI Trader sold:  $ 5.190000  Profit: - $ 0.000100\n"
     ]
    },
    {
     "name": "stderr",
     "output_type": "stream",
     "text": [
      "\r",
      " 52%|█████▏    | 1296/2471 [01:30<02:24,  8.12it/s]"
     ]
    },
    {
     "name": "stdout",
     "output_type": "stream",
     "text": [
      "AI Trader bought:  $ 5.183700\n",
      "AI Trader sold:  $ 5.181500  Profit: - $ 0.002200\n",
      "AI Trader bought:  $ 5.183100\n",
      "AI Trader sold:  $ 5.182100  Profit: - $ 0.001000\n",
      "AI Trader bought:  $ 5.183700\n",
      "AI Trader bought:  $ 5.184000\n",
      "AI Trader bought:  $ 5.185100\n",
      "AI Trader bought:  $ 5.183700\n"
     ]
    },
    {
     "name": "stderr",
     "output_type": "stream",
     "text": [
      " 54%|█████▎    | 1325/2471 [01:32<01:17, 14.84it/s]"
     ]
    },
    {
     "name": "stdout",
     "output_type": "stream",
     "text": [
      "AI Trader bought:  $ 5.182700\n",
      "AI Trader sold:  $ 5.182600  Profit: - $ 0.001100\n",
      "AI Trader bought:  $ 5.183000\n",
      "AI Trader bought:  $ 5.183900\n",
      "AI Trader bought:  $ 5.184100\n",
      "AI Trader sold:  $ 5.184100  Profit: $ 0.000100\n"
     ]
    },
    {
     "name": "stderr",
     "output_type": "stream",
     "text": [
      " 54%|█████▍    | 1337/2471 [01:34<02:22,  7.96it/s]"
     ]
    },
    {
     "name": "stdout",
     "output_type": "stream",
     "text": [
      "AI Trader bought:  $ 5.182700\n",
      "AI Trader sold:  $ 5.180100  Profit: - $ 0.005000\n",
      "AI Trader bought:  $ 5.182200\n",
      "AI Trader sold:  $ 5.180600  Profit: - $ 0.003100\n",
      "AI Trader bought:  $ 5.180400\n"
     ]
    },
    {
     "name": "stderr",
     "output_type": "stream",
     "text": [
      "\r",
      " 54%|█████▍    | 1342/2471 [01:34<01:50, 10.25it/s]"
     ]
    },
    {
     "name": "stdout",
     "output_type": "stream",
     "text": [
      "AI Trader bought:  $ 5.178900\n"
     ]
    },
    {
     "name": "stderr",
     "output_type": "stream",
     "text": [
      " 55%|█████▍    | 1353/2471 [01:36<03:04,  6.07it/s]"
     ]
    },
    {
     "name": "stdout",
     "output_type": "stream",
     "text": [
      "AI Trader sold:  $ 5.178700  Profit: - $ 0.004000\n",
      "AI Trader bought:  $ 5.177700\n",
      "AI Trader sold:  $ 5.179100  Profit: - $ 0.003900\n",
      "AI Trader bought:  $ 5.180600\n",
      "AI Trader bought:  $ 5.178200\n",
      "AI Trader sold:  $ 5.179300  Profit: - $ 0.004600\n",
      "AI Trader bought:  $ 5.179100\n",
      "AI Trader sold:  $ 5.176800  Profit: - $ 0.007300\n",
      "AI Trader bought:  $ 5.176700\n",
      "AI Trader sold:  $ 5.175700  Profit: - $ 0.007000\n"
     ]
    },
    {
     "name": "stderr",
     "output_type": "stream",
     "text": [
      " 55%|█████▌    | 1371/2471 [01:39<02:41,  6.81it/s]"
     ]
    },
    {
     "name": "stdout",
     "output_type": "stream",
     "text": [
      "AI Trader bought:  $ 5.175200\n",
      "AI Trader bought:  $ 5.171700\n",
      "AI Trader sold:  $ 5.173400  Profit: - $ 0.008800\n",
      "AI Trader bought:  $ 5.173400\n",
      "AI Trader sold:  $ 5.174000  Profit: - $ 0.006400\n"
     ]
    },
    {
     "name": "stderr",
     "output_type": "stream",
     "text": [
      " 56%|█████▌    | 1382/2471 [01:41<03:02,  5.98it/s]"
     ]
    },
    {
     "name": "stdout",
     "output_type": "stream",
     "text": [
      "AI Trader bought:  $ 5.173100\n",
      "AI Trader sold:  $ 5.172600  Profit: - $ 0.006300\n",
      "AI Trader bought:  $ 5.174000\n",
      "AI Trader bought:  $ 5.175100\n",
      "AI Trader bought:  $ 5.177000\n",
      "AI Trader sold:  $ 5.177000  Profit: - $ 0.000700\n"
     ]
    },
    {
     "name": "stderr",
     "output_type": "stream",
     "text": [
      "\r",
      " 56%|█████▌    | 1388/2471 [01:41<02:12,  8.15it/s]"
     ]
    },
    {
     "name": "stdout",
     "output_type": "stream",
     "text": [
      "AI Trader bought:  $ 5.178200\n",
      "AI Trader bought:  $ 5.178200\n"
     ]
    },
    {
     "name": "stderr",
     "output_type": "stream",
     "text": [
      " 56%|█████▋    | 1396/2471 [01:43<02:53,  6.20it/s]"
     ]
    },
    {
     "name": "stdout",
     "output_type": "stream",
     "text": [
      "AI Trader bought:  $ 5.178000\n",
      "AI Trader sold:  $ 5.177600  Profit: - $ 0.003000\n"
     ]
    },
    {
     "name": "stderr",
     "output_type": "stream",
     "text": [
      " 57%|█████▋    | 1407/2471 [01:43<01:40, 10.57it/s]"
     ]
    },
    {
     "name": "stdout",
     "output_type": "stream",
     "text": [
      "AI Trader bought:  $ 5.179900\n",
      "AI Trader sold:  $ 5.180500  Profit: $ 0.002300\n",
      "AI Trader sold:  $ 5.182900  Profit: $ 0.003800\n"
     ]
    },
    {
     "name": "stderr",
     "output_type": "stream",
     "text": [
      " 57%|█████▋    | 1417/2471 [01:45<02:33,  6.87it/s]"
     ]
    },
    {
     "name": "stdout",
     "output_type": "stream",
     "text": [
      "AI Trader bought:  $ 5.188200\n",
      "AI Trader bought:  $ 5.188300\n",
      "AI Trader bought:  $ 5.186700\n",
      "AI Trader sold:  $ 5.187700  Profit: $ 0.011000\n",
      "AI Trader sold:  $ 5.186700  Profit: $ 0.011500\n",
      "AI Trader bought:  $ 5.201200\n",
      "AI Trader bought:  $ 5.196400\n",
      "AI Trader sold:  $ 5.188400  Profit: $ 0.016700\n"
     ]
    },
    {
     "name": "stderr",
     "output_type": "stream",
     "text": [
      "\r",
      " 58%|█████▊    | 1423/2471 [01:45<01:52,  9.31it/s]"
     ]
    },
    {
     "name": "stdout",
     "output_type": "stream",
     "text": [
      "AI Trader bought:  $ 5.187000\n"
     ]
    },
    {
     "name": "stderr",
     "output_type": "stream",
     "text": [
      "\r",
      " 58%|█████▊    | 1428/2471 [01:47<03:35,  4.85it/s]"
     ]
    },
    {
     "name": "stdout",
     "output_type": "stream",
     "text": [
      "AI Trader sold:  $ 5.187100  Profit: $ 0.013700\n",
      "AI Trader bought:  $ 5.183900\n",
      "AI Trader sold:  $ 5.193600  Profit: $ 0.020500\n",
      "AI Trader sold:  $ 5.192400  Profit: $ 0.018400\n"
     ]
    },
    {
     "name": "stderr",
     "output_type": "stream",
     "text": [
      " 59%|█████▊    | 1447/2471 [01:49<02:18,  7.40it/s]"
     ]
    },
    {
     "name": "stdout",
     "output_type": "stream",
     "text": [
      "AI Trader sold:  $ 5.196100  Profit: $ 0.021000\n",
      "AI Trader bought:  $ 5.196000\n",
      "AI Trader bought:  $ 5.194000\n",
      "AI Trader bought:  $ 5.192100\n",
      "AI Trader sold:  $ 5.190600  Profit: $ 0.013600\n",
      "AI Trader bought:  $ 5.188400\n"
     ]
    },
    {
     "name": "stderr",
     "output_type": "stream",
     "text": [
      " 60%|█████▉    | 1480/2471 [01:53<02:14,  7.36it/s]"
     ]
    },
    {
     "name": "stdout",
     "output_type": "stream",
     "text": [
      "AI Trader sold:  $ 5.189500  Profit: $ 0.011300\n",
      "AI Trader bought:  $ 5.191200\n",
      "AI Trader sold:  $ 5.192100  Profit: $ 0.013900\n",
      "AI Trader bought:  $ 5.191300\n",
      "AI Trader sold:  $ 5.190000  Profit: $ 0.012000\n",
      "AI Trader bought:  $ 5.192400\n",
      "AI Trader sold:  $ 5.189100  Profit: $ 0.009200\n"
     ]
    },
    {
     "name": "stderr",
     "output_type": "stream",
     "text": [
      "\r",
      " 60%|██████    | 1486/2471 [01:54<01:41,  9.74it/s]"
     ]
    },
    {
     "name": "stdout",
     "output_type": "stream",
     "text": [
      "AI Trader bought:  $ 5.188600\n"
     ]
    },
    {
     "name": "stderr",
     "output_type": "stream",
     "text": [
      " 61%|██████    | 1498/2471 [01:55<01:54,  8.47it/s]"
     ]
    },
    {
     "name": "stdout",
     "output_type": "stream",
     "text": [
      "AI Trader sold:  $ 5.189700  Profit: $ 0.001500\n",
      "AI Trader sold:  $ 5.190600  Profit: $ 0.002300\n",
      "AI Trader bought:  $ 5.191000\n",
      "AI Trader bought:  $ 5.187900\n",
      "AI Trader sold:  $ 5.187400  Profit: $ 0.000700\n",
      "AI Trader bought:  $ 5.187000\n",
      "AI Trader sold:  $ 5.178700  Profit: - $ 0.022500\n",
      "AI Trader bought:  $ 5.179100\n",
      "AI Trader sold:  $ 5.182700  Profit: - $ 0.013700\n",
      "AI Trader bought:  $ 5.182200\n"
     ]
    },
    {
     "name": "stderr",
     "output_type": "stream",
     "text": [
      " 61%|██████    | 1508/2471 [01:57<01:53,  8.49it/s]"
     ]
    },
    {
     "name": "stdout",
     "output_type": "stream",
     "text": [
      "AI Trader sold:  $ 5.180100  Profit: - $ 0.006900\n",
      "AI Trader sold:  $ 5.181600  Profit: - $ 0.002300\n",
      "AI Trader sold:  $ 5.182200  Profit: - $ 0.013800\n",
      "AI Trader sold:  $ 5.183700  Profit: - $ 0.010300\n",
      "AI Trader bought:  $ 5.184600\n",
      "AI Trader sold:  $ 5.183000  Profit: - $ 0.009100\n",
      "AI Trader bought:  $ 5.180600\n",
      "AI Trader sold:  $ 5.179700  Profit: - $ 0.008700\n",
      "AI Trader sold:  $ 5.181400  Profit: - $ 0.009800\n",
      "AI Trader sold:  $ 5.182200  Profit: - $ 0.009100\n"
     ]
    },
    {
     "name": "stderr",
     "output_type": "stream",
     "text": [
      "\r",
      " 61%|██████▏   | 1517/2471 [01:57<01:22, 11.53it/s]"
     ]
    },
    {
     "name": "stdout",
     "output_type": "stream",
     "text": [
      "AI Trader sold:  $ 5.180600  Profit: - $ 0.011800\n",
      "AI Trader bought:  $ 5.181500\n",
      "AI Trader sold:  $ 5.182700  Profit: - $ 0.005900\n"
     ]
    },
    {
     "name": "stderr",
     "output_type": "stream",
     "text": [
      " 62%|██████▏   | 1530/2471 [01:59<01:50,  8.50it/s]"
     ]
    },
    {
     "name": "stdout",
     "output_type": "stream",
     "text": [
      "AI Trader bought:  $ 5.183000\n",
      "AI Trader sold:  $ 5.182200  Profit: - $ 0.008800\n",
      "AI Trader sold:  $ 5.182700  Profit: - $ 0.005200\n",
      "AI Trader bought:  $ 5.183600\n",
      "AI Trader bought:  $ 5.184100\n",
      "AI Trader sold:  $ 5.181600  Profit: - $ 0.005400\n",
      "AI Trader sold:  $ 5.181500  Profit: $ 0.002400\n",
      "AI Trader bought:  $ 5.183700\n",
      "AI Trader sold:  $ 5.182500  Profit: $ 0.000300\n",
      "AI Trader sold:  $ 5.182400  Profit: - $ 0.002200\n",
      "AI Trader sold:  $ 5.182200  Profit: $ 0.001600\n",
      "AI Trader bought:  $ 5.181500\n",
      "AI Trader bought:  $ 5.180700\n"
     ]
    },
    {
     "name": "stderr",
     "output_type": "stream",
     "text": [
      " 63%|██████▎   | 1548/2471 [02:00<01:38,  9.38it/s]"
     ]
    },
    {
     "name": "stdout",
     "output_type": "stream",
     "text": [
      "AI Trader bought:  $ 5.183700\n",
      "AI Trader sold:  $ 5.184100  Profit: $ 0.002600\n",
      "AI Trader sold:  $ 5.182700  Profit: - $ 0.000300\n",
      "AI Trader sold:  $ 5.182400  Profit: - $ 0.001200\n",
      "AI Trader sold:  $ 5.183100  Profit: - $ 0.001000\n",
      "AI Trader bought:  $ 5.182900\n",
      "AI Trader bought:  $ 5.185200\n",
      "AI Trader sold:  $ 5.184600  Profit: $ 0.000900\n",
      "AI Trader sold:  $ 5.183800  Profit: $ 0.002300\n",
      "AI Trader sold:  $ 5.184500  Profit: $ 0.003800\n",
      "AI Trader sold:  $ 5.186100  Profit: $ 0.002400\n"
     ]
    },
    {
     "name": "stderr",
     "output_type": "stream",
     "text": [
      "\r",
      " 63%|██████▎   | 1554/2471 [02:01<02:00,  7.63it/s]"
     ]
    },
    {
     "name": "stdout",
     "output_type": "stream",
     "text": [
      "AI Trader sold:  $ 5.187100  Profit: $ 0.004200\n",
      "AI Trader sold:  $ 5.185600  Profit: $ 0.000400\n",
      "AI Trader bought:  $ 5.184100\n",
      "AI Trader bought:  $ 5.181600\n",
      "AI Trader sold:  $ 5.181200  Profit: - $ 0.002900\n",
      "AI Trader bought:  $ 5.178300\n",
      "AI Trader sold:  $ 5.179700  Profit: - $ 0.001900\n",
      "AI Trader sold:  $ 5.181200  Profit: $ 0.002900\n",
      "AI Trader bought:  $ 5.182100\n"
     ]
    },
    {
     "name": "stderr",
     "output_type": "stream",
     "text": [
      " 64%|██████▍   | 1577/2471 [02:03<01:16, 11.68it/s]"
     ]
    },
    {
     "name": "stdout",
     "output_type": "stream",
     "text": [
      "AI Trader sold:  $ 5.178700  Profit: - $ 0.003400\n",
      "AI Trader bought:  $ 5.177200\n",
      "AI Trader sold:  $ 5.177600  Profit: $ 0.000400\n",
      "AI Trader bought:  $ 5.177000\n",
      "AI Trader bought:  $ 5.179100\n",
      "AI Trader sold:  $ 5.180100  Profit: $ 0.003100\n",
      "AI Trader sold:  $ 5.179700  Profit: $ 0.000600\n",
      "AI Trader bought:  $ 5.179900\n",
      "AI Trader bought:  $ 5.180600\n"
     ]
    },
    {
     "name": "stderr",
     "output_type": "stream",
     "text": [
      " 64%|██████▍   | 1590/2471 [02:04<01:17, 11.36it/s]"
     ]
    },
    {
     "name": "stdout",
     "output_type": "stream",
     "text": [
      "AI Trader bought:  $ 5.180100\n",
      "AI Trader bought:  $ 5.181900\n",
      "AI Trader sold:  $ 5.182400  Profit: $ 0.002500\n",
      "AI Trader sold:  $ 5.185400  Profit: $ 0.004800\n",
      "AI Trader sold:  $ 5.185200  Profit: $ 0.005100\n",
      "AI Trader bought:  $ 5.183700\n",
      "AI Trader sold:  $ 5.182200  Profit: $ 0.000300\n",
      "AI Trader sold:  $ 5.183100  Profit: - $ 0.000600\n"
     ]
    },
    {
     "name": "stderr",
     "output_type": "stream",
     "text": [
      " 65%|██████▍   | 1606/2471 [02:05<01:16, 11.38it/s]"
     ]
    },
    {
     "name": "stdout",
     "output_type": "stream",
     "text": [
      "AI Trader bought:  $ 5.182100\n",
      "AI Trader sold:  $ 5.184400  Profit: $ 0.002300\n"
     ]
    },
    {
     "name": "stderr",
     "output_type": "stream",
     "text": [
      " 65%|██████▌   | 1615/2471 [02:06<00:52, 16.39it/s]"
     ]
    },
    {
     "name": "stdout",
     "output_type": "stream",
     "text": [
      "AI Trader bought:  $ 5.186900\n",
      "AI Trader bought:  $ 5.186000\n",
      "AI Trader sold:  $ 5.189100  Profit: $ 0.002200\n",
      "AI Trader bought:  $ 5.189000\n",
      "AI Trader bought:  $ 5.188800\n",
      "AI Trader sold:  $ 5.189400  Profit: $ 0.003400\n",
      "AI Trader sold:  $ 5.187600  Profit: - $ 0.001400\n"
     ]
    },
    {
     "name": "stderr",
     "output_type": "stream",
     "text": [
      " 66%|██████▌   | 1627/2471 [02:07<01:23, 10.10it/s]"
     ]
    },
    {
     "name": "stdout",
     "output_type": "stream",
     "text": [
      "AI Trader bought:  $ 5.188500\n",
      "AI Trader bought:  $ 5.188200\n",
      "AI Trader bought:  $ 5.186900\n",
      "AI Trader bought:  $ 5.186900\n",
      "AI Trader bought:  $ 5.189900\n",
      "AI Trader bought:  $ 5.188800\n",
      "AI Trader sold:  $ 5.190200  Profit: $ 0.001400\n"
     ]
    },
    {
     "name": "stderr",
     "output_type": "stream",
     "text": [
      " 66%|██████▋   | 1638/2471 [02:08<01:24,  9.91it/s]"
     ]
    },
    {
     "name": "stdout",
     "output_type": "stream",
     "text": [
      "AI Trader sold:  $ 5.192800  Profit: $ 0.004300\n"
     ]
    },
    {
     "name": "stderr",
     "output_type": "stream",
     "text": [
      "\r",
      " 66%|██████▋   | 1642/2471 [02:08<01:08, 12.10it/s]"
     ]
    },
    {
     "name": "stdout",
     "output_type": "stream",
     "text": [
      "AI Trader bought:  $ 5.197200\n",
      "AI Trader sold:  $ 5.195100  Profit: $ 0.006900\n"
     ]
    },
    {
     "name": "stderr",
     "output_type": "stream",
     "text": [
      "\r",
      " 67%|██████▋   | 1648/2471 [02:09<01:33,  8.84it/s]"
     ]
    },
    {
     "name": "stdout",
     "output_type": "stream",
     "text": [
      "AI Trader bought:  $ 5.195400\n",
      "AI Trader sold:  $ 5.195200  Profit: $ 0.008300\n",
      "AI Trader sold:  $ 5.195800  Profit: $ 0.008900\n",
      "AI Trader bought:  $ 5.194500\n",
      "AI Trader bought:  $ 5.194900\n",
      "AI Trader sold:  $ 5.195000  Profit: $ 0.005100\n",
      "AI Trader sold:  $ 5.195400  Profit: $ 0.006600\n",
      "AI Trader sold:  $ 5.194700  Profit: - $ 0.002500\n",
      "AI Trader bought:  $ 5.195600\n",
      "AI Trader sold:  $ 5.195500  Profit: $ 0.000100\n",
      "AI Trader bought:  $ 5.197000\n"
     ]
    },
    {
     "name": "stderr",
     "output_type": "stream",
     "text": [
      " 68%|██████▊   | 1675/2471 [02:11<01:03, 12.62it/s]"
     ]
    },
    {
     "name": "stdout",
     "output_type": "stream",
     "text": [
      "AI Trader bought:  $ 5.195500\n",
      "AI Trader sold:  $ 5.194700  Profit: $ 0.000200\n",
      "AI Trader sold:  $ 5.194900  Profit: $ 0.000000\n",
      "AI Trader sold:  $ 5.196900  Profit: $ 0.001300\n",
      "AI Trader bought:  $ 5.196500\n",
      "AI Trader bought:  $ 5.197000\n"
     ]
    },
    {
     "name": "stderr",
     "output_type": "stream",
     "text": [
      " 68%|██████▊   | 1692/2471 [02:12<01:12, 10.77it/s]"
     ]
    },
    {
     "name": "stdout",
     "output_type": "stream",
     "text": [
      "AI Trader bought:  $ 5.196200\n",
      "AI Trader sold:  $ 5.194200  Profit: - $ 0.002800\n",
      "AI Trader bought:  $ 5.193700\n",
      "AI Trader sold:  $ 5.192800  Profit: - $ 0.002700\n",
      "AI Trader sold:  $ 5.191500  Profit: - $ 0.005000\n",
      "AI Trader bought:  $ 5.190500\n"
     ]
    },
    {
     "name": "stderr",
     "output_type": "stream",
     "text": [
      " 69%|██████▉   | 1705/2471 [02:14<01:07, 11.38it/s]"
     ]
    },
    {
     "name": "stdout",
     "output_type": "stream",
     "text": [
      "AI Trader bought:  $ 5.188700\n",
      "AI Trader bought:  $ 5.190000\n",
      "AI Trader bought:  $ 5.189900\n",
      "AI Trader sold:  $ 5.190500  Profit: - $ 0.006500\n",
      "AI Trader sold:  $ 5.191500  Profit: - $ 0.004700\n",
      "AI Trader bought:  $ 5.192700\n",
      "AI Trader sold:  $ 5.192500  Profit: - $ 0.001200\n"
     ]
    },
    {
     "name": "stderr",
     "output_type": "stream",
     "text": [
      " 70%|██████▉   | 1727/2471 [02:15<01:09, 10.75it/s]"
     ]
    },
    {
     "name": "stdout",
     "output_type": "stream",
     "text": [
      "AI Trader bought:  $ 5.188800\n",
      "AI Trader sold:  $ 5.189700  Profit: - $ 0.000800\n",
      "AI Trader sold:  $ 5.191100  Profit: $ 0.002400\n",
      "AI Trader sold:  $ 5.191000  Profit: $ 0.001000\n",
      "AI Trader bought:  $ 5.192000\n",
      "AI Trader bought:  $ 5.192200\n",
      "AI Trader bought:  $ 5.192500\n"
     ]
    },
    {
     "name": "stderr",
     "output_type": "stream",
     "text": [
      " 70%|███████   | 1739/2471 [02:16<01:08, 10.63it/s]"
     ]
    },
    {
     "name": "stdout",
     "output_type": "stream",
     "text": [
      "AI Trader bought:  $ 5.189000\n",
      "AI Trader sold:  $ 5.189000  Profit: - $ 0.000900\n",
      "AI Trader sold:  $ 5.189400  Profit: - $ 0.003300\n",
      "AI Trader bought:  $ 5.189300\n",
      "AI Trader bought:  $ 5.188800\n",
      "AI Trader sold:  $ 5.192500  Profit: $ 0.003700\n",
      "AI Trader bought:  $ 5.192000\n",
      "AI Trader bought:  $ 5.190700\n"
     ]
    },
    {
     "name": "stderr",
     "output_type": "stream",
     "text": [
      " 71%|███████   | 1752/2471 [02:18<01:06, 10.80it/s]"
     ]
    },
    {
     "name": "stdout",
     "output_type": "stream",
     "text": [
      "AI Trader bought:  $ 5.192300\n",
      "AI Trader bought:  $ 5.192700\n",
      "AI Trader bought:  $ 5.195700\n",
      "AI Trader bought:  $ 5.195900\n",
      "AI Trader bought:  $ 5.197900\n",
      "AI Trader bought:  $ 5.199700\n",
      "AI Trader sold:  $ 5.200000  Profit: $ 0.008000\n",
      "AI Trader bought:  $ 5.198800\n",
      "AI Trader bought:  $ 5.200100\n",
      "AI Trader sold:  $ 5.199700  Profit: $ 0.007500\n",
      "AI Trader bought:  $ 5.199000\n",
      "AI Trader sold:  $ 5.202000  Profit: $ 0.009500\n"
     ]
    },
    {
     "name": "stderr",
     "output_type": "stream",
     "text": [
      " 72%|███████▏  | 1773/2471 [02:19<00:53, 13.12it/s]"
     ]
    },
    {
     "name": "stdout",
     "output_type": "stream",
     "text": [
      "AI Trader bought:  $ 5.201200\n",
      "AI Trader sold:  $ 5.200500  Profit: $ 0.011500\n",
      "AI Trader sold:  $ 5.200900  Profit: $ 0.011600\n",
      "AI Trader sold:  $ 5.200700  Profit: $ 0.011900\n",
      "AI Trader bought:  $ 5.199700\n",
      "AI Trader bought:  $ 5.198500\n"
     ]
    },
    {
     "name": "stderr",
     "output_type": "stream",
     "text": [
      " 72%|███████▏  | 1789/2471 [02:20<00:49, 13.78it/s]"
     ]
    },
    {
     "name": "stdout",
     "output_type": "stream",
     "text": [
      "AI Trader sold:  $ 5.199000  Profit: $ 0.007000\n",
      "AI Trader bought:  $ 5.201500\n",
      "AI Trader sold:  $ 5.202000  Profit: $ 0.011300\n",
      "AI Trader bought:  $ 5.199300\n",
      "AI Trader bought:  $ 5.200700\n",
      "AI Trader sold:  $ 5.204000  Profit: $ 0.011700\n",
      "AI Trader bought:  $ 5.204400\n",
      "AI Trader sold:  $ 5.204300  Profit: $ 0.011600\n"
     ]
    },
    {
     "name": "stderr",
     "output_type": "stream",
     "text": [
      " 73%|███████▎  | 1804/2471 [02:21<00:52, 12.78it/s]"
     ]
    },
    {
     "name": "stdout",
     "output_type": "stream",
     "text": [
      "AI Trader sold:  $ 5.204800  Profit: $ 0.009100\n",
      "AI Trader sold:  $ 5.203700  Profit: $ 0.007800\n",
      "AI Trader sold:  $ 5.202200  Profit: $ 0.004300\n",
      "AI Trader bought:  $ 5.203500\n",
      "AI Trader sold:  $ 5.205400  Profit: $ 0.005700\n",
      "AI Trader sold:  $ 5.205200  Profit: $ 0.006400\n",
      "AI Trader sold:  $ 5.205000  Profit: $ 0.004900\n",
      "AI Trader bought:  $ 5.204500\n",
      "AI Trader bought:  $ 5.205600\n",
      "AI Trader sold:  $ 5.204500  Profit: $ 0.005500\n",
      "AI Trader sold:  $ 5.203200  Profit: $ 0.002000\n",
      "AI Trader sold:  $ 5.202200  Profit: $ 0.002500\n",
      "AI Trader sold:  $ 5.202000  Profit: $ 0.003500\n",
      "AI Trader sold:  $ 5.202300  Profit: $ 0.000800\n"
     ]
    },
    {
     "name": "stderr",
     "output_type": "stream",
     "text": [
      " 73%|███████▎  | 1815/2471 [02:23<01:05,  9.98it/s]"
     ]
    },
    {
     "name": "stdout",
     "output_type": "stream",
     "text": [
      "AI Trader sold:  $ 5.202700  Profit: $ 0.003400\n",
      "AI Trader sold:  $ 5.202000  Profit: $ 0.001300\n",
      "AI Trader sold:  $ 5.203200  Profit: - $ 0.001200\n",
      "AI Trader sold:  $ 5.202200  Profit: - $ 0.001300\n",
      "AI Trader sold:  $ 5.202000  Profit: - $ 0.002500\n",
      "AI Trader sold:  $ 5.201000  Profit: - $ 0.004600\n"
     ]
    },
    {
     "name": "stderr",
     "output_type": "stream",
     "text": [
      "\r",
      " 74%|███████▎  | 1822/2471 [02:23<00:48, 13.36it/s]"
     ]
    },
    {
     "name": "stdout",
     "output_type": "stream",
     "text": [
      "AI Trader bought:  $ 5.200900\n",
      "AI Trader sold:  $ 5.199700  Profit: - $ 0.001200\n"
     ]
    },
    {
     "name": "stderr",
     "output_type": "stream",
     "text": [
      " 74%|███████▍  | 1839/2471 [02:24<00:54, 11.54it/s]"
     ]
    },
    {
     "name": "stdout",
     "output_type": "stream",
     "text": [
      "AI Trader bought:  $ 5.200700\n",
      "AI Trader sold:  $ 5.201700  Profit: $ 0.001000\n",
      "AI Trader bought:  $ 5.202700\n",
      "AI Trader sold:  $ 5.206200  Profit: $ 0.003500\n",
      "AI Trader bought:  $ 5.205600\n",
      "AI Trader sold:  $ 5.204000  Profit: - $ 0.001600\n",
      "AI Trader bought:  $ 5.205000\n",
      "AI Trader bought:  $ 5.205300\n",
      "AI Trader sold:  $ 5.205000  Profit: $ 0.000000\n"
     ]
    },
    {
     "name": "stderr",
     "output_type": "stream",
     "text": [
      " 75%|███████▌  | 1854/2471 [02:25<00:59, 10.36it/s]"
     ]
    },
    {
     "name": "stdout",
     "output_type": "stream",
     "text": [
      "AI Trader sold:  $ 5.205500  Profit: $ 0.000200\n",
      "AI Trader bought:  $ 5.202000\n",
      "AI Trader sold:  $ 5.202600  Profit: $ 0.000600\n"
     ]
    },
    {
     "name": "stderr",
     "output_type": "stream",
     "text": [
      " 75%|███████▌  | 1865/2471 [02:27<00:56, 10.74it/s]"
     ]
    },
    {
     "name": "stdout",
     "output_type": "stream",
     "text": [
      "AI Trader bought:  $ 5.200900\n",
      "AI Trader bought:  $ 5.202000\n",
      "AI Trader bought:  $ 5.201600\n",
      "AI Trader sold:  $ 5.200900  Profit: $ 0.000000\n",
      "AI Trader bought:  $ 5.200500\n",
      "AI Trader sold:  $ 5.199200  Profit: - $ 0.002800\n",
      "AI Trader bought:  $ 5.200300\n",
      "AI Trader sold:  $ 5.201200  Profit: - $ 0.000400\n",
      "AI Trader sold:  $ 5.202000  Profit: $ 0.001500\n",
      "AI Trader sold:  $ 5.201200  Profit: $ 0.000900\n",
      "AI Trader bought:  $ 5.201200\n",
      "AI Trader sold:  $ 5.202000  Profit: $ 0.000800\n"
     ]
    },
    {
     "name": "stderr",
     "output_type": "stream",
     "text": [
      " 77%|███████▋  | 1912/2471 [02:31<00:54, 10.17it/s]"
     ]
    },
    {
     "name": "stdout",
     "output_type": "stream",
     "text": [
      "AI Trader bought:  $ 5.214000\n",
      "AI Trader sold:  $ 5.217500  Profit: $ 0.003500\n",
      "AI Trader bought:  $ 5.215400\n",
      "AI Trader sold:  $ 5.216700  Profit: $ 0.001300\n",
      "AI Trader bought:  $ 5.216000\n"
     ]
    },
    {
     "name": "stderr",
     "output_type": "stream",
     "text": [
      "\r",
      " 78%|███████▊  | 1919/2471 [02:31<00:40, 13.49it/s]"
     ]
    },
    {
     "name": "stdout",
     "output_type": "stream",
     "text": [
      "AI Trader bought:  $ 5.213000\n",
      "AI Trader bought:  $ 5.213300\n"
     ]
    },
    {
     "name": "stderr",
     "output_type": "stream",
     "text": [
      " 78%|███████▊  | 1930/2471 [02:32<00:50, 10.79it/s]"
     ]
    },
    {
     "name": "stdout",
     "output_type": "stream",
     "text": [
      "AI Trader sold:  $ 5.215400  Profit: - $ 0.000600\n",
      "AI Trader sold:  $ 5.216000  Profit: $ 0.003000\n",
      "AI Trader bought:  $ 5.218900\n",
      "AI Trader sold:  $ 5.217600  Profit: $ 0.004300\n",
      "AI Trader bought:  $ 5.216300\n",
      "AI Trader bought:  $ 5.215400\n"
     ]
    },
    {
     "name": "stderr",
     "output_type": "stream",
     "text": [
      " 79%|███████▉  | 1947/2471 [02:33<00:43, 12.02it/s]"
     ]
    },
    {
     "name": "stdout",
     "output_type": "stream",
     "text": [
      "AI Trader bought:  $ 5.218400\n",
      "AI Trader bought:  $ 5.218000\n",
      "AI Trader bought:  $ 5.214100\n",
      "AI Trader sold:  $ 5.213000  Profit: - $ 0.005900\n",
      "AI Trader bought:  $ 5.214700\n"
     ]
    },
    {
     "name": "stderr",
     "output_type": "stream",
     "text": [
      " 79%|███████▉  | 1960/2471 [02:35<00:47, 10.80it/s]"
     ]
    },
    {
     "name": "stdout",
     "output_type": "stream",
     "text": [
      "AI Trader sold:  $ 5.214600  Profit: - $ 0.001700\n",
      "AI Trader sold:  $ 5.215400  Profit: $ 0.000000\n",
      "AI Trader bought:  $ 5.215200\n",
      "AI Trader sold:  $ 5.214200  Profit: - $ 0.004200\n",
      "AI Trader bought:  $ 5.217200\n",
      "AI Trader sold:  $ 5.215000  Profit: - $ 0.003000\n",
      "AI Trader bought:  $ 5.213900\n"
     ]
    },
    {
     "name": "stderr",
     "output_type": "stream",
     "text": [
      "\r",
      " 80%|███████▉  | 1967/2471 [02:35<00:35, 14.27it/s]"
     ]
    },
    {
     "name": "stdout",
     "output_type": "stream",
     "text": [
      "AI Trader sold:  $ 5.211200  Profit: - $ 0.002900\n"
     ]
    },
    {
     "name": "stderr",
     "output_type": "stream",
     "text": [
      " 80%|███████▉  | 1976/2471 [02:36<00:44, 11.18it/s]"
     ]
    },
    {
     "name": "stdout",
     "output_type": "stream",
     "text": [
      "AI Trader sold:  $ 5.214100  Profit: - $ 0.000600\n",
      "AI Trader bought:  $ 5.213400\n",
      "AI Trader sold:  $ 5.215000  Profit: - $ 0.000200\n",
      "AI Trader bought:  $ 5.215000\n",
      "AI Trader sold:  $ 5.216000  Profit: - $ 0.001200\n"
     ]
    },
    {
     "name": "stderr",
     "output_type": "stream",
     "text": [
      " 81%|████████  | 1999/2471 [02:37<00:24, 19.45it/s]"
     ]
    },
    {
     "name": "stdout",
     "output_type": "stream",
     "text": [
      "AI Trader bought:  $ 5.215700\n",
      "AI Trader sold:  $ 5.216000  Profit: $ 0.002100\n",
      "AI Trader sold:  $ 5.217000  Profit: $ 0.003600\n",
      "AI Trader sold:  $ 5.220700  Profit: $ 0.005700\n",
      "AI Trader bought:  $ 5.220400\n"
     ]
    },
    {
     "name": "stderr",
     "output_type": "stream",
     "text": [
      "\r",
      " 81%|████████  | 2003/2471 [02:42<02:54,  2.68it/s]"
     ]
    },
    {
     "name": "stdout",
     "output_type": "stream",
     "text": [
      "AI Trader bought:  $ 5.220400\n",
      "AI Trader sold:  $ 5.221000  Profit: $ 0.005300\n",
      "AI Trader sold:  $ 5.220400  Profit: $ 0.000000\n"
     ]
    },
    {
     "name": "stderr",
     "output_type": "stream",
     "text": [
      "\r",
      " 81%|████████  | 2006/2471 [02:45<04:38,  1.67it/s]"
     ]
    },
    {
     "name": "stdout",
     "output_type": "stream",
     "text": [
      "AI Trader sold:  $ 5.220200  Profit: - $ 0.000200\n"
     ]
    },
    {
     "name": "stderr",
     "output_type": "stream",
     "text": [
      "\r",
      " 81%|████████▏ | 2008/2471 [02:48<06:05,  1.27it/s]"
     ]
    },
    {
     "name": "stdout",
     "output_type": "stream",
     "text": [
      "AI Trader bought:  $ 5.221900\n",
      "AI Trader bought:  $ 5.222000\n"
     ]
    },
    {
     "name": "stderr",
     "output_type": "stream",
     "text": [
      "\r",
      " 81%|████████▏ | 2010/2471 [02:50<07:06,  1.08it/s]"
     ]
    },
    {
     "name": "stdout",
     "output_type": "stream",
     "text": [
      "AI Trader sold:  $ 5.221000  Profit: - $ 0.000900\n"
     ]
    },
    {
     "name": "stderr",
     "output_type": "stream",
     "text": [
      "\r",
      " 81%|████████▏ | 2011/2471 [02:51<07:35,  1.01it/s]"
     ]
    },
    {
     "name": "stdout",
     "output_type": "stream",
     "text": [
      "AI Trader bought:  $ 5.222500\n"
     ]
    },
    {
     "name": "stderr",
     "output_type": "stream",
     "text": [
      "\r",
      " 81%|████████▏ | 2012/2471 [02:52<07:52,  1.03s/it]"
     ]
    },
    {
     "name": "stdout",
     "output_type": "stream",
     "text": [
      "AI Trader bought:  $ 5.222900\n"
     ]
    },
    {
     "name": "stderr",
     "output_type": "stream",
     "text": [
      " 82%|████████▏ | 2014/2471 [02:55<08:14,  1.08s/it]"
     ]
    },
    {
     "name": "stdout",
     "output_type": "stream",
     "text": [
      "AI Trader bought:  $ 5.222000\n"
     ]
    },
    {
     "name": "stderr",
     "output_type": "stream",
     "text": [
      " 82%|████████▏ | 2017/2471 [02:58<08:13,  1.09s/it]"
     ]
    },
    {
     "name": "stdout",
     "output_type": "stream",
     "text": [
      "AI Trader sold:  $ 5.221400  Profit: - $ 0.000600\n"
     ]
    },
    {
     "name": "stderr",
     "output_type": "stream",
     "text": [
      "\r",
      " 82%|████████▏ | 2018/2471 [02:59<08:10,  1.08s/it]"
     ]
    },
    {
     "name": "stdout",
     "output_type": "stream",
     "text": [
      "AI Trader bought:  $ 5.222500\n"
     ]
    },
    {
     "name": "stderr",
     "output_type": "stream",
     "text": [
      " 82%|████████▏ | 2021/2471 [03:02<07:45,  1.03s/it]"
     ]
    },
    {
     "name": "stdout",
     "output_type": "stream",
     "text": [
      "AI Trader bought:  $ 5.222900\n"
     ]
    },
    {
     "name": "stderr",
     "output_type": "stream",
     "text": [
      "\r",
      " 82%|████████▏ | 2022/2471 [03:03<07:34,  1.01s/it]"
     ]
    },
    {
     "name": "stdout",
     "output_type": "stream",
     "text": [
      "AI Trader bought:  $ 5.223500\n"
     ]
    },
    {
     "name": "stderr",
     "output_type": "stream",
     "text": [
      " 82%|████████▏ | 2025/2471 [03:06<07:22,  1.01it/s]"
     ]
    },
    {
     "name": "stdout",
     "output_type": "stream",
     "text": [
      "AI Trader bought:  $ 5.222200\n"
     ]
    },
    {
     "name": "stderr",
     "output_type": "stream",
     "text": [
      "\r",
      " 82%|████████▏ | 2026/2471 [03:07<07:18,  1.02it/s]"
     ]
    },
    {
     "name": "stdout",
     "output_type": "stream",
     "text": [
      "AI Trader bought:  $ 5.221700\n"
     ]
    },
    {
     "name": "stderr",
     "output_type": "stream",
     "text": [
      "\r",
      " 82%|████████▏ | 2027/2471 [03:08<07:40,  1.04s/it]"
     ]
    },
    {
     "name": "stdout",
     "output_type": "stream",
     "text": [
      "AI Trader sold:  $ 5.222700  Profit: $ 0.000200\n"
     ]
    },
    {
     "name": "stderr",
     "output_type": "stream",
     "text": [
      "\r",
      " 82%|████████▏ | 2028/2471 [03:09<07:29,  1.02s/it]"
     ]
    },
    {
     "name": "stdout",
     "output_type": "stream",
     "text": [
      "AI Trader bought:  $ 5.222500\n"
     ]
    },
    {
     "name": "stderr",
     "output_type": "stream",
     "text": [
      "\r",
      " 82%|████████▏ | 2029/2471 [03:10<07:26,  1.01s/it]"
     ]
    },
    {
     "name": "stdout",
     "output_type": "stream",
     "text": [
      "AI Trader bought:  $ 5.221500\n"
     ]
    },
    {
     "name": "stderr",
     "output_type": "stream",
     "text": [
      "\r",
      " 82%|████████▏ | 2030/2471 [03:11<07:16,  1.01it/s]"
     ]
    },
    {
     "name": "stdout",
     "output_type": "stream",
     "text": [
      "AI Trader sold:  $ 5.223200  Profit: $ 0.000300\n"
     ]
    },
    {
     "name": "stderr",
     "output_type": "stream",
     "text": [
      "\r",
      " 82%|████████▏ | 2031/2471 [03:12<07:11,  1.02it/s]"
     ]
    },
    {
     "name": "stdout",
     "output_type": "stream",
     "text": [
      "AI Trader sold:  $ 5.223400  Profit: $ 0.001400\n"
     ]
    },
    {
     "name": "stderr",
     "output_type": "stream",
     "text": [
      "\r",
      " 82%|████████▏ | 2032/2471 [03:13<07:16,  1.01it/s]"
     ]
    },
    {
     "name": "stdout",
     "output_type": "stream",
     "text": [
      "AI Trader sold:  $ 5.223500  Profit: $ 0.001000\n"
     ]
    },
    {
     "name": "stderr",
     "output_type": "stream",
     "text": [
      "\r",
      " 82%|████████▏ | 2033/2471 [03:14<07:13,  1.01it/s]"
     ]
    },
    {
     "name": "stdout",
     "output_type": "stream",
     "text": [
      "AI Trader sold:  $ 5.223400  Profit: $ 0.000500\n"
     ]
    },
    {
     "name": "stderr",
     "output_type": "stream",
     "text": [
      "\r",
      " 82%|████████▏ | 2034/2471 [03:15<07:15,  1.00it/s]"
     ]
    },
    {
     "name": "stdout",
     "output_type": "stream",
     "text": [
      "AI Trader sold:  $ 5.224000  Profit: $ 0.000500\n"
     ]
    },
    {
     "name": "stderr",
     "output_type": "stream",
     "text": [
      "\r",
      " 82%|████████▏ | 2035/2471 [03:16<07:05,  1.02it/s]"
     ]
    },
    {
     "name": "stdout",
     "output_type": "stream",
     "text": [
      "AI Trader sold:  $ 5.221400  Profit: - $ 0.000800\n"
     ]
    },
    {
     "name": "stderr",
     "output_type": "stream",
     "text": [
      "\r",
      " 82%|████████▏ | 2036/2471 [03:17<06:59,  1.04it/s]"
     ]
    },
    {
     "name": "stdout",
     "output_type": "stream",
     "text": [
      "AI Trader sold:  $ 5.221200  Profit: - $ 0.000500\n"
     ]
    },
    {
     "name": "stderr",
     "output_type": "stream",
     "text": [
      "\r",
      " 82%|████████▏ | 2037/2471 [03:18<07:02,  1.03it/s]"
     ]
    },
    {
     "name": "stdout",
     "output_type": "stream",
     "text": [
      "AI Trader sold:  $ 5.221000  Profit: - $ 0.001500\n"
     ]
    },
    {
     "name": "stderr",
     "output_type": "stream",
     "text": [
      "\r",
      " 82%|████████▏ | 2038/2471 [03:19<06:56,  1.04it/s]"
     ]
    },
    {
     "name": "stdout",
     "output_type": "stream",
     "text": [
      "AI Trader sold:  $ 5.223400  Profit: $ 0.001900\n"
     ]
    },
    {
     "name": "stderr",
     "output_type": "stream",
     "text": [
      " 83%|████████▎ | 2043/2471 [03:24<07:33,  1.06s/it]"
     ]
    },
    {
     "name": "stdout",
     "output_type": "stream",
     "text": [
      "AI Trader bought:  $ 5.221900\n"
     ]
    },
    {
     "name": "stderr",
     "output_type": "stream",
     "text": [
      "\r",
      " 83%|████████▎ | 2044/2471 [03:25<07:54,  1.11s/it]"
     ]
    },
    {
     "name": "stdout",
     "output_type": "stream",
     "text": [
      "AI Trader bought:  $ 5.222000\n"
     ]
    },
    {
     "name": "stderr",
     "output_type": "stream",
     "text": [
      "\r",
      " 83%|████████▎ | 2045/2471 [03:26<07:36,  1.07s/it]"
     ]
    },
    {
     "name": "stdout",
     "output_type": "stream",
     "text": [
      "AI Trader bought:  $ 5.221200\n"
     ]
    },
    {
     "name": "stderr",
     "output_type": "stream",
     "text": [
      "\r",
      " 83%|████████▎ | 2046/2471 [03:27<07:24,  1.05s/it]"
     ]
    },
    {
     "name": "stdout",
     "output_type": "stream",
     "text": [
      "AI Trader sold:  $ 5.221800  Profit: - $ 0.000100\n"
     ]
    },
    {
     "name": "stderr",
     "output_type": "stream",
     "text": [
      "\r",
      " 83%|████████▎ | 2047/2471 [03:28<07:22,  1.04s/it]"
     ]
    },
    {
     "name": "stdout",
     "output_type": "stream",
     "text": [
      "AI Trader bought:  $ 5.221000\n"
     ]
    },
    {
     "name": "stderr",
     "output_type": "stream",
     "text": [
      "\r",
      " 83%|████████▎ | 2048/2471 [03:29<07:10,  1.02s/it]"
     ]
    },
    {
     "name": "stdout",
     "output_type": "stream",
     "text": [
      "AI Trader sold:  $ 5.220000  Profit: - $ 0.002000\n"
     ]
    },
    {
     "name": "stderr",
     "output_type": "stream",
     "text": [
      "\r",
      " 83%|████████▎ | 2049/2471 [03:30<06:59,  1.01it/s]"
     ]
    },
    {
     "name": "stdout",
     "output_type": "stream",
     "text": [
      "AI Trader sold:  $ 5.221900  Profit: $ 0.000700\n"
     ]
    },
    {
     "name": "stderr",
     "output_type": "stream",
     "text": [
      "\r",
      " 83%|████████▎ | 2050/2471 [03:31<06:53,  1.02it/s]"
     ]
    },
    {
     "name": "stdout",
     "output_type": "stream",
     "text": [
      "AI Trader sold:  $ 5.220000  Profit: - $ 0.001000\n"
     ]
    },
    {
     "name": "stderr",
     "output_type": "stream",
     "text": [
      " 83%|████████▎ | 2057/2471 [03:38<07:02,  1.02s/it]"
     ]
    },
    {
     "name": "stdout",
     "output_type": "stream",
     "text": [
      "AI Trader bought:  $ 5.229400\n"
     ]
    },
    {
     "name": "stderr",
     "output_type": "stream",
     "text": [
      "\r",
      " 83%|████████▎ | 2058/2471 [03:40<07:02,  1.02s/it]"
     ]
    },
    {
     "name": "stdout",
     "output_type": "stream",
     "text": [
      "AI Trader sold:  $ 5.227200  Profit: - $ 0.002200\n"
     ]
    },
    {
     "name": "stderr",
     "output_type": "stream",
     "text": [
      " 83%|████████▎ | 2060/2471 [03:42<06:56,  1.01s/it]"
     ]
    },
    {
     "name": "stdout",
     "output_type": "stream",
     "text": [
      "AI Trader bought:  $ 5.226500\n"
     ]
    },
    {
     "name": "stderr",
     "output_type": "stream",
     "text": [
      "\r",
      " 83%|████████▎ | 2061/2471 [03:43<06:51,  1.00s/it]"
     ]
    },
    {
     "name": "stdout",
     "output_type": "stream",
     "text": [
      "AI Trader bought:  $ 5.227000\n"
     ]
    },
    {
     "name": "stderr",
     "output_type": "stream",
     "text": [
      "\r",
      " 83%|████████▎ | 2062/2471 [03:44<07:22,  1.08s/it]"
     ]
    },
    {
     "name": "stdout",
     "output_type": "stream",
     "text": [
      "AI Trader bought:  $ 5.227700\n"
     ]
    },
    {
     "name": "stderr",
     "output_type": "stream",
     "text": [
      "\r",
      " 83%|████████▎ | 2063/2471 [03:45<07:42,  1.13s/it]"
     ]
    },
    {
     "name": "stdout",
     "output_type": "stream",
     "text": [
      "AI Trader bought:  $ 5.228000\n"
     ]
    },
    {
     "name": "stderr",
     "output_type": "stream",
     "text": [
      "\r",
      " 84%|████████▎ | 2064/2471 [03:46<07:35,  1.12s/it]"
     ]
    },
    {
     "name": "stdout",
     "output_type": "stream",
     "text": [
      "AI Trader sold:  $ 5.225700  Profit: - $ 0.000800\n"
     ]
    },
    {
     "name": "stderr",
     "output_type": "stream",
     "text": [
      "\r",
      " 84%|████████▎ | 2065/2471 [03:47<07:25,  1.10s/it]"
     ]
    },
    {
     "name": "stdout",
     "output_type": "stream",
     "text": [
      "AI Trader sold:  $ 5.226400  Profit: - $ 0.000600\n"
     ]
    },
    {
     "name": "stderr",
     "output_type": "stream",
     "text": [
      "\r",
      " 84%|████████▎ | 2066/2471 [03:48<07:11,  1.06s/it]"
     ]
    },
    {
     "name": "stdout",
     "output_type": "stream",
     "text": [
      "AI Trader sold:  $ 5.227500  Profit: - $ 0.000200\n"
     ]
    },
    {
     "name": "stderr",
     "output_type": "stream",
     "text": [
      "\r",
      " 84%|████████▎ | 2067/2471 [03:50<07:44,  1.15s/it]"
     ]
    },
    {
     "name": "stdout",
     "output_type": "stream",
     "text": [
      "AI Trader bought:  $ 5.226200\n"
     ]
    },
    {
     "name": "stderr",
     "output_type": "stream",
     "text": [
      "\r",
      " 84%|████████▎ | 2068/2471 [03:51<07:51,  1.17s/it]"
     ]
    },
    {
     "name": "stdout",
     "output_type": "stream",
     "text": [
      "AI Trader sold:  $ 5.226500  Profit: - $ 0.001500\n"
     ]
    },
    {
     "name": "stderr",
     "output_type": "stream",
     "text": [
      "\r",
      " 84%|████████▎ | 2069/2471 [03:52<08:09,  1.22s/it]"
     ]
    },
    {
     "name": "stdout",
     "output_type": "stream",
     "text": [
      "AI Trader bought:  $ 5.226300\n"
     ]
    },
    {
     "name": "stderr",
     "output_type": "stream",
     "text": [
      "\r",
      " 84%|████████▍ | 2070/2471 [03:54<09:38,  1.44s/it]"
     ]
    },
    {
     "name": "stdout",
     "output_type": "stream",
     "text": [
      "AI Trader sold:  $ 5.229400  Profit: $ 0.003200\n"
     ]
    },
    {
     "name": "stderr",
     "output_type": "stream",
     "text": [
      "\r",
      " 84%|████████▍ | 2071/2471 [03:56<10:35,  1.59s/it]"
     ]
    },
    {
     "name": "stdout",
     "output_type": "stream",
     "text": [
      "AI Trader sold:  $ 5.228700  Profit: $ 0.002400\n"
     ]
    },
    {
     "name": "stderr",
     "output_type": "stream",
     "text": [
      " 84%|████████▍ | 2078/2471 [04:04<07:58,  1.22s/it]"
     ]
    },
    {
     "name": "stdout",
     "output_type": "stream",
     "text": [
      "AI Trader bought:  $ 5.229200\n"
     ]
    },
    {
     "name": "stderr",
     "output_type": "stream",
     "text": [
      "\r",
      " 84%|████████▍ | 2079/2471 [04:05<08:04,  1.23s/it]"
     ]
    },
    {
     "name": "stdout",
     "output_type": "stream",
     "text": [
      "AI Trader bought:  $ 5.228600\n"
     ]
    },
    {
     "name": "stderr",
     "output_type": "stream",
     "text": [
      " 84%|████████▍ | 2082/2471 [04:09<07:26,  1.15s/it]"
     ]
    },
    {
     "name": "stdout",
     "output_type": "stream",
     "text": [
      "AI Trader bought:  $ 5.224900\n"
     ]
    },
    {
     "name": "stderr",
     "output_type": "stream",
     "text": [
      "\r",
      " 84%|████████▍ | 2083/2471 [04:10<08:19,  1.29s/it]"
     ]
    },
    {
     "name": "stdout",
     "output_type": "stream",
     "text": [
      "AI Trader bought:  $ 5.225500\n"
     ]
    },
    {
     "name": "stderr",
     "output_type": "stream",
     "text": [
      "\r",
      " 84%|████████▍ | 2084/2471 [04:12<08:32,  1.32s/it]"
     ]
    },
    {
     "name": "stdout",
     "output_type": "stream",
     "text": [
      "AI Trader sold:  $ 5.225000  Profit: - $ 0.004200\n"
     ]
    },
    {
     "name": "stderr",
     "output_type": "stream",
     "text": [
      "\r",
      " 84%|████████▍ | 2085/2471 [04:13<08:26,  1.31s/it]"
     ]
    },
    {
     "name": "stdout",
     "output_type": "stream",
     "text": [
      "AI Trader bought:  $ 5.224900\n"
     ]
    },
    {
     "name": "stderr",
     "output_type": "stream",
     "text": [
      "\r",
      " 84%|████████▍ | 2086/2471 [04:14<08:07,  1.27s/it]"
     ]
    },
    {
     "name": "stdout",
     "output_type": "stream",
     "text": [
      "AI Trader bought:  $ 5.225200\n"
     ]
    },
    {
     "name": "stderr",
     "output_type": "stream",
     "text": [
      " 85%|████████▍ | 2088/2471 [04:17<08:19,  1.30s/it]"
     ]
    },
    {
     "name": "stdout",
     "output_type": "stream",
     "text": [
      "AI Trader bought:  $ 5.223500\n"
     ]
    },
    {
     "name": "stderr",
     "output_type": "stream",
     "text": [
      "\r",
      " 85%|████████▍ | 2089/2471 [04:18<07:38,  1.20s/it]"
     ]
    },
    {
     "name": "stdout",
     "output_type": "stream",
     "text": [
      "AI Trader bought:  $ 5.225300\n"
     ]
    },
    {
     "name": "stderr",
     "output_type": "stream",
     "text": [
      "\r",
      " 85%|████████▍ | 2090/2471 [04:19<07:32,  1.19s/it]"
     ]
    },
    {
     "name": "stdout",
     "output_type": "stream",
     "text": [
      "AI Trader sold:  $ 5.224000  Profit: - $ 0.004600\n"
     ]
    },
    {
     "name": "stderr",
     "output_type": "stream",
     "text": [
      "\r",
      " 85%|████████▍ | 2091/2471 [04:20<07:08,  1.13s/it]"
     ]
    },
    {
     "name": "stdout",
     "output_type": "stream",
     "text": [
      "AI Trader sold:  $ 5.224800  Profit: - $ 0.000100\n"
     ]
    },
    {
     "name": "stderr",
     "output_type": "stream",
     "text": [
      "\r",
      " 85%|████████▍ | 2092/2471 [04:21<06:47,  1.08s/it]"
     ]
    },
    {
     "name": "stdout",
     "output_type": "stream",
     "text": [
      "AI Trader sold:  $ 5.224500  Profit: - $ 0.001000\n"
     ]
    },
    {
     "name": "stderr",
     "output_type": "stream",
     "text": [
      "\r",
      " 85%|████████▍ | 2093/2471 [04:22<07:17,  1.16s/it]"
     ]
    },
    {
     "name": "stdout",
     "output_type": "stream",
     "text": [
      "AI Trader bought:  $ 5.222900\n"
     ]
    },
    {
     "name": "stderr",
     "output_type": "stream",
     "text": [
      "\r",
      " 85%|████████▍ | 2094/2471 [04:23<06:59,  1.11s/it]"
     ]
    },
    {
     "name": "stdout",
     "output_type": "stream",
     "text": [
      "AI Trader bought:  $ 5.221800\n"
     ]
    },
    {
     "name": "stderr",
     "output_type": "stream",
     "text": [
      "\r",
      " 85%|████████▍ | 2095/2471 [04:24<06:40,  1.07s/it]"
     ]
    },
    {
     "name": "stdout",
     "output_type": "stream",
     "text": [
      "AI Trader sold:  $ 5.223700  Profit: - $ 0.001200\n"
     ]
    },
    {
     "name": "stderr",
     "output_type": "stream",
     "text": [
      "\r",
      " 85%|████████▍ | 2096/2471 [04:26<06:54,  1.11s/it]"
     ]
    },
    {
     "name": "stdout",
     "output_type": "stream",
     "text": [
      "AI Trader bought:  $ 5.224000\n"
     ]
    },
    {
     "name": "stderr",
     "output_type": "stream",
     "text": [
      "\r",
      " 85%|████████▍ | 2097/2471 [04:27<06:36,  1.06s/it]"
     ]
    },
    {
     "name": "stdout",
     "output_type": "stream",
     "text": [
      "AI Trader bought:  $ 5.224900\n"
     ]
    },
    {
     "name": "stderr",
     "output_type": "stream",
     "text": [
      " 85%|████████▍ | 2099/2471 [04:28<06:09,  1.01it/s]"
     ]
    },
    {
     "name": "stdout",
     "output_type": "stream",
     "text": [
      "AI Trader bought:  $ 5.222900\n"
     ]
    },
    {
     "name": "stderr",
     "output_type": "stream",
     "text": [
      "\r",
      " 85%|████████▍ | 2100/2471 [04:29<06:11,  1.00s/it]"
     ]
    },
    {
     "name": "stdout",
     "output_type": "stream",
     "text": [
      "AI Trader bought:  $ 5.221400\n"
     ]
    },
    {
     "name": "stderr",
     "output_type": "stream",
     "text": [
      " 85%|████████▌ | 2105/2471 [04:34<06:03,  1.01it/s]"
     ]
    },
    {
     "name": "stdout",
     "output_type": "stream",
     "text": [
      "AI Trader sold:  $ 5.223100  Profit: - $ 0.002100\n"
     ]
    },
    {
     "name": "stderr",
     "output_type": "stream",
     "text": [
      "\r",
      " 85%|████████▌ | 2106/2471 [04:35<06:01,  1.01it/s]"
     ]
    },
    {
     "name": "stdout",
     "output_type": "stream",
     "text": [
      "AI Trader sold:  $ 5.222900  Profit: - $ 0.000600\n"
     ]
    },
    {
     "name": "stderr",
     "output_type": "stream",
     "text": [
      "\r",
      " 85%|████████▌ | 2107/2471 [04:36<06:09,  1.02s/it]"
     ]
    },
    {
     "name": "stdout",
     "output_type": "stream",
     "text": [
      "AI Trader sold:  $ 5.223500  Profit: - $ 0.001800\n"
     ]
    },
    {
     "name": "stderr",
     "output_type": "stream",
     "text": [
      "\r",
      " 85%|████████▌ | 2108/2471 [04:37<06:04,  1.00s/it]"
     ]
    },
    {
     "name": "stdout",
     "output_type": "stream",
     "text": [
      "AI Trader bought:  $ 5.222500\n"
     ]
    },
    {
     "name": "stderr",
     "output_type": "stream",
     "text": [
      "\r",
      " 85%|████████▌ | 2109/2471 [04:38<05:59,  1.01it/s]"
     ]
    },
    {
     "name": "stdout",
     "output_type": "stream",
     "text": [
      "AI Trader bought:  $ 5.224000\n"
     ]
    },
    {
     "name": "stderr",
     "output_type": "stream",
     "text": [
      "\r",
      " 85%|████████▌ | 2110/2471 [04:39<05:52,  1.02it/s]"
     ]
    },
    {
     "name": "stdout",
     "output_type": "stream",
     "text": [
      "AI Trader sold:  $ 5.223300  Profit: $ 0.000400\n"
     ]
    },
    {
     "name": "stderr",
     "output_type": "stream",
     "text": [
      "\r",
      " 85%|████████▌ | 2111/2471 [04:40<05:54,  1.02it/s]"
     ]
    },
    {
     "name": "stdout",
     "output_type": "stream",
     "text": [
      "AI Trader sold:  $ 5.224000  Profit: $ 0.002200\n"
     ]
    },
    {
     "name": "stderr",
     "output_type": "stream",
     "text": [
      "\r",
      " 85%|████████▌ | 2112/2471 [04:41<05:51,  1.02it/s]"
     ]
    },
    {
     "name": "stdout",
     "output_type": "stream",
     "text": [
      "AI Trader sold:  $ 5.225000  Profit: $ 0.001000\n"
     ]
    },
    {
     "name": "stderr",
     "output_type": "stream",
     "text": [
      "\r",
      " 86%|████████▌ | 2113/2471 [04:43<06:18,  1.06s/it]"
     ]
    },
    {
     "name": "stdout",
     "output_type": "stream",
     "text": [
      "AI Trader sold:  $ 5.226000  Profit: $ 0.001100\n"
     ]
    },
    {
     "name": "stderr",
     "output_type": "stream",
     "text": [
      "\r",
      " 86%|████████▌ | 2114/2471 [04:44<06:12,  1.04s/it]"
     ]
    },
    {
     "name": "stdout",
     "output_type": "stream",
     "text": [
      "AI Trader sold:  $ 5.224000  Profit: $ 0.001100\n"
     ]
    },
    {
     "name": "stderr",
     "output_type": "stream",
     "text": [
      "\r",
      " 86%|████████▌ | 2115/2471 [04:45<06:03,  1.02s/it]"
     ]
    },
    {
     "name": "stdout",
     "output_type": "stream",
     "text": [
      "AI Trader sold:  $ 5.224200  Profit: $ 0.002800\n"
     ]
    },
    {
     "name": "stderr",
     "output_type": "stream",
     "text": [
      "\r",
      " 86%|████████▌ | 2116/2471 [04:46<05:58,  1.01s/it]"
     ]
    },
    {
     "name": "stdout",
     "output_type": "stream",
     "text": [
      "AI Trader bought:  $ 5.223400\n"
     ]
    },
    {
     "name": "stderr",
     "output_type": "stream",
     "text": [
      "\r",
      " 86%|████████▌ | 2117/2471 [04:47<05:55,  1.00s/it]"
     ]
    },
    {
     "name": "stdout",
     "output_type": "stream",
     "text": [
      "AI Trader sold:  $ 5.223700  Profit: $ 0.001200\n"
     ]
    },
    {
     "name": "stderr",
     "output_type": "stream",
     "text": [
      " 86%|████████▌ | 2119/2471 [04:48<05:44,  1.02it/s]"
     ]
    },
    {
     "name": "stdout",
     "output_type": "stream",
     "text": [
      "AI Trader sold:  $ 5.223300  Profit: - $ 0.000700\n"
     ]
    },
    {
     "name": "stderr",
     "output_type": "stream",
     "text": [
      "\r",
      " 86%|████████▌ | 2120/2471 [04:49<05:43,  1.02it/s]"
     ]
    },
    {
     "name": "stdout",
     "output_type": "stream",
     "text": [
      "AI Trader sold:  $ 5.224500  Profit: $ 0.001100\n"
     ]
    },
    {
     "name": "stderr",
     "output_type": "stream",
     "text": [
      "\r",
      " 86%|████████▌ | 2121/2471 [04:50<05:42,  1.02it/s]"
     ]
    },
    {
     "name": "stdout",
     "output_type": "stream",
     "text": [
      "AI Trader bought:  $ 5.224000\n"
     ]
    },
    {
     "name": "stderr",
     "output_type": "stream",
     "text": [
      "\r",
      " 86%|████████▌ | 2122/2471 [04:51<05:35,  1.04it/s]"
     ]
    },
    {
     "name": "stdout",
     "output_type": "stream",
     "text": [
      "AI Trader bought:  $ 5.222300\n"
     ]
    },
    {
     "name": "stderr",
     "output_type": "stream",
     "text": [
      " 86%|████████▌ | 2129/2471 [04:59<06:45,  1.19s/it]"
     ]
    },
    {
     "name": "stdout",
     "output_type": "stream",
     "text": [
      "AI Trader sold:  $ 5.223500  Profit: - $ 0.000500\n"
     ]
    },
    {
     "name": "stderr",
     "output_type": "stream",
     "text": [
      "\r",
      " 86%|████████▌ | 2130/2471 [05:01<07:12,  1.27s/it]"
     ]
    },
    {
     "name": "stdout",
     "output_type": "stream",
     "text": [
      "AI Trader bought:  $ 5.222700\n"
     ]
    },
    {
     "name": "stderr",
     "output_type": "stream",
     "text": [
      "\r",
      " 86%|████████▌ | 2131/2471 [05:02<06:58,  1.23s/it]"
     ]
    },
    {
     "name": "stdout",
     "output_type": "stream",
     "text": [
      "AI Trader sold:  $ 5.222500  Profit: $ 0.000200\n"
     ]
    },
    {
     "name": "stderr",
     "output_type": "stream",
     "text": [
      "\r",
      " 86%|████████▋ | 2132/2471 [05:03<07:00,  1.24s/it]"
     ]
    },
    {
     "name": "stdout",
     "output_type": "stream",
     "text": [
      "AI Trader sold:  $ 5.222900  Profit: $ 0.000200\n"
     ]
    },
    {
     "name": "stderr",
     "output_type": "stream",
     "text": [
      "\r",
      " 86%|████████▋ | 2133/2471 [05:04<07:03,  1.25s/it]"
     ]
    },
    {
     "name": "stdout",
     "output_type": "stream",
     "text": [
      "AI Trader bought:  $ 5.222700\n"
     ]
    },
    {
     "name": "stderr",
     "output_type": "stream",
     "text": [
      "\r",
      " 86%|████████▋ | 2134/2471 [05:06<07:07,  1.27s/it]"
     ]
    },
    {
     "name": "stdout",
     "output_type": "stream",
     "text": [
      "AI Trader sold:  $ 5.222800  Profit: $ 0.000100\n"
     ]
    },
    {
     "name": "stderr",
     "output_type": "stream",
     "text": [
      " 86%|████████▋ | 2136/2471 [05:08<07:08,  1.28s/it]"
     ]
    },
    {
     "name": "stdout",
     "output_type": "stream",
     "text": [
      "AI Trader bought:  $ 5.221900\n"
     ]
    },
    {
     "name": "stderr",
     "output_type": "stream",
     "text": [
      "\r",
      " 86%|████████▋ | 2137/2471 [05:10<06:59,  1.26s/it]"
     ]
    },
    {
     "name": "stdout",
     "output_type": "stream",
     "text": [
      "AI Trader bought:  $ 5.221800\n"
     ]
    },
    {
     "name": "stderr",
     "output_type": "stream",
     "text": [
      " 87%|████████▋ | 2139/2471 [05:12<06:43,  1.22s/it]"
     ]
    },
    {
     "name": "stdout",
     "output_type": "stream",
     "text": [
      "AI Trader bought:  $ 5.223000\n"
     ]
    },
    {
     "name": "stderr",
     "output_type": "stream",
     "text": [
      " 87%|████████▋ | 2141/2471 [05:14<06:37,  1.20s/it]"
     ]
    },
    {
     "name": "stdout",
     "output_type": "stream",
     "text": [
      "AI Trader bought:  $ 5.224000\n"
     ]
    },
    {
     "name": "stderr",
     "output_type": "stream",
     "text": [
      "\r",
      " 87%|████████▋ | 2142/2471 [05:16<06:40,  1.22s/it]"
     ]
    },
    {
     "name": "stdout",
     "output_type": "stream",
     "text": [
      "AI Trader sold:  $ 5.222500  Profit: $ 0.000600\n"
     ]
    },
    {
     "name": "stderr",
     "output_type": "stream",
     "text": [
      " 87%|████████▋ | 2144/2471 [05:18<06:39,  1.22s/it]"
     ]
    },
    {
     "name": "stdout",
     "output_type": "stream",
     "text": [
      "AI Trader bought:  $ 5.221000\n"
     ]
    },
    {
     "name": "stderr",
     "output_type": "stream",
     "text": [
      " 87%|████████▋ | 2147/2471 [05:22<07:40,  1.42s/it]"
     ]
    },
    {
     "name": "stdout",
     "output_type": "stream",
     "text": [
      "AI Trader bought:  $ 5.221800\n"
     ]
    },
    {
     "name": "stderr",
     "output_type": "stream",
     "text": [
      "\r",
      " 87%|████████▋ | 2148/2471 [05:24<07:30,  1.39s/it]"
     ]
    },
    {
     "name": "stdout",
     "output_type": "stream",
     "text": [
      "AI Trader sold:  $ 5.223000  Profit: $ 0.001200\n"
     ]
    },
    {
     "name": "stderr",
     "output_type": "stream",
     "text": [
      "\r",
      " 87%|████████▋ | 2149/2471 [05:25<07:05,  1.32s/it]"
     ]
    },
    {
     "name": "stdout",
     "output_type": "stream",
     "text": [
      "AI Trader sold:  $ 5.222500  Profit: - $ 0.000500\n"
     ]
    },
    {
     "name": "stderr",
     "output_type": "stream",
     "text": [
      "\r",
      " 87%|████████▋ | 2150/2471 [05:26<06:57,  1.30s/it]"
     ]
    },
    {
     "name": "stdout",
     "output_type": "stream",
     "text": [
      "AI Trader sold:  $ 5.225500  Profit: $ 0.001500\n"
     ]
    },
    {
     "name": "stderr",
     "output_type": "stream",
     "text": [
      "\r",
      " 87%|████████▋ | 2151/2471 [05:27<06:50,  1.28s/it]"
     ]
    },
    {
     "name": "stdout",
     "output_type": "stream",
     "text": [
      "AI Trader sold:  $ 5.224700  Profit: $ 0.003700\n"
     ]
    },
    {
     "name": "stderr",
     "output_type": "stream",
     "text": [
      "\r",
      " 87%|████████▋ | 2152/2471 [05:29<06:51,  1.29s/it]"
     ]
    },
    {
     "name": "stdout",
     "output_type": "stream",
     "text": [
      "AI Trader sold:  $ 5.224900  Profit: $ 0.003100\n"
     ]
    },
    {
     "name": "stderr",
     "output_type": "stream",
     "text": [
      " 87%|████████▋ | 2155/2471 [05:32<06:35,  1.25s/it]"
     ]
    },
    {
     "name": "stdout",
     "output_type": "stream",
     "text": [
      "AI Trader bought:  $ 5.226000\n"
     ]
    },
    {
     "name": "stderr",
     "output_type": "stream",
     "text": [
      "\r",
      " 87%|████████▋ | 2156/2471 [05:34<06:29,  1.24s/it]"
     ]
    },
    {
     "name": "stdout",
     "output_type": "stream",
     "text": [
      "AI Trader sold:  $ 5.224200  Profit: - $ 0.001800\n"
     ]
    },
    {
     "name": "stderr",
     "output_type": "stream",
     "text": [
      " 87%|████████▋ | 2158/2471 [05:36<06:53,  1.32s/it]"
     ]
    },
    {
     "name": "stdout",
     "output_type": "stream",
     "text": [
      "AI Trader bought:  $ 5.224500\n"
     ]
    },
    {
     "name": "stderr",
     "output_type": "stream",
     "text": [
      "\r",
      " 87%|████████▋ | 2159/2471 [05:38<07:18,  1.41s/it]"
     ]
    },
    {
     "name": "stdout",
     "output_type": "stream",
     "text": [
      "AI Trader bought:  $ 5.224200\n"
     ]
    },
    {
     "name": "stderr",
     "output_type": "stream",
     "text": [
      "\r",
      " 87%|████████▋ | 2160/2471 [05:39<07:17,  1.41s/it]"
     ]
    },
    {
     "name": "stdout",
     "output_type": "stream",
     "text": [
      "AI Trader bought:  $ 5.224500\n"
     ]
    },
    {
     "name": "stderr",
     "output_type": "stream",
     "text": [
      "\r",
      " 87%|████████▋ | 2161/2471 [05:41<07:47,  1.51s/it]"
     ]
    },
    {
     "name": "stdout",
     "output_type": "stream",
     "text": [
      "AI Trader bought:  $ 5.224200\n"
     ]
    },
    {
     "name": "stderr",
     "output_type": "stream",
     "text": [
      "\r",
      " 87%|████████▋ | 2162/2471 [05:42<07:27,  1.45s/it]"
     ]
    },
    {
     "name": "stdout",
     "output_type": "stream",
     "text": [
      "AI Trader bought:  $ 5.224500\n"
     ]
    },
    {
     "name": "stderr",
     "output_type": "stream",
     "text": [
      "\r",
      " 88%|████████▊ | 2163/2471 [05:44<07:22,  1.44s/it]"
     ]
    },
    {
     "name": "stdout",
     "output_type": "stream",
     "text": [
      "AI Trader sold:  $ 5.225200  Profit: $ 0.000700\n"
     ]
    },
    {
     "name": "stderr",
     "output_type": "stream",
     "text": [
      "\r",
      " 88%|████████▊ | 2164/2471 [05:46<07:44,  1.51s/it]"
     ]
    },
    {
     "name": "stdout",
     "output_type": "stream",
     "text": [
      "AI Trader sold:  $ 5.224200  Profit: $ 0.000000\n"
     ]
    },
    {
     "name": "stderr",
     "output_type": "stream",
     "text": [
      "\r",
      " 88%|████████▊ | 2165/2471 [05:47<07:28,  1.47s/it]"
     ]
    },
    {
     "name": "stdout",
     "output_type": "stream",
     "text": [
      "AI Trader sold:  $ 5.226000  Profit: $ 0.001500\n"
     ]
    },
    {
     "name": "stderr",
     "output_type": "stream",
     "text": [
      "\r",
      " 88%|████████▊ | 2166/2471 [05:48<07:03,  1.39s/it]"
     ]
    },
    {
     "name": "stdout",
     "output_type": "stream",
     "text": [
      "AI Trader sold:  $ 5.226500  Profit: $ 0.002300\n"
     ]
    },
    {
     "name": "stderr",
     "output_type": "stream",
     "text": [
      "\r",
      " 88%|████████▊ | 2167/2471 [05:50<07:12,  1.42s/it]"
     ]
    },
    {
     "name": "stdout",
     "output_type": "stream",
     "text": [
      "AI Trader sold:  $ 5.227800  Profit: $ 0.003300\n"
     ]
    },
    {
     "name": "stderr",
     "output_type": "stream",
     "text": [
      " 88%|████████▊ | 2174/2471 [05:59<07:06,  1.43s/it]"
     ]
    },
    {
     "name": "stdout",
     "output_type": "stream",
     "text": [
      "AI Trader bought:  $ 5.227100\n"
     ]
    },
    {
     "name": "stderr",
     "output_type": "stream",
     "text": [
      "\r",
      " 88%|████████▊ | 2175/2471 [06:01<06:57,  1.41s/it]"
     ]
    },
    {
     "name": "stdout",
     "output_type": "stream",
     "text": [
      "AI Trader sold:  $ 5.226000  Profit: - $ 0.001100\n"
     ]
    },
    {
     "name": "stderr",
     "output_type": "stream",
     "text": [
      " 88%|████████▊ | 2181/2471 [06:09<06:51,  1.42s/it]"
     ]
    },
    {
     "name": "stdout",
     "output_type": "stream",
     "text": [
      "AI Trader bought:  $ 5.223700\n"
     ]
    },
    {
     "name": "stderr",
     "output_type": "stream",
     "text": [
      "\r",
      " 88%|████████▊ | 2182/2471 [06:11<06:52,  1.43s/it]"
     ]
    },
    {
     "name": "stdout",
     "output_type": "stream",
     "text": [
      "AI Trader bought:  $ 5.224500\n"
     ]
    },
    {
     "name": "stderr",
     "output_type": "stream",
     "text": [
      "\r",
      " 88%|████████▊ | 2183/2471 [06:12<06:35,  1.37s/it]"
     ]
    },
    {
     "name": "stdout",
     "output_type": "stream",
     "text": [
      "AI Trader bought:  $ 5.221500\n"
     ]
    },
    {
     "name": "stderr",
     "output_type": "stream",
     "text": [
      "\r",
      " 88%|████████▊ | 2184/2471 [06:14<06:41,  1.40s/it]"
     ]
    },
    {
     "name": "stdout",
     "output_type": "stream",
     "text": [
      "AI Trader bought:  $ 5.219900\n"
     ]
    },
    {
     "name": "stderr",
     "output_type": "stream",
     "text": [
      "\r",
      " 88%|████████▊ | 2185/2471 [06:15<06:42,  1.41s/it]"
     ]
    },
    {
     "name": "stdout",
     "output_type": "stream",
     "text": [
      "AI Trader sold:  $ 5.219300  Profit: - $ 0.004400\n"
     ]
    },
    {
     "name": "stderr",
     "output_type": "stream",
     "text": [
      "\r",
      " 88%|████████▊ | 2186/2471 [06:16<06:25,  1.35s/it]"
     ]
    },
    {
     "name": "stdout",
     "output_type": "stream",
     "text": [
      "AI Trader sold:  $ 5.220000  Profit: - $ 0.004500\n"
     ]
    },
    {
     "name": "stderr",
     "output_type": "stream",
     "text": [
      "\r",
      " 89%|████████▊ | 2187/2471 [06:17<06:15,  1.32s/it]"
     ]
    },
    {
     "name": "stdout",
     "output_type": "stream",
     "text": [
      "AI Trader sold:  $ 5.221200  Profit: - $ 0.000300\n"
     ]
    },
    {
     "name": "stderr",
     "output_type": "stream",
     "text": [
      "\r",
      " 89%|████████▊ | 2188/2471 [06:19<06:09,  1.31s/it]"
     ]
    },
    {
     "name": "stdout",
     "output_type": "stream",
     "text": [
      "AI Trader sold:  $ 5.220200  Profit: $ 0.000300\n"
     ]
    },
    {
     "name": "stderr",
     "output_type": "stream",
     "text": [
      " 89%|████████▊ | 2192/2471 [06:24<06:31,  1.40s/it]"
     ]
    },
    {
     "name": "stdout",
     "output_type": "stream",
     "text": [
      "AI Trader bought:  $ 5.219900\n"
     ]
    },
    {
     "name": "stderr",
     "output_type": "stream",
     "text": [
      " 89%|████████▉ | 2197/2471 [06:32<07:02,  1.54s/it]"
     ]
    },
    {
     "name": "stdout",
     "output_type": "stream",
     "text": [
      "AI Trader bought:  $ 5.219700\n"
     ]
    },
    {
     "name": "stderr",
     "output_type": "stream",
     "text": [
      "\r",
      " 89%|████████▉ | 2198/2471 [06:34<07:29,  1.65s/it]"
     ]
    },
    {
     "name": "stdout",
     "output_type": "stream",
     "text": [
      "AI Trader bought:  $ 5.218200\n"
     ]
    },
    {
     "name": "stderr",
     "output_type": "stream",
     "text": [
      "\r",
      " 89%|████████▉ | 2199/2471 [06:35<07:41,  1.70s/it]"
     ]
    },
    {
     "name": "stdout",
     "output_type": "stream",
     "text": [
      "AI Trader bought:  $ 5.219500\n"
     ]
    },
    {
     "name": "stderr",
     "output_type": "stream",
     "text": [
      " 89%|████████▉ | 2203/2471 [06:41<06:33,  1.47s/it]"
     ]
    },
    {
     "name": "stdout",
     "output_type": "stream",
     "text": [
      "AI Trader sold:  $ 5.221700  Profit: $ 0.001800\n"
     ]
    },
    {
     "name": "stderr",
     "output_type": "stream",
     "text": [
      "\r",
      " 89%|████████▉ | 2204/2471 [06:42<06:13,  1.40s/it]"
     ]
    },
    {
     "name": "stdout",
     "output_type": "stream",
     "text": [
      "AI Trader sold:  $ 5.221900  Profit: $ 0.002200\n"
     ]
    },
    {
     "name": "stderr",
     "output_type": "stream",
     "text": [
      "\r",
      " 89%|████████▉ | 2205/2471 [06:44<06:29,  1.46s/it]"
     ]
    },
    {
     "name": "stdout",
     "output_type": "stream",
     "text": [
      "AI Trader sold:  $ 5.223200  Profit: $ 0.005000\n"
     ]
    },
    {
     "name": "stderr",
     "output_type": "stream",
     "text": [
      "\r",
      " 89%|████████▉ | 2206/2471 [06:46<06:42,  1.52s/it]"
     ]
    },
    {
     "name": "stdout",
     "output_type": "stream",
     "text": [
      "AI Trader sold:  $ 5.222500  Profit: $ 0.003000\n"
     ]
    },
    {
     "name": "stderr",
     "output_type": "stream",
     "text": [
      " 90%|█████████ | 2233/2471 [07:27<05:12,  1.31s/it]"
     ]
    },
    {
     "name": "stdout",
     "output_type": "stream",
     "text": [
      "AI Trader bought:  $ 5.232900\n"
     ]
    },
    {
     "name": "stderr",
     "output_type": "stream",
     "text": [
      "\r",
      " 90%|█████████ | 2234/2471 [07:29<05:16,  1.34s/it]"
     ]
    },
    {
     "name": "stdout",
     "output_type": "stream",
     "text": [
      "AI Trader sold:  $ 5.233000  Profit: $ 0.000100\n"
     ]
    },
    {
     "name": "stderr",
     "output_type": "stream",
     "text": [
      " 90%|█████████ | 2236/2471 [07:32<05:28,  1.40s/it]"
     ]
    },
    {
     "name": "stdout",
     "output_type": "stream",
     "text": [
      "AI Trader bought:  $ 5.233200\n"
     ]
    },
    {
     "name": "stderr",
     "output_type": "stream",
     "text": [
      "\r",
      " 91%|█████████ | 2237/2471 [07:33<05:21,  1.38s/it]"
     ]
    },
    {
     "name": "stdout",
     "output_type": "stream",
     "text": [
      "AI Trader bought:  $ 5.232500\n"
     ]
    },
    {
     "name": "stderr",
     "output_type": "stream",
     "text": [
      "\r",
      " 91%|█████████ | 2238/2471 [07:34<05:33,  1.43s/it]"
     ]
    },
    {
     "name": "stdout",
     "output_type": "stream",
     "text": [
      "AI Trader bought:  $ 5.232200\n"
     ]
    },
    {
     "name": "stderr",
     "output_type": "stream",
     "text": [
      "\r",
      " 91%|█████████ | 2239/2471 [07:36<05:25,  1.40s/it]"
     ]
    },
    {
     "name": "stdout",
     "output_type": "stream",
     "text": [
      "AI Trader bought:  $ 5.231800\n"
     ]
    },
    {
     "name": "stderr",
     "output_type": "stream",
     "text": [
      "\r",
      " 91%|█████████ | 2240/2471 [07:37<05:12,  1.35s/it]"
     ]
    },
    {
     "name": "stdout",
     "output_type": "stream",
     "text": [
      "AI Trader bought:  $ 5.232000\n"
     ]
    },
    {
     "name": "stderr",
     "output_type": "stream",
     "text": [
      "\r",
      " 91%|█████████ | 2241/2471 [07:38<05:05,  1.33s/it]"
     ]
    },
    {
     "name": "stdout",
     "output_type": "stream",
     "text": [
      "AI Trader bought:  $ 5.232500\n"
     ]
    },
    {
     "name": "stderr",
     "output_type": "stream",
     "text": [
      "\r",
      " 91%|█████████ | 2242/2471 [07:40<05:22,  1.41s/it]"
     ]
    },
    {
     "name": "stdout",
     "output_type": "stream",
     "text": [
      "AI Trader bought:  $ 5.232300\n"
     ]
    },
    {
     "name": "stderr",
     "output_type": "stream",
     "text": [
      "\r",
      " 91%|█████████ | 2243/2471 [07:41<05:31,  1.46s/it]"
     ]
    },
    {
     "name": "stdout",
     "output_type": "stream",
     "text": [
      "AI Trader sold:  $ 5.232000  Profit: - $ 0.001200\n"
     ]
    },
    {
     "name": "stderr",
     "output_type": "stream",
     "text": [
      "\r",
      " 91%|█████████ | 2244/2471 [07:43<05:15,  1.39s/it]"
     ]
    },
    {
     "name": "stdout",
     "output_type": "stream",
     "text": [
      "AI Trader bought:  $ 5.233500\n"
     ]
    },
    {
     "name": "stderr",
     "output_type": "stream",
     "text": [
      "\r",
      " 91%|█████████ | 2245/2471 [07:44<05:12,  1.38s/it]"
     ]
    },
    {
     "name": "stdout",
     "output_type": "stream",
     "text": [
      "AI Trader bought:  $ 5.232200\n"
     ]
    },
    {
     "name": "stderr",
     "output_type": "stream",
     "text": [
      "\r",
      " 91%|█████████ | 2246/2471 [07:45<05:05,  1.36s/it]"
     ]
    },
    {
     "name": "stdout",
     "output_type": "stream",
     "text": [
      "AI Trader sold:  $ 5.232000  Profit: - $ 0.000500\n"
     ]
    },
    {
     "name": "stderr",
     "output_type": "stream",
     "text": [
      " 91%|█████████ | 2248/2471 [07:48<04:40,  1.26s/it]"
     ]
    },
    {
     "name": "stdout",
     "output_type": "stream",
     "text": [
      "AI Trader sold:  $ 5.229400  Profit: - $ 0.002800\n"
     ]
    },
    {
     "name": "stderr",
     "output_type": "stream",
     "text": [
      "\r",
      " 91%|█████████ | 2249/2471 [07:49<04:25,  1.19s/it]"
     ]
    },
    {
     "name": "stdout",
     "output_type": "stream",
     "text": [
      "AI Trader sold:  $ 5.229000  Profit: - $ 0.002800\n"
     ]
    },
    {
     "name": "stderr",
     "output_type": "stream",
     "text": [
      "\r",
      " 91%|█████████ | 2250/2471 [07:50<04:24,  1.20s/it]"
     ]
    },
    {
     "name": "stdout",
     "output_type": "stream",
     "text": [
      "AI Trader sold:  $ 5.228600  Profit: - $ 0.003400\n"
     ]
    },
    {
     "name": "stderr",
     "output_type": "stream",
     "text": [
      " 91%|█████████ | 2254/2471 [07:54<03:47,  1.05s/it]"
     ]
    },
    {
     "name": "stdout",
     "output_type": "stream",
     "text": [
      "AI Trader bought:  $ 5.235500\n"
     ]
    },
    {
     "name": "stderr",
     "output_type": "stream",
     "text": [
      " 91%|█████████▏| 2258/2471 [07:59<04:15,  1.20s/it]"
     ]
    },
    {
     "name": "stdout",
     "output_type": "stream",
     "text": [
      "AI Trader bought:  $ 5.233700\n"
     ]
    },
    {
     "name": "stderr",
     "output_type": "stream",
     "text": [
      "\r",
      " 91%|█████████▏| 2259/2471 [08:00<04:05,  1.16s/it]"
     ]
    },
    {
     "name": "stdout",
     "output_type": "stream",
     "text": [
      "AI Trader bought:  $ 5.235200\n"
     ]
    },
    {
     "name": "stderr",
     "output_type": "stream",
     "text": [
      "\r",
      " 91%|█████████▏| 2260/2471 [08:01<03:54,  1.11s/it]"
     ]
    },
    {
     "name": "stdout",
     "output_type": "stream",
     "text": [
      "AI Trader bought:  $ 5.234600\n"
     ]
    },
    {
     "name": "stderr",
     "output_type": "stream",
     "text": [
      "\r",
      " 92%|█████████▏| 2261/2471 [08:02<03:48,  1.09s/it]"
     ]
    },
    {
     "name": "stdout",
     "output_type": "stream",
     "text": [
      "AI Trader bought:  $ 5.234400\n"
     ]
    },
    {
     "name": "stderr",
     "output_type": "stream",
     "text": [
      "\r",
      " 92%|█████████▏| 2262/2471 [08:03<03:47,  1.09s/it]"
     ]
    },
    {
     "name": "stdout",
     "output_type": "stream",
     "text": [
      "AI Trader bought:  $ 5.234300\n"
     ]
    },
    {
     "name": "stderr",
     "output_type": "stream",
     "text": [
      "\r",
      " 92%|█████████▏| 2263/2471 [08:04<03:47,  1.09s/it]"
     ]
    },
    {
     "name": "stdout",
     "output_type": "stream",
     "text": [
      "AI Trader bought:  $ 5.235500\n"
     ]
    },
    {
     "name": "stderr",
     "output_type": "stream",
     "text": [
      "\r",
      " 92%|█████████▏| 2264/2471 [08:05<03:45,  1.09s/it]"
     ]
    },
    {
     "name": "stdout",
     "output_type": "stream",
     "text": [
      "AI Trader bought:  $ 5.234900\n"
     ]
    },
    {
     "name": "stderr",
     "output_type": "stream",
     "text": [
      " 92%|█████████▏| 2266/2471 [08:07<03:35,  1.05s/it]"
     ]
    },
    {
     "name": "stdout",
     "output_type": "stream",
     "text": [
      "AI Trader bought:  $ 5.232000\n"
     ]
    },
    {
     "name": "stderr",
     "output_type": "stream",
     "text": [
      " 92%|█████████▏| 2269/2471 [08:12<04:22,  1.30s/it]"
     ]
    },
    {
     "name": "stdout",
     "output_type": "stream",
     "text": [
      "AI Trader sold:  $ 5.233500  Profit: $ 0.001000\n"
     ]
    },
    {
     "name": "stderr",
     "output_type": "stream",
     "text": [
      "\r",
      " 92%|█████████▏| 2270/2471 [08:13<03:56,  1.18s/it]"
     ]
    },
    {
     "name": "stdout",
     "output_type": "stream",
     "text": [
      "AI Trader sold:  $ 5.234000  Profit: $ 0.001700\n"
     ]
    },
    {
     "name": "stderr",
     "output_type": "stream",
     "text": [
      " 92%|█████████▏| 2272/2471 [08:15<03:34,  1.08s/it]"
     ]
    },
    {
     "name": "stdout",
     "output_type": "stream",
     "text": [
      "AI Trader sold:  $ 5.234700  Profit: $ 0.001200\n"
     ]
    },
    {
     "name": "stderr",
     "output_type": "stream",
     "text": [
      "\r",
      " 92%|█████████▏| 2273/2471 [08:16<03:24,  1.03s/it]"
     ]
    },
    {
     "name": "stdout",
     "output_type": "stream",
     "text": [
      "AI Trader sold:  $ 5.235300  Profit: $ 0.003100\n"
     ]
    },
    {
     "name": "stderr",
     "output_type": "stream",
     "text": [
      "\r",
      " 92%|█████████▏| 2274/2471 [08:17<03:17,  1.00s/it]"
     ]
    },
    {
     "name": "stdout",
     "output_type": "stream",
     "text": [
      "AI Trader sold:  $ 5.234200  Profit: - $ 0.001300\n"
     ]
    },
    {
     "name": "stderr",
     "output_type": "stream",
     "text": [
      "\r",
      " 92%|█████████▏| 2275/2471 [08:17<03:11,  1.02it/s]"
     ]
    },
    {
     "name": "stdout",
     "output_type": "stream",
     "text": [
      "AI Trader sold:  $ 5.234000  Profit: $ 0.000300\n"
     ]
    },
    {
     "name": "stderr",
     "output_type": "stream",
     "text": [
      "\r",
      " 92%|█████████▏| 2276/2471 [08:18<03:03,  1.06it/s]"
     ]
    },
    {
     "name": "stdout",
     "output_type": "stream",
     "text": [
      "AI Trader sold:  $ 5.234400  Profit: - $ 0.000800\n"
     ]
    },
    {
     "name": "stderr",
     "output_type": "stream",
     "text": [
      "\r",
      " 92%|█████████▏| 2277/2471 [08:19<03:01,  1.07it/s]"
     ]
    },
    {
     "name": "stdout",
     "output_type": "stream",
     "text": [
      "AI Trader sold:  $ 5.236200  Profit: $ 0.001600\n"
     ]
    },
    {
     "name": "stderr",
     "output_type": "stream",
     "text": [
      "\r",
      " 92%|█████████▏| 2278/2471 [08:20<02:59,  1.07it/s]"
     ]
    },
    {
     "name": "stdout",
     "output_type": "stream",
     "text": [
      "AI Trader bought:  $ 5.236000\n"
     ]
    },
    {
     "name": "stderr",
     "output_type": "stream",
     "text": [
      "\r",
      " 92%|█████████▏| 2279/2471 [08:21<02:57,  1.08it/s]"
     ]
    },
    {
     "name": "stdout",
     "output_type": "stream",
     "text": [
      "AI Trader sold:  $ 5.235500  Profit: $ 0.001100\n"
     ]
    },
    {
     "name": "stderr",
     "output_type": "stream",
     "text": [
      "\r",
      " 92%|█████████▏| 2280/2471 [08:22<03:09,  1.01it/s]"
     ]
    },
    {
     "name": "stdout",
     "output_type": "stream",
     "text": [
      "AI Trader sold:  $ 5.234400  Profit: $ 0.000100\n"
     ]
    },
    {
     "name": "stderr",
     "output_type": "stream",
     "text": [
      "\r",
      " 92%|█████████▏| 2281/2471 [08:23<03:13,  1.02s/it]"
     ]
    },
    {
     "name": "stdout",
     "output_type": "stream",
     "text": [
      "AI Trader bought:  $ 5.235300\n"
     ]
    },
    {
     "name": "stderr",
     "output_type": "stream",
     "text": [
      " 92%|█████████▏| 2283/2471 [08:25<03:01,  1.04it/s]"
     ]
    },
    {
     "name": "stdout",
     "output_type": "stream",
     "text": [
      "AI Trader bought:  $ 5.234000\n"
     ]
    },
    {
     "name": "stderr",
     "output_type": "stream",
     "text": [
      "\r",
      " 92%|█████████▏| 2284/2471 [08:26<03:09,  1.01s/it]"
     ]
    },
    {
     "name": "stdout",
     "output_type": "stream",
     "text": [
      "AI Trader sold:  $ 5.234700  Profit: - $ 0.000800\n"
     ]
    },
    {
     "name": "stderr",
     "output_type": "stream",
     "text": [
      "\r",
      " 92%|█████████▏| 2285/2471 [08:27<03:03,  1.02it/s]"
     ]
    },
    {
     "name": "stdout",
     "output_type": "stream",
     "text": [
      "AI Trader bought:  $ 5.234400\n"
     ]
    },
    {
     "name": "stderr",
     "output_type": "stream",
     "text": [
      "\r",
      " 93%|█████████▎| 2286/2471 [08:28<02:57,  1.04it/s]"
     ]
    },
    {
     "name": "stdout",
     "output_type": "stream",
     "text": [
      "AI Trader bought:  $ 5.234000\n"
     ]
    },
    {
     "name": "stderr",
     "output_type": "stream",
     "text": [
      "\r",
      " 93%|█████████▎| 2287/2471 [08:29<02:53,  1.06it/s]"
     ]
    },
    {
     "name": "stdout",
     "output_type": "stream",
     "text": [
      "AI Trader bought:  $ 5.233500\n"
     ]
    },
    {
     "name": "stderr",
     "output_type": "stream",
     "text": [
      "\r",
      " 93%|█████████▎| 2288/2471 [08:30<02:50,  1.08it/s]"
     ]
    },
    {
     "name": "stdout",
     "output_type": "stream",
     "text": [
      "AI Trader bought:  $ 5.233800\n"
     ]
    },
    {
     "name": "stderr",
     "output_type": "stream",
     "text": [
      "\r",
      " 93%|█████████▎| 2289/2471 [08:31<02:52,  1.05it/s]"
     ]
    },
    {
     "name": "stdout",
     "output_type": "stream",
     "text": [
      "AI Trader bought:  $ 5.232300\n"
     ]
    },
    {
     "name": "stderr",
     "output_type": "stream",
     "text": [
      "\r",
      " 93%|█████████▎| 2290/2471 [08:32<02:55,  1.03it/s]"
     ]
    },
    {
     "name": "stdout",
     "output_type": "stream",
     "text": [
      "AI Trader bought:  $ 5.234000\n"
     ]
    },
    {
     "name": "stderr",
     "output_type": "stream",
     "text": [
      " 93%|█████████▎| 2292/2471 [08:34<03:14,  1.09s/it]"
     ]
    },
    {
     "name": "stdout",
     "output_type": "stream",
     "text": [
      "AI Trader sold:  $ 5.231900  Profit: - $ 0.003000\n"
     ]
    },
    {
     "name": "stderr",
     "output_type": "stream",
     "text": [
      "\r",
      " 93%|█████████▎| 2293/2471 [08:35<03:09,  1.07s/it]"
     ]
    },
    {
     "name": "stdout",
     "output_type": "stream",
     "text": [
      "AI Trader sold:  $ 5.233700  Profit: $ 0.001700\n"
     ]
    },
    {
     "name": "stderr",
     "output_type": "stream",
     "text": [
      "\r",
      " 93%|█████████▎| 2294/2471 [08:36<03:01,  1.02s/it]"
     ]
    },
    {
     "name": "stdout",
     "output_type": "stream",
     "text": [
      "AI Trader sold:  $ 5.236200  Profit: $ 0.000200\n"
     ]
    },
    {
     "name": "stderr",
     "output_type": "stream",
     "text": [
      "\r",
      " 93%|█████████▎| 2295/2471 [08:37<02:58,  1.01s/it]"
     ]
    },
    {
     "name": "stdout",
     "output_type": "stream",
     "text": [
      "AI Trader sold:  $ 5.235500  Profit: $ 0.000200\n"
     ]
    },
    {
     "name": "stderr",
     "output_type": "stream",
     "text": [
      "\r",
      " 93%|█████████▎| 2296/2471 [08:38<02:56,  1.01s/it]"
     ]
    },
    {
     "name": "stdout",
     "output_type": "stream",
     "text": [
      "AI Trader bought:  $ 5.232700\n"
     ]
    },
    {
     "name": "stderr",
     "output_type": "stream",
     "text": [
      " 93%|█████████▎| 2302/2471 [08:44<02:51,  1.02s/it]"
     ]
    },
    {
     "name": "stdout",
     "output_type": "stream",
     "text": [
      "AI Trader bought:  $ 5.234600\n"
     ]
    },
    {
     "name": "stderr",
     "output_type": "stream",
     "text": [
      "\r",
      " 93%|█████████▎| 2303/2471 [08:45<02:46,  1.01it/s]"
     ]
    },
    {
     "name": "stdout",
     "output_type": "stream",
     "text": [
      "AI Trader bought:  $ 5.235500\n"
     ]
    },
    {
     "name": "stderr",
     "output_type": "stream",
     "text": [
      "\r",
      " 93%|█████████▎| 2304/2471 [08:46<02:42,  1.03it/s]"
     ]
    },
    {
     "name": "stdout",
     "output_type": "stream",
     "text": [
      "AI Trader bought:  $ 5.235900\n"
     ]
    },
    {
     "name": "stderr",
     "output_type": "stream",
     "text": [
      "\r",
      " 93%|█████████▎| 2305/2471 [08:47<02:40,  1.03it/s]"
     ]
    },
    {
     "name": "stdout",
     "output_type": "stream",
     "text": [
      "AI Trader bought:  $ 5.237700\n"
     ]
    },
    {
     "name": "stderr",
     "output_type": "stream",
     "text": [
      "\r",
      " 93%|█████████▎| 2306/2471 [08:48<02:38,  1.04it/s]"
     ]
    },
    {
     "name": "stdout",
     "output_type": "stream",
     "text": [
      "AI Trader bought:  $ 5.238000\n"
     ]
    },
    {
     "name": "stderr",
     "output_type": "stream",
     "text": [
      "\r",
      " 93%|█████████▎| 2307/2471 [08:49<02:36,  1.05it/s]"
     ]
    },
    {
     "name": "stdout",
     "output_type": "stream",
     "text": [
      "AI Trader sold:  $ 5.236500  Profit: $ 0.002500\n"
     ]
    },
    {
     "name": "stderr",
     "output_type": "stream",
     "text": [
      "\r",
      " 93%|█████████▎| 2308/2471 [08:50<02:36,  1.04it/s]"
     ]
    },
    {
     "name": "stdout",
     "output_type": "stream",
     "text": [
      "AI Trader sold:  $ 5.237400  Profit: $ 0.003000\n"
     ]
    },
    {
     "name": "stderr",
     "output_type": "stream",
     "text": [
      "\r",
      " 93%|█████████▎| 2309/2471 [08:51<02:33,  1.05it/s]"
     ]
    },
    {
     "name": "stdout",
     "output_type": "stream",
     "text": [
      "AI Trader sold:  $ 5.237000  Profit: $ 0.003000\n"
     ]
    },
    {
     "name": "stderr",
     "output_type": "stream",
     "text": [
      " 94%|█████████▎| 2311/2471 [08:53<02:30,  1.06it/s]"
     ]
    },
    {
     "name": "stdout",
     "output_type": "stream",
     "text": [
      "AI Trader sold:  $ 5.236400  Profit: $ 0.002900\n"
     ]
    },
    {
     "name": "stderr",
     "output_type": "stream",
     "text": [
      " 94%|█████████▎| 2313/2471 [08:55<02:27,  1.07it/s]"
     ]
    },
    {
     "name": "stdout",
     "output_type": "stream",
     "text": [
      "AI Trader sold:  $ 5.236200  Profit: $ 0.002400\n"
     ]
    },
    {
     "name": "stderr",
     "output_type": "stream",
     "text": [
      " 94%|█████████▍| 2321/2471 [09:02<02:19,  1.08it/s]"
     ]
    },
    {
     "name": "stdout",
     "output_type": "stream",
     "text": [
      "AI Trader bought:  $ 5.234600\n"
     ]
    },
    {
     "name": "stderr",
     "output_type": "stream",
     "text": [
      "\r",
      " 94%|█████████▍| 2322/2471 [09:03<02:18,  1.08it/s]"
     ]
    },
    {
     "name": "stdout",
     "output_type": "stream",
     "text": [
      "AI Trader bought:  $ 5.234400\n"
     ]
    },
    {
     "name": "stderr",
     "output_type": "stream",
     "text": [
      " 94%|█████████▍| 2324/2471 [09:05<02:16,  1.08it/s]"
     ]
    },
    {
     "name": "stdout",
     "output_type": "stream",
     "text": [
      "AI Trader bought:  $ 5.232700\n"
     ]
    },
    {
     "name": "stderr",
     "output_type": "stream",
     "text": [
      "\r",
      " 94%|█████████▍| 2325/2471 [09:06<02:13,  1.09it/s]"
     ]
    },
    {
     "name": "stdout",
     "output_type": "stream",
     "text": [
      "AI Trader bought:  $ 5.234000\n"
     ]
    },
    {
     "name": "stderr",
     "output_type": "stream",
     "text": [
      "\r",
      " 94%|█████████▍| 2326/2471 [09:07<02:13,  1.09it/s]"
     ]
    },
    {
     "name": "stdout",
     "output_type": "stream",
     "text": [
      "AI Trader bought:  $ 5.232900\n"
     ]
    },
    {
     "name": "stderr",
     "output_type": "stream",
     "text": [
      "\r",
      " 94%|█████████▍| 2327/2471 [09:08<02:11,  1.10it/s]"
     ]
    },
    {
     "name": "stdout",
     "output_type": "stream",
     "text": [
      "AI Trader bought:  $ 5.232000\n"
     ]
    },
    {
     "name": "stderr",
     "output_type": "stream",
     "text": [
      "\r",
      " 94%|█████████▍| 2328/2471 [09:09<02:10,  1.10it/s]"
     ]
    },
    {
     "name": "stdout",
     "output_type": "stream",
     "text": [
      "AI Trader bought:  $ 5.232700\n"
     ]
    },
    {
     "name": "stderr",
     "output_type": "stream",
     "text": [
      " 94%|█████████▍| 2331/2471 [09:11<02:07,  1.10it/s]"
     ]
    },
    {
     "name": "stdout",
     "output_type": "stream",
     "text": [
      "AI Trader sold:  $ 5.235200  Profit: $ 0.002900\n"
     ]
    },
    {
     "name": "stderr",
     "output_type": "stream",
     "text": [
      "\r",
      " 94%|█████████▍| 2332/2471 [09:12<02:05,  1.10it/s]"
     ]
    },
    {
     "name": "stdout",
     "output_type": "stream",
     "text": [
      "AI Trader sold:  $ 5.235900  Profit: $ 0.001900\n"
     ]
    },
    {
     "name": "stderr",
     "output_type": "stream",
     "text": [
      "\r",
      " 94%|█████████▍| 2333/2471 [09:13<02:06,  1.09it/s]"
     ]
    },
    {
     "name": "stdout",
     "output_type": "stream",
     "text": [
      "AI Trader sold:  $ 5.234700  Profit: $ 0.002000\n"
     ]
    },
    {
     "name": "stderr",
     "output_type": "stream",
     "text": [
      "\r",
      " 94%|█████████▍| 2334/2471 [09:14<02:06,  1.08it/s]"
     ]
    },
    {
     "name": "stdout",
     "output_type": "stream",
     "text": [
      "AI Trader sold:  $ 5.234200  Profit: - $ 0.000400\n"
     ]
    },
    {
     "name": "stderr",
     "output_type": "stream",
     "text": [
      "\r",
      " 94%|█████████▍| 2335/2471 [09:15<02:05,  1.08it/s]"
     ]
    },
    {
     "name": "stdout",
     "output_type": "stream",
     "text": [
      "AI Trader sold:  $ 5.233200  Profit: - $ 0.002300\n"
     ]
    },
    {
     "name": "stderr",
     "output_type": "stream",
     "text": [
      "\r",
      " 95%|█████████▍| 2336/2471 [09:16<02:13,  1.01it/s]"
     ]
    },
    {
     "name": "stdout",
     "output_type": "stream",
     "text": [
      "AI Trader sold:  $ 5.233500  Profit: - $ 0.002400\n"
     ]
    },
    {
     "name": "stderr",
     "output_type": "stream",
     "text": [
      "\r",
      " 95%|█████████▍| 2337/2471 [09:17<02:10,  1.03it/s]"
     ]
    },
    {
     "name": "stdout",
     "output_type": "stream",
     "text": [
      "AI Trader sold:  $ 5.233600  Profit: - $ 0.004100\n"
     ]
    },
    {
     "name": "stderr",
     "output_type": "stream",
     "text": [
      "\r",
      " 95%|█████████▍| 2338/2471 [09:18<02:07,  1.05it/s]"
     ]
    },
    {
     "name": "stdout",
     "output_type": "stream",
     "text": [
      "AI Trader sold:  $ 5.234000  Profit: - $ 0.004000\n"
     ]
    },
    {
     "name": "stderr",
     "output_type": "stream",
     "text": [
      "\r",
      " 95%|█████████▍| 2339/2471 [09:19<02:04,  1.06it/s]"
     ]
    },
    {
     "name": "stdout",
     "output_type": "stream",
     "text": [
      "AI Trader sold:  $ 5.233100  Profit: - $ 0.001500\n"
     ]
    },
    {
     "name": "stderr",
     "output_type": "stream",
     "text": [
      "\r",
      " 95%|█████████▍| 2340/2471 [09:20<02:01,  1.08it/s]"
     ]
    },
    {
     "name": "stdout",
     "output_type": "stream",
     "text": [
      "AI Trader sold:  $ 5.234900  Profit: $ 0.000500\n"
     ]
    },
    {
     "name": "stderr",
     "output_type": "stream",
     "text": [
      " 95%|█████████▍| 2343/2471 [09:24<02:32,  1.19s/it]"
     ]
    },
    {
     "name": "stdout",
     "output_type": "stream",
     "text": [
      "AI Trader sold:  $ 5.234000  Profit: $ 0.001300\n"
     ]
    },
    {
     "name": "stderr",
     "output_type": "stream",
     "text": [
      " 95%|█████████▍| 2347/2471 [09:28<02:24,  1.16s/it]"
     ]
    },
    {
     "name": "stdout",
     "output_type": "stream",
     "text": [
      "AI Trader bought:  $ 5.232900\n"
     ]
    },
    {
     "name": "stderr",
     "output_type": "stream",
     "text": [
      " 95%|█████████▌| 2349/2471 [09:32<02:57,  1.45s/it]"
     ]
    },
    {
     "name": "stdout",
     "output_type": "stream",
     "text": [
      "AI Trader bought:  $ 5.228700\n"
     ]
    },
    {
     "name": "stderr",
     "output_type": "stream",
     "text": [
      "\r",
      " 95%|█████████▌| 2350/2471 [09:33<03:06,  1.54s/it]"
     ]
    },
    {
     "name": "stdout",
     "output_type": "stream",
     "text": [
      "AI Trader bought:  $ 5.227900\n"
     ]
    },
    {
     "name": "stderr",
     "output_type": "stream",
     "text": [
      "\r",
      " 95%|█████████▌| 2351/2471 [09:35<03:09,  1.58s/it]"
     ]
    },
    {
     "name": "stdout",
     "output_type": "stream",
     "text": [
      "AI Trader bought:  $ 5.227100\n"
     ]
    },
    {
     "name": "stderr",
     "output_type": "stream",
     "text": [
      "\r",
      " 95%|█████████▌| 2352/2471 [09:37<03:27,  1.74s/it]"
     ]
    },
    {
     "name": "stdout",
     "output_type": "stream",
     "text": [
      "AI Trader sold:  $ 5.226000  Profit: - $ 0.008000\n"
     ]
    },
    {
     "name": "stderr",
     "output_type": "stream",
     "text": [
      "\r",
      " 95%|█████████▌| 2353/2471 [09:39<03:48,  1.93s/it]"
     ]
    },
    {
     "name": "stdout",
     "output_type": "stream",
     "text": [
      "AI Trader sold:  $ 5.228200  Profit: - $ 0.004700\n"
     ]
    },
    {
     "name": "stderr",
     "output_type": "stream",
     "text": [
      "\r",
      " 95%|█████████▌| 2354/2471 [09:41<03:36,  1.85s/it]"
     ]
    },
    {
     "name": "stdout",
     "output_type": "stream",
     "text": [
      "AI Trader bought:  $ 5.228700\n"
     ]
    },
    {
     "name": "stderr",
     "output_type": "stream",
     "text": [
      "\r",
      " 95%|█████████▌| 2355/2471 [09:43<03:30,  1.82s/it]"
     ]
    },
    {
     "name": "stdout",
     "output_type": "stream",
     "text": [
      "AI Trader sold:  $ 5.230700  Profit: - $ 0.001300\n"
     ]
    },
    {
     "name": "stderr",
     "output_type": "stream",
     "text": [
      "\r",
      " 95%|█████████▌| 2356/2471 [09:45<03:28,  1.81s/it]"
     ]
    },
    {
     "name": "stdout",
     "output_type": "stream",
     "text": [
      "AI Trader bought:  $ 5.229800\n"
     ]
    },
    {
     "name": "stderr",
     "output_type": "stream",
     "text": [
      "\r",
      " 95%|█████████▌| 2357/2471 [09:47<03:28,  1.83s/it]"
     ]
    },
    {
     "name": "stdout",
     "output_type": "stream",
     "text": [
      "AI Trader sold:  $ 5.229400  Profit: - $ 0.003300\n"
     ]
    },
    {
     "name": "stderr",
     "output_type": "stream",
     "text": [
      "\r",
      " 95%|█████████▌| 2358/2471 [09:48<03:26,  1.82s/it]"
     ]
    },
    {
     "name": "stdout",
     "output_type": "stream",
     "text": [
      "AI Trader sold:  $ 5.229900  Profit: - $ 0.003000\n"
     ]
    },
    {
     "name": "stderr",
     "output_type": "stream",
     "text": [
      "\r",
      " 95%|█████████▌| 2359/2471 [09:50<03:20,  1.79s/it]"
     ]
    },
    {
     "name": "stdout",
     "output_type": "stream",
     "text": [
      "AI Trader bought:  $ 5.230500\n"
     ]
    },
    {
     "name": "stderr",
     "output_type": "stream",
     "text": [
      " 96%|█████████▌| 2361/2471 [09:54<03:21,  1.83s/it]"
     ]
    },
    {
     "name": "stdout",
     "output_type": "stream",
     "text": [
      "AI Trader bought:  $ 5.233200\n"
     ]
    },
    {
     "name": "stderr",
     "output_type": "stream",
     "text": [
      "\r",
      " 96%|█████████▌| 2362/2471 [09:55<03:12,  1.77s/it]"
     ]
    },
    {
     "name": "stdout",
     "output_type": "stream",
     "text": [
      "AI Trader bought:  $ 5.235500\n"
     ]
    },
    {
     "name": "stderr",
     "output_type": "stream",
     "text": [
      "\r",
      " 96%|█████████▌| 2363/2471 [09:57<02:54,  1.62s/it]"
     ]
    },
    {
     "name": "stdout",
     "output_type": "stream",
     "text": [
      "AI Trader bought:  $ 5.233200\n"
     ]
    },
    {
     "name": "stderr",
     "output_type": "stream",
     "text": [
      " 97%|█████████▋| 2401/2471 [10:34<01:08,  1.02it/s]"
     ]
    },
    {
     "name": "stdout",
     "output_type": "stream",
     "text": [
      "AI Trader sold:  $ 5.235700  Profit: $ 0.007000\n"
     ]
    },
    {
     "name": "stderr",
     "output_type": "stream",
     "text": [
      "\r",
      " 97%|█████████▋| 2402/2471 [10:35<01:09,  1.01s/it]"
     ]
    },
    {
     "name": "stdout",
     "output_type": "stream",
     "text": [
      "AI Trader sold:  $ 5.239400  Profit: $ 0.011500\n"
     ]
    },
    {
     "name": "stderr",
     "output_type": "stream",
     "text": [
      "\r",
      " 97%|█████████▋| 2403/2471 [10:36<01:14,  1.10s/it]"
     ]
    },
    {
     "name": "stdout",
     "output_type": "stream",
     "text": [
      "AI Trader bought:  $ 5.240500\n"
     ]
    },
    {
     "name": "stderr",
     "output_type": "stream",
     "text": [
      "\r",
      " 97%|█████████▋| 2404/2471 [10:37<01:11,  1.07s/it]"
     ]
    },
    {
     "name": "stdout",
     "output_type": "stream",
     "text": [
      "AI Trader sold:  $ 5.240900  Profit: $ 0.013800\n"
     ]
    },
    {
     "name": "stderr",
     "output_type": "stream",
     "text": [
      "\r",
      " 97%|█████████▋| 2405/2471 [10:38<01:07,  1.02s/it]"
     ]
    },
    {
     "name": "stdout",
     "output_type": "stream",
     "text": [
      "AI Trader sold:  $ 5.241500  Profit: $ 0.012800\n"
     ]
    },
    {
     "name": "stderr",
     "output_type": "stream",
     "text": [
      "\r",
      " 97%|█████████▋| 2406/2471 [10:39<01:06,  1.02s/it]"
     ]
    },
    {
     "name": "stdout",
     "output_type": "stream",
     "text": [
      "AI Trader sold:  $ 5.241000  Profit: $ 0.011200\n"
     ]
    },
    {
     "name": "stderr",
     "output_type": "stream",
     "text": [
      "\r",
      " 97%|█████████▋| 2407/2471 [10:40<01:04,  1.01s/it]"
     ]
    },
    {
     "name": "stdout",
     "output_type": "stream",
     "text": [
      "AI Trader sold:  $ 5.239400  Profit: $ 0.008900\n"
     ]
    },
    {
     "name": "stderr",
     "output_type": "stream",
     "text": [
      "\r",
      " 97%|█████████▋| 2408/2471 [10:41<01:02,  1.01it/s]"
     ]
    },
    {
     "name": "stdout",
     "output_type": "stream",
     "text": [
      "AI Trader sold:  $ 5.237700  Profit: $ 0.004500\n"
     ]
    },
    {
     "name": "stderr",
     "output_type": "stream",
     "text": [
      "\r",
      " 97%|█████████▋| 2409/2471 [10:42<00:59,  1.04it/s]"
     ]
    },
    {
     "name": "stdout",
     "output_type": "stream",
     "text": [
      "AI Trader sold:  $ 5.236200  Profit: $ 0.000700\n"
     ]
    },
    {
     "name": "stderr",
     "output_type": "stream",
     "text": [
      "\r",
      " 98%|█████████▊| 2410/2471 [10:43<01:00,  1.01it/s]"
     ]
    },
    {
     "name": "stdout",
     "output_type": "stream",
     "text": [
      "AI Trader sold:  $ 5.238200  Profit: $ 0.005000\n"
     ]
    },
    {
     "name": "stderr",
     "output_type": "stream",
     "text": [
      "\r",
      " 98%|█████████▊| 2411/2471 [10:44<00:59,  1.01it/s]"
     ]
    },
    {
     "name": "stdout",
     "output_type": "stream",
     "text": [
      "AI Trader sold:  $ 5.238500  Profit: - $ 0.002000\n"
     ]
    },
    {
     "name": "stderr",
     "output_type": "stream",
     "text": [
      " 98%|█████████▊| 2414/2471 [10:47<00:55,  1.03it/s]"
     ]
    },
    {
     "name": "stdout",
     "output_type": "stream",
     "text": [
      "AI Trader bought:  $ 5.237700\n"
     ]
    },
    {
     "name": "stderr",
     "output_type": "stream",
     "text": [
      "\r",
      " 98%|█████████▊| 2415/2471 [10:48<00:54,  1.02it/s]"
     ]
    },
    {
     "name": "stdout",
     "output_type": "stream",
     "text": [
      "AI Trader sold:  $ 5.237400  Profit: - $ 0.000300\n"
     ]
    },
    {
     "name": "stderr",
     "output_type": "stream",
     "text": [
      " 98%|█████████▊| 2418/2471 [10:51<00:50,  1.04it/s]"
     ]
    },
    {
     "name": "stdout",
     "output_type": "stream",
     "text": [
      "AI Trader bought:  $ 5.238200\n"
     ]
    },
    {
     "name": "stderr",
     "output_type": "stream",
     "text": [
      "\r",
      " 98%|█████████▊| 2419/2471 [10:52<00:50,  1.04it/s]"
     ]
    },
    {
     "name": "stdout",
     "output_type": "stream",
     "text": [
      "AI Trader bought:  $ 5.237900\n"
     ]
    },
    {
     "name": "stderr",
     "output_type": "stream",
     "text": [
      "\r",
      " 98%|█████████▊| 2420/2471 [10:53<00:47,  1.08it/s]"
     ]
    },
    {
     "name": "stdout",
     "output_type": "stream",
     "text": [
      "AI Trader bought:  $ 5.238700\n"
     ]
    },
    {
     "name": "stderr",
     "output_type": "stream",
     "text": [
      "\r",
      " 98%|█████████▊| 2421/2471 [10:54<00:50,  1.01s/it]"
     ]
    },
    {
     "name": "stdout",
     "output_type": "stream",
     "text": [
      "AI Trader bought:  $ 5.238000\n"
     ]
    },
    {
     "name": "stderr",
     "output_type": "stream",
     "text": [
      "\r",
      " 98%|█████████▊| 2422/2471 [10:55<00:49,  1.01s/it]"
     ]
    },
    {
     "name": "stdout",
     "output_type": "stream",
     "text": [
      "AI Trader bought:  $ 5.238500\n"
     ]
    },
    {
     "name": "stderr",
     "output_type": "stream",
     "text": [
      "\r",
      " 98%|█████████▊| 2423/2471 [10:56<00:51,  1.08s/it]"
     ]
    },
    {
     "name": "stdout",
     "output_type": "stream",
     "text": [
      "AI Trader bought:  $ 5.238700\n"
     ]
    },
    {
     "name": "stderr",
     "output_type": "stream",
     "text": [
      "\r",
      " 98%|█████████▊| 2424/2471 [10:57<00:52,  1.12s/it]"
     ]
    },
    {
     "name": "stdout",
     "output_type": "stream",
     "text": [
      "AI Trader bought:  $ 5.238200\n"
     ]
    },
    {
     "name": "stderr",
     "output_type": "stream",
     "text": [
      "\r",
      " 98%|█████████▊| 2425/2471 [10:58<00:52,  1.13s/it]"
     ]
    },
    {
     "name": "stdout",
     "output_type": "stream",
     "text": [
      "AI Trader bought:  $ 5.236800\n"
     ]
    },
    {
     "name": "stderr",
     "output_type": "stream",
     "text": [
      "\r",
      " 98%|█████████▊| 2426/2471 [11:00<00:51,  1.14s/it]"
     ]
    },
    {
     "name": "stdout",
     "output_type": "stream",
     "text": [
      "AI Trader bought:  $ 5.238500\n"
     ]
    },
    {
     "name": "stderr",
     "output_type": "stream",
     "text": [
      "\r",
      " 98%|█████████▊| 2427/2471 [11:01<00:51,  1.18s/it]"
     ]
    },
    {
     "name": "stdout",
     "output_type": "stream",
     "text": [
      "AI Trader bought:  $ 5.238800\n"
     ]
    },
    {
     "name": "stderr",
     "output_type": "stream",
     "text": [
      "\r",
      " 98%|█████████▊| 2428/2471 [11:02<00:52,  1.22s/it]"
     ]
    },
    {
     "name": "stdout",
     "output_type": "stream",
     "text": [
      "AI Trader sold:  $ 5.238500  Profit: $ 0.000300\n"
     ]
    },
    {
     "name": "stderr",
     "output_type": "stream",
     "text": [
      "\r",
      " 98%|█████████▊| 2429/2471 [11:03<00:50,  1.21s/it]"
     ]
    },
    {
     "name": "stdout",
     "output_type": "stream",
     "text": [
      "AI Trader bought:  $ 5.238200\n"
     ]
    },
    {
     "name": "stderr",
     "output_type": "stream",
     "text": [
      "\r",
      " 98%|█████████▊| 2430/2471 [11:04<00:47,  1.17s/it]"
     ]
    },
    {
     "name": "stdout",
     "output_type": "stream",
     "text": [
      "AI Trader bought:  $ 5.238900\n"
     ]
    },
    {
     "name": "stderr",
     "output_type": "stream",
     "text": [
      "\r",
      " 98%|█████████▊| 2431/2471 [11:05<00:43,  1.10s/it]"
     ]
    },
    {
     "name": "stdout",
     "output_type": "stream",
     "text": [
      "AI Trader sold:  $ 5.239000  Profit: $ 0.001100\n"
     ]
    },
    {
     "name": "stderr",
     "output_type": "stream",
     "text": [
      "\r",
      " 98%|█████████▊| 2432/2471 [11:07<00:44,  1.13s/it]"
     ]
    },
    {
     "name": "stdout",
     "output_type": "stream",
     "text": [
      "AI Trader sold:  $ 5.238000  Profit: - $ 0.000700\n"
     ]
    },
    {
     "name": "stderr",
     "output_type": "stream",
     "text": [
      "\r",
      " 98%|█████████▊| 2433/2471 [11:08<00:43,  1.14s/it]"
     ]
    },
    {
     "name": "stdout",
     "output_type": "stream",
     "text": [
      "AI Trader sold:  $ 5.238200  Profit: $ 0.000200\n"
     ]
    },
    {
     "name": "stderr",
     "output_type": "stream",
     "text": [
      "\r",
      " 99%|█████████▊| 2434/2471 [11:09<00:44,  1.20s/it]"
     ]
    },
    {
     "name": "stdout",
     "output_type": "stream",
     "text": [
      "AI Trader sold:  $ 5.237800  Profit: - $ 0.000700\n"
     ]
    },
    {
     "name": "stderr",
     "output_type": "stream",
     "text": [
      "\r",
      " 99%|█████████▊| 2435/2471 [11:10<00:41,  1.16s/it]"
     ]
    },
    {
     "name": "stdout",
     "output_type": "stream",
     "text": [
      "AI Trader sold:  $ 5.238700  Profit: $ 0.000000\n"
     ]
    },
    {
     "name": "stderr",
     "output_type": "stream",
     "text": [
      "\r",
      " 99%|█████████▊| 2436/2471 [11:11<00:39,  1.13s/it]"
     ]
    },
    {
     "name": "stdout",
     "output_type": "stream",
     "text": [
      "AI Trader sold:  $ 5.238500  Profit: $ 0.000300\n"
     ]
    },
    {
     "name": "stderr",
     "output_type": "stream",
     "text": [
      "\r",
      " 99%|█████████▊| 2437/2471 [11:12<00:38,  1.14s/it]"
     ]
    },
    {
     "name": "stdout",
     "output_type": "stream",
     "text": [
      "AI Trader sold:  $ 5.239700  Profit: $ 0.002900\n"
     ]
    },
    {
     "name": "stderr",
     "output_type": "stream",
     "text": [
      "\r",
      " 99%|█████████▊| 2438/2471 [11:14<00:45,  1.39s/it]"
     ]
    },
    {
     "name": "stdout",
     "output_type": "stream",
     "text": [
      "AI Trader sold:  $ 5.240000  Profit: $ 0.001500\n"
     ]
    },
    {
     "name": "stderr",
     "output_type": "stream",
     "text": [
      "\r",
      " 99%|█████████▊| 2439/2471 [11:16<00:43,  1.37s/it]"
     ]
    },
    {
     "name": "stdout",
     "output_type": "stream",
     "text": [
      "AI Trader sold:  $ 5.238700  Profit: - $ 0.000100\n"
     ]
    },
    {
     "name": "stderr",
     "output_type": "stream",
     "text": [
      "\r",
      " 99%|█████████▊| 2440/2471 [11:17<00:42,  1.38s/it]"
     ]
    },
    {
     "name": "stdout",
     "output_type": "stream",
     "text": [
      "AI Trader sold:  $ 5.239000  Profit: $ 0.000800\n"
     ]
    },
    {
     "name": "stderr",
     "output_type": "stream",
     "text": [
      "\r",
      " 99%|█████████▉| 2441/2471 [11:19<00:42,  1.41s/it]"
     ]
    },
    {
     "name": "stdout",
     "output_type": "stream",
     "text": [
      "AI Trader sold:  $ 5.238900  Profit: $ 0.000000\n"
     ]
    },
    {
     "name": "stderr",
     "output_type": "stream",
     "text": [
      " 99%|█████████▉| 2450/2471 [11:30<00:26,  1.28s/it]"
     ]
    },
    {
     "name": "stdout",
     "output_type": "stream",
     "text": [
      "AI Trader bought:  $ 5.239700\n"
     ]
    },
    {
     "name": "stderr",
     "output_type": "stream",
     "text": [
      "\r",
      " 99%|█████████▉| 2451/2471 [11:31<00:25,  1.26s/it]"
     ]
    },
    {
     "name": "stdout",
     "output_type": "stream",
     "text": [
      "AI Trader bought:  $ 5.240500\n"
     ]
    },
    {
     "name": "stderr",
     "output_type": "stream",
     "text": [
      "100%|█████████▉| 2462/2471 [11:44<00:10,  1.21s/it]"
     ]
    },
    {
     "name": "stdout",
     "output_type": "stream",
     "text": [
      "AI Trader bought:  $ 5.211600\n"
     ]
    },
    {
     "name": "stderr",
     "output_type": "stream",
     "text": [
      "100%|█████████▉| 2470/2471 [11:54<00:01,  1.31s/it]"
     ]
    },
    {
     "name": "stdout",
     "output_type": "stream",
     "text": [
      "########################\n",
      "Total profit: 0.40710000000000957\n",
      "Total operation: 12\n",
      "########################\n"
     ]
    },
    {
     "name": "stderr",
     "output_type": "stream",
     "text": [
      "100%|██████████| 2471/2471 [11:55<00:00,  3.45it/s]\n",
      "  0%|          | 0/2471 [00:00<?, ?it/s]"
     ]
    },
    {
     "name": "stdout",
     "output_type": "stream",
     "text": [
      "Episode: 2/100\n"
     ]
    },
    {
     "name": "stderr",
     "output_type": "stream",
     "text": [
      "  8%|▊         | 209/2471 [03:31<42:09,  1.12s/it]"
     ]
    },
    {
     "name": "stdout",
     "output_type": "stream",
     "text": [
      "AI Trader bought:  $ 5.151600\n"
     ]
    },
    {
     "name": "stderr",
     "output_type": "stream",
     "text": [
      " 11%|█         | 266/2471 [04:25<34:27,  1.07it/s]"
     ]
    },
    {
     "name": "stdout",
     "output_type": "stream",
     "text": [
      "AI Trader sold:  $ 5.147500  Profit: - $ 0.004100\n"
     ]
    },
    {
     "name": "stderr",
     "output_type": "stream",
     "text": [
      " 19%|█▉        | 477/2471 [08:17<37:00,  1.11s/it]"
     ]
    },
    {
     "ename": "KeyboardInterrupt",
     "evalue": "",
     "output_type": "error",
     "traceback": [
      "\u001b[0;31m---------------------------------------------------------------------------\u001b[0m",
      "\u001b[0;31mKeyboardInterrupt\u001b[0m                         Traceback (most recent call last)",
      "\u001b[0;32m<ipython-input-11-b270e91562b5>\u001b[0m in \u001b[0;36m<module>\u001b[0;34m\u001b[0m\n\u001b[1;32m     39\u001b[0m \u001b[0;34m\u001b[0m\u001b[0m\n\u001b[1;32m     40\u001b[0m         \u001b[0;32mif\u001b[0m \u001b[0mlen\u001b[0m\u001b[0;34m(\u001b[0m\u001b[0mtrader\u001b[0m\u001b[0;34m.\u001b[0m\u001b[0mmemory\u001b[0m\u001b[0;34m)\u001b[0m \u001b[0;34m>\u001b[0m \u001b[0mbatch_size\u001b[0m \u001b[0;32mand\u001b[0m \u001b[0mlen\u001b[0m\u001b[0;34m(\u001b[0m\u001b[0mtrader\u001b[0m\u001b[0;34m.\u001b[0m\u001b[0mmemory\u001b[0m\u001b[0;34m)\u001b[0m \u001b[0;34m%\u001b[0m \u001b[0;34m(\u001b[0m\u001b[0mbatch_size\u001b[0m \u001b[0;34m/\u001b[0m \u001b[0;36m2\u001b[0m\u001b[0;34m)\u001b[0m \u001b[0;34m==\u001b[0m \u001b[0;36m0\u001b[0m\u001b[0;34m:\u001b[0m\u001b[0;34m\u001b[0m\u001b[0;34m\u001b[0m\u001b[0m\n\u001b[0;32m---> 41\u001b[0;31m             \u001b[0mtrader\u001b[0m\u001b[0;34m.\u001b[0m\u001b[0mbatch_train\u001b[0m\u001b[0;34m(\u001b[0m\u001b[0mbatch_size\u001b[0m\u001b[0;34m)\u001b[0m\u001b[0;34m\u001b[0m\u001b[0;34m\u001b[0m\u001b[0m\n\u001b[0m\u001b[1;32m     42\u001b[0m \u001b[0;34m\u001b[0m\u001b[0m\n\u001b[1;32m     43\u001b[0m         \u001b[0;32mif\u001b[0m \u001b[0mepisode\u001b[0m \u001b[0;34m%\u001b[0m \u001b[0;36m5\u001b[0m \u001b[0;34m==\u001b[0m \u001b[0;36m0\u001b[0m\u001b[0;34m:\u001b[0m\u001b[0;34m\u001b[0m\u001b[0;34m\u001b[0m\u001b[0m\n",
      "\u001b[0;32m<ipython-input-2-4f6320c33cef>\u001b[0m in \u001b[0;36mbatch_train\u001b[0;34m(self, batch_size)\u001b[0m\n\u001b[1;32m     36\u001b[0m         \u001b[0;32mfor\u001b[0m \u001b[0mstate\u001b[0m\u001b[0;34m,\u001b[0m \u001b[0maction\u001b[0m\u001b[0;34m,\u001b[0m \u001b[0mreward\u001b[0m\u001b[0;34m,\u001b[0m \u001b[0mnext_state\u001b[0m\u001b[0;34m,\u001b[0m \u001b[0mdone\u001b[0m \u001b[0;32min\u001b[0m \u001b[0mbatch\u001b[0m\u001b[0;34m:\u001b[0m\u001b[0;34m\u001b[0m\u001b[0;34m\u001b[0m\u001b[0m\n\u001b[1;32m     37\u001b[0m             \u001b[0;32mif\u001b[0m \u001b[0;32mnot\u001b[0m \u001b[0mdone\u001b[0m\u001b[0;34m:\u001b[0m\u001b[0;34m\u001b[0m\u001b[0;34m\u001b[0m\u001b[0m\n\u001b[0;32m---> 38\u001b[0;31m                 \u001b[0mreward\u001b[0m \u001b[0;34m=\u001b[0m \u001b[0mreward\u001b[0m \u001b[0;34m+\u001b[0m \u001b[0mself\u001b[0m\u001b[0;34m.\u001b[0m\u001b[0mgamma\u001b[0m \u001b[0;34m*\u001b[0m \u001b[0mnp\u001b[0m\u001b[0;34m.\u001b[0m\u001b[0mmax\u001b[0m\u001b[0;34m(\u001b[0m\u001b[0mself\u001b[0m\u001b[0;34m.\u001b[0m\u001b[0mmodel\u001b[0m\u001b[0;34m.\u001b[0m\u001b[0mpredict\u001b[0m\u001b[0;34m(\u001b[0m\u001b[0mnext_state\u001b[0m\u001b[0;34m)\u001b[0m\u001b[0;34m)\u001b[0m\u001b[0;34m\u001b[0m\u001b[0;34m\u001b[0m\u001b[0m\n\u001b[0m\u001b[1;32m     39\u001b[0m \u001b[0;34m\u001b[0m\u001b[0m\n\u001b[1;32m     40\u001b[0m         \u001b[0mtarget\u001b[0m \u001b[0;34m=\u001b[0m \u001b[0mself\u001b[0m\u001b[0;34m.\u001b[0m\u001b[0mmodel\u001b[0m\u001b[0;34m.\u001b[0m\u001b[0mpredict\u001b[0m\u001b[0;34m(\u001b[0m\u001b[0mstate\u001b[0m\u001b[0;34m)\u001b[0m\u001b[0;34m\u001b[0m\u001b[0;34m\u001b[0m\u001b[0m\n",
      "\u001b[0;32m~/.local/lib/python3.7/site-packages/tensorflow_core/python/keras/engine/training.py\u001b[0m in \u001b[0;36mpredict\u001b[0;34m(self, x, batch_size, verbose, steps, callbacks, max_queue_size, workers, use_multiprocessing)\u001b[0m\n\u001b[1;32m   1011\u001b[0m         \u001b[0mmax_queue_size\u001b[0m\u001b[0;34m=\u001b[0m\u001b[0mmax_queue_size\u001b[0m\u001b[0;34m,\u001b[0m\u001b[0;34m\u001b[0m\u001b[0;34m\u001b[0m\u001b[0m\n\u001b[1;32m   1012\u001b[0m         \u001b[0mworkers\u001b[0m\u001b[0;34m=\u001b[0m\u001b[0mworkers\u001b[0m\u001b[0;34m,\u001b[0m\u001b[0;34m\u001b[0m\u001b[0;34m\u001b[0m\u001b[0m\n\u001b[0;32m-> 1013\u001b[0;31m         use_multiprocessing=use_multiprocessing)\n\u001b[0m\u001b[1;32m   1014\u001b[0m \u001b[0;34m\u001b[0m\u001b[0m\n\u001b[1;32m   1015\u001b[0m   \u001b[0;32mdef\u001b[0m \u001b[0mreset_metrics\u001b[0m\u001b[0;34m(\u001b[0m\u001b[0mself\u001b[0m\u001b[0;34m)\u001b[0m\u001b[0;34m:\u001b[0m\u001b[0;34m\u001b[0m\u001b[0;34m\u001b[0m\u001b[0m\n",
      "\u001b[0;32m~/.local/lib/python3.7/site-packages/tensorflow_core/python/keras/engine/training_v2.py\u001b[0m in \u001b[0;36mpredict\u001b[0;34m(self, model, x, batch_size, verbose, steps, callbacks, max_queue_size, workers, use_multiprocessing, **kwargs)\u001b[0m\n\u001b[1;32m    496\u001b[0m         \u001b[0mmodel\u001b[0m\u001b[0;34m,\u001b[0m \u001b[0mModeKeys\u001b[0m\u001b[0;34m.\u001b[0m\u001b[0mPREDICT\u001b[0m\u001b[0;34m,\u001b[0m \u001b[0mx\u001b[0m\u001b[0;34m=\u001b[0m\u001b[0mx\u001b[0m\u001b[0;34m,\u001b[0m \u001b[0mbatch_size\u001b[0m\u001b[0;34m=\u001b[0m\u001b[0mbatch_size\u001b[0m\u001b[0;34m,\u001b[0m \u001b[0mverbose\u001b[0m\u001b[0;34m=\u001b[0m\u001b[0mverbose\u001b[0m\u001b[0;34m,\u001b[0m\u001b[0;34m\u001b[0m\u001b[0;34m\u001b[0m\u001b[0m\n\u001b[1;32m    497\u001b[0m         \u001b[0msteps\u001b[0m\u001b[0;34m=\u001b[0m\u001b[0msteps\u001b[0m\u001b[0;34m,\u001b[0m \u001b[0mcallbacks\u001b[0m\u001b[0;34m=\u001b[0m\u001b[0mcallbacks\u001b[0m\u001b[0;34m,\u001b[0m \u001b[0mmax_queue_size\u001b[0m\u001b[0;34m=\u001b[0m\u001b[0mmax_queue_size\u001b[0m\u001b[0;34m,\u001b[0m\u001b[0;34m\u001b[0m\u001b[0;34m\u001b[0m\u001b[0m\n\u001b[0;32m--> 498\u001b[0;31m         workers=workers, use_multiprocessing=use_multiprocessing, **kwargs)\n\u001b[0m\u001b[1;32m    499\u001b[0m \u001b[0;34m\u001b[0m\u001b[0m\n\u001b[1;32m    500\u001b[0m \u001b[0;34m\u001b[0m\u001b[0m\n",
      "\u001b[0;32m~/.local/lib/python3.7/site-packages/tensorflow_core/python/keras/engine/training_v2.py\u001b[0m in \u001b[0;36m_model_iteration\u001b[0;34m(self, model, mode, x, y, batch_size, verbose, sample_weight, steps, callbacks, max_queue_size, workers, use_multiprocessing, **kwargs)\u001b[0m\n\u001b[1;32m    424\u001b[0m           \u001b[0mmax_queue_size\u001b[0m\u001b[0;34m=\u001b[0m\u001b[0mmax_queue_size\u001b[0m\u001b[0;34m,\u001b[0m\u001b[0;34m\u001b[0m\u001b[0;34m\u001b[0m\u001b[0m\n\u001b[1;32m    425\u001b[0m           \u001b[0mworkers\u001b[0m\u001b[0;34m=\u001b[0m\u001b[0mworkers\u001b[0m\u001b[0;34m,\u001b[0m\u001b[0;34m\u001b[0m\u001b[0;34m\u001b[0m\u001b[0m\n\u001b[0;32m--> 426\u001b[0;31m           use_multiprocessing=use_multiprocessing)\n\u001b[0m\u001b[1;32m    427\u001b[0m       \u001b[0mtotal_samples\u001b[0m \u001b[0;34m=\u001b[0m \u001b[0m_get_total_number_of_samples\u001b[0m\u001b[0;34m(\u001b[0m\u001b[0madapter\u001b[0m\u001b[0;34m)\u001b[0m\u001b[0;34m\u001b[0m\u001b[0;34m\u001b[0m\u001b[0m\n\u001b[1;32m    428\u001b[0m       \u001b[0muse_sample\u001b[0m \u001b[0;34m=\u001b[0m \u001b[0mtotal_samples\u001b[0m \u001b[0;32mis\u001b[0m \u001b[0;32mnot\u001b[0m \u001b[0;32mNone\u001b[0m\u001b[0;34m\u001b[0m\u001b[0;34m\u001b[0m\u001b[0m\n",
      "\u001b[0;32m~/.local/lib/python3.7/site-packages/tensorflow_core/python/keras/engine/training_v2.py\u001b[0m in \u001b[0;36m_process_inputs\u001b[0;34m(model, mode, x, y, batch_size, epochs, sample_weights, class_weights, shuffle, steps, distribution_strategy, max_queue_size, workers, use_multiprocessing)\u001b[0m\n\u001b[1;32m    704\u001b[0m       \u001b[0mmax_queue_size\u001b[0m\u001b[0;34m=\u001b[0m\u001b[0mmax_queue_size\u001b[0m\u001b[0;34m,\u001b[0m\u001b[0;34m\u001b[0m\u001b[0;34m\u001b[0m\u001b[0m\n\u001b[1;32m    705\u001b[0m       \u001b[0mworkers\u001b[0m\u001b[0;34m=\u001b[0m\u001b[0mworkers\u001b[0m\u001b[0;34m,\u001b[0m\u001b[0;34m\u001b[0m\u001b[0;34m\u001b[0m\u001b[0m\n\u001b[0;32m--> 706\u001b[0;31m       use_multiprocessing=use_multiprocessing)\n\u001b[0m\u001b[1;32m    707\u001b[0m \u001b[0;34m\u001b[0m\u001b[0m\n\u001b[1;32m    708\u001b[0m   \u001b[0;32mreturn\u001b[0m \u001b[0madapter\u001b[0m\u001b[0;34m\u001b[0m\u001b[0;34m\u001b[0m\u001b[0m\n",
      "\u001b[0;32m~/.local/lib/python3.7/site-packages/tensorflow_core/python/keras/engine/data_adapter.py\u001b[0m in \u001b[0;36m__init__\u001b[0;34m(self, x, y, sample_weights, sample_weight_modes, batch_size, epochs, steps, shuffle, **kwargs)\u001b[0m\n\u001b[1;32m    319\u001b[0m     \u001b[0;31m# trigger the next permutation. On the other hand, too many simultaneous\u001b[0m\u001b[0;34m\u001b[0m\u001b[0;34m\u001b[0m\u001b[0;34m\u001b[0m\u001b[0m\n\u001b[1;32m    320\u001b[0m     \u001b[0;31m# shuffles can contend on a hardware level and degrade all performance.\u001b[0m\u001b[0;34m\u001b[0m\u001b[0;34m\u001b[0m\u001b[0;34m\u001b[0m\u001b[0m\n\u001b[0;32m--> 321\u001b[0;31m     \u001b[0mindices_dataset\u001b[0m \u001b[0;34m=\u001b[0m \u001b[0mindices_dataset\u001b[0m\u001b[0;34m.\u001b[0m\u001b[0mmap\u001b[0m\u001b[0;34m(\u001b[0m\u001b[0mpermutation\u001b[0m\u001b[0;34m)\u001b[0m\u001b[0;34m.\u001b[0m\u001b[0mprefetch\u001b[0m\u001b[0;34m(\u001b[0m\u001b[0;36m1\u001b[0m\u001b[0;34m)\u001b[0m\u001b[0;34m\u001b[0m\u001b[0;34m\u001b[0m\u001b[0m\n\u001b[0m\u001b[1;32m    322\u001b[0m \u001b[0;34m\u001b[0m\u001b[0m\n\u001b[1;32m    323\u001b[0m     \u001b[0;32mdef\u001b[0m \u001b[0mslice_batch_indices\u001b[0m\u001b[0;34m(\u001b[0m\u001b[0mindices\u001b[0m\u001b[0;34m)\u001b[0m\u001b[0;34m:\u001b[0m\u001b[0;34m\u001b[0m\u001b[0;34m\u001b[0m\u001b[0m\n",
      "\u001b[0;32m~/.local/lib/python3.7/site-packages/tensorflow_core/python/data/ops/dataset_ops.py\u001b[0m in \u001b[0;36mmap\u001b[0;34m(self, map_func, num_parallel_calls)\u001b[0m\n\u001b[1;32m   1586\u001b[0m     \"\"\"\n\u001b[1;32m   1587\u001b[0m     \u001b[0;32mif\u001b[0m \u001b[0mnum_parallel_calls\u001b[0m \u001b[0;32mis\u001b[0m \u001b[0;32mNone\u001b[0m\u001b[0;34m:\u001b[0m\u001b[0;34m\u001b[0m\u001b[0;34m\u001b[0m\u001b[0m\n\u001b[0;32m-> 1588\u001b[0;31m       \u001b[0;32mreturn\u001b[0m \u001b[0mMapDataset\u001b[0m\u001b[0;34m(\u001b[0m\u001b[0mself\u001b[0m\u001b[0;34m,\u001b[0m \u001b[0mmap_func\u001b[0m\u001b[0;34m,\u001b[0m \u001b[0mpreserve_cardinality\u001b[0m\u001b[0;34m=\u001b[0m\u001b[0;32mTrue\u001b[0m\u001b[0;34m)\u001b[0m\u001b[0;34m\u001b[0m\u001b[0;34m\u001b[0m\u001b[0m\n\u001b[0m\u001b[1;32m   1589\u001b[0m     \u001b[0;32melse\u001b[0m\u001b[0;34m:\u001b[0m\u001b[0;34m\u001b[0m\u001b[0;34m\u001b[0m\u001b[0m\n\u001b[1;32m   1590\u001b[0m       return ParallelMapDataset(\n",
      "\u001b[0;32m~/.local/lib/python3.7/site-packages/tensorflow_core/python/data/ops/dataset_ops.py\u001b[0m in \u001b[0;36m__init__\u001b[0;34m(self, input_dataset, map_func, use_inter_op_parallelism, preserve_cardinality, use_legacy_function)\u001b[0m\n\u001b[1;32m   3886\u001b[0m         \u001b[0mself\u001b[0m\u001b[0;34m.\u001b[0m\u001b[0m_transformation_name\u001b[0m\u001b[0;34m(\u001b[0m\u001b[0;34m)\u001b[0m\u001b[0;34m,\u001b[0m\u001b[0;34m\u001b[0m\u001b[0;34m\u001b[0m\u001b[0m\n\u001b[1;32m   3887\u001b[0m         \u001b[0mdataset\u001b[0m\u001b[0;34m=\u001b[0m\u001b[0minput_dataset\u001b[0m\u001b[0;34m,\u001b[0m\u001b[0;34m\u001b[0m\u001b[0;34m\u001b[0m\u001b[0m\n\u001b[0;32m-> 3888\u001b[0;31m         use_legacy_function=use_legacy_function)\n\u001b[0m\u001b[1;32m   3889\u001b[0m     variant_tensor = gen_dataset_ops.map_dataset(\n\u001b[1;32m   3890\u001b[0m         \u001b[0minput_dataset\u001b[0m\u001b[0;34m.\u001b[0m\u001b[0m_variant_tensor\u001b[0m\u001b[0;34m,\u001b[0m  \u001b[0;31m# pylint: disable=protected-access\u001b[0m\u001b[0;34m\u001b[0m\u001b[0;34m\u001b[0m\u001b[0m\n",
      "\u001b[0;32m~/.local/lib/python3.7/site-packages/tensorflow_core/python/data/ops/dataset_ops.py\u001b[0m in \u001b[0;36m__init__\u001b[0;34m(self, func, transformation_name, dataset, input_classes, input_shapes, input_types, input_structure, add_to_graph, use_legacy_function, defun_kwargs)\u001b[0m\n\u001b[1;32m   3145\u001b[0m       \u001b[0;32mwith\u001b[0m \u001b[0mtracking\u001b[0m\u001b[0;34m.\u001b[0m\u001b[0mresource_tracker_scope\u001b[0m\u001b[0;34m(\u001b[0m\u001b[0mresource_tracker\u001b[0m\u001b[0;34m)\u001b[0m\u001b[0;34m:\u001b[0m\u001b[0;34m\u001b[0m\u001b[0;34m\u001b[0m\u001b[0m\n\u001b[1;32m   3146\u001b[0m         \u001b[0;31m# TODO(b/141462134): Switch to using garbage collection.\u001b[0m\u001b[0;34m\u001b[0m\u001b[0;34m\u001b[0m\u001b[0;34m\u001b[0m\u001b[0m\n\u001b[0;32m-> 3147\u001b[0;31m         \u001b[0mself\u001b[0m\u001b[0;34m.\u001b[0m\u001b[0m_function\u001b[0m \u001b[0;34m=\u001b[0m \u001b[0mwrapper_fn\u001b[0m\u001b[0;34m.\u001b[0m\u001b[0m_get_concrete_function_internal\u001b[0m\u001b[0;34m(\u001b[0m\u001b[0;34m)\u001b[0m\u001b[0;34m\u001b[0m\u001b[0;34m\u001b[0m\u001b[0m\n\u001b[0m\u001b[1;32m   3148\u001b[0m \u001b[0;34m\u001b[0m\u001b[0m\n\u001b[1;32m   3149\u001b[0m         \u001b[0;32mif\u001b[0m \u001b[0madd_to_graph\u001b[0m\u001b[0;34m:\u001b[0m\u001b[0;34m\u001b[0m\u001b[0;34m\u001b[0m\u001b[0m\n",
      "\u001b[0;32m~/.local/lib/python3.7/site-packages/tensorflow_core/python/eager/function.py\u001b[0m in \u001b[0;36m_get_concrete_function_internal\u001b[0;34m(self, *args, **kwargs)\u001b[0m\n\u001b[1;32m   2393\u001b[0m     \u001b[0;34m\"\"\"Bypasses error checking when getting a graph function.\"\"\"\u001b[0m\u001b[0;34m\u001b[0m\u001b[0;34m\u001b[0m\u001b[0m\n\u001b[1;32m   2394\u001b[0m     graph_function = self._get_concrete_function_internal_garbage_collected(\n\u001b[0;32m-> 2395\u001b[0;31m         *args, **kwargs)\n\u001b[0m\u001b[1;32m   2396\u001b[0m     \u001b[0;31m# We're returning this concrete function to someone, and they may keep a\u001b[0m\u001b[0;34m\u001b[0m\u001b[0;34m\u001b[0m\u001b[0;34m\u001b[0m\u001b[0m\n\u001b[1;32m   2397\u001b[0m     \u001b[0;31m# reference to the FuncGraph without keeping a reference to the\u001b[0m\u001b[0;34m\u001b[0m\u001b[0;34m\u001b[0m\u001b[0;34m\u001b[0m\u001b[0m\n",
      "\u001b[0;32m~/.local/lib/python3.7/site-packages/tensorflow_core/python/eager/function.py\u001b[0m in \u001b[0;36m_get_concrete_function_internal_garbage_collected\u001b[0;34m(self, *args, **kwargs)\u001b[0m\n\u001b[1;32m   2387\u001b[0m       \u001b[0margs\u001b[0m\u001b[0;34m,\u001b[0m \u001b[0mkwargs\u001b[0m \u001b[0;34m=\u001b[0m \u001b[0;32mNone\u001b[0m\u001b[0;34m,\u001b[0m \u001b[0;32mNone\u001b[0m\u001b[0;34m\u001b[0m\u001b[0;34m\u001b[0m\u001b[0m\n\u001b[1;32m   2388\u001b[0m     \u001b[0;32mwith\u001b[0m \u001b[0mself\u001b[0m\u001b[0;34m.\u001b[0m\u001b[0m_lock\u001b[0m\u001b[0;34m:\u001b[0m\u001b[0;34m\u001b[0m\u001b[0;34m\u001b[0m\u001b[0m\n\u001b[0;32m-> 2389\u001b[0;31m       \u001b[0mgraph_function\u001b[0m\u001b[0;34m,\u001b[0m \u001b[0m_\u001b[0m\u001b[0;34m,\u001b[0m \u001b[0m_\u001b[0m \u001b[0;34m=\u001b[0m \u001b[0mself\u001b[0m\u001b[0;34m.\u001b[0m\u001b[0m_maybe_define_function\u001b[0m\u001b[0;34m(\u001b[0m\u001b[0margs\u001b[0m\u001b[0;34m,\u001b[0m \u001b[0mkwargs\u001b[0m\u001b[0;34m)\u001b[0m\u001b[0;34m\u001b[0m\u001b[0;34m\u001b[0m\u001b[0m\n\u001b[0m\u001b[1;32m   2390\u001b[0m     \u001b[0;32mreturn\u001b[0m \u001b[0mgraph_function\u001b[0m\u001b[0;34m\u001b[0m\u001b[0;34m\u001b[0m\u001b[0m\n\u001b[1;32m   2391\u001b[0m \u001b[0;34m\u001b[0m\u001b[0m\n",
      "\u001b[0;32m~/.local/lib/python3.7/site-packages/tensorflow_core/python/eager/function.py\u001b[0m in \u001b[0;36m_maybe_define_function\u001b[0;34m(self, args, kwargs)\u001b[0m\n\u001b[1;32m   2701\u001b[0m \u001b[0;34m\u001b[0m\u001b[0m\n\u001b[1;32m   2702\u001b[0m       \u001b[0mself\u001b[0m\u001b[0;34m.\u001b[0m\u001b[0m_function_cache\u001b[0m\u001b[0;34m.\u001b[0m\u001b[0mmissed\u001b[0m\u001b[0;34m.\u001b[0m\u001b[0madd\u001b[0m\u001b[0;34m(\u001b[0m\u001b[0mcall_context_key\u001b[0m\u001b[0;34m)\u001b[0m\u001b[0;34m\u001b[0m\u001b[0;34m\u001b[0m\u001b[0m\n\u001b[0;32m-> 2703\u001b[0;31m       \u001b[0mgraph_function\u001b[0m \u001b[0;34m=\u001b[0m \u001b[0mself\u001b[0m\u001b[0;34m.\u001b[0m\u001b[0m_create_graph_function\u001b[0m\u001b[0;34m(\u001b[0m\u001b[0margs\u001b[0m\u001b[0;34m,\u001b[0m \u001b[0mkwargs\u001b[0m\u001b[0;34m)\u001b[0m\u001b[0;34m\u001b[0m\u001b[0;34m\u001b[0m\u001b[0m\n\u001b[0m\u001b[1;32m   2704\u001b[0m       \u001b[0mself\u001b[0m\u001b[0;34m.\u001b[0m\u001b[0m_function_cache\u001b[0m\u001b[0;34m.\u001b[0m\u001b[0mprimary\u001b[0m\u001b[0;34m[\u001b[0m\u001b[0mcache_key\u001b[0m\u001b[0;34m]\u001b[0m \u001b[0;34m=\u001b[0m \u001b[0mgraph_function\u001b[0m\u001b[0;34m\u001b[0m\u001b[0;34m\u001b[0m\u001b[0m\n\u001b[1;32m   2705\u001b[0m       \u001b[0;32mreturn\u001b[0m \u001b[0mgraph_function\u001b[0m\u001b[0;34m,\u001b[0m \u001b[0margs\u001b[0m\u001b[0;34m,\u001b[0m \u001b[0mkwargs\u001b[0m\u001b[0;34m\u001b[0m\u001b[0;34m\u001b[0m\u001b[0m\n",
      "\u001b[0;32m~/.local/lib/python3.7/site-packages/tensorflow_core/python/eager/function.py\u001b[0m in \u001b[0;36m_create_graph_function\u001b[0;34m(self, args, kwargs, override_flat_arg_shapes)\u001b[0m\n\u001b[1;32m   2591\u001b[0m             \u001b[0marg_names\u001b[0m\u001b[0;34m=\u001b[0m\u001b[0marg_names\u001b[0m\u001b[0;34m,\u001b[0m\u001b[0;34m\u001b[0m\u001b[0;34m\u001b[0m\u001b[0m\n\u001b[1;32m   2592\u001b[0m             \u001b[0moverride_flat_arg_shapes\u001b[0m\u001b[0;34m=\u001b[0m\u001b[0moverride_flat_arg_shapes\u001b[0m\u001b[0;34m,\u001b[0m\u001b[0;34m\u001b[0m\u001b[0;34m\u001b[0m\u001b[0m\n\u001b[0;32m-> 2593\u001b[0;31m             capture_by_value=self._capture_by_value),\n\u001b[0m\u001b[1;32m   2594\u001b[0m         \u001b[0mself\u001b[0m\u001b[0;34m.\u001b[0m\u001b[0m_function_attributes\u001b[0m\u001b[0;34m,\u001b[0m\u001b[0;34m\u001b[0m\u001b[0;34m\u001b[0m\u001b[0m\n\u001b[1;32m   2595\u001b[0m         \u001b[0;31m# Tell the ConcreteFunction to clean up its graph once it goes out of\u001b[0m\u001b[0;34m\u001b[0m\u001b[0;34m\u001b[0m\u001b[0;34m\u001b[0m\u001b[0m\n",
      "\u001b[0;32m~/.local/lib/python3.7/site-packages/tensorflow_core/python/framework/func_graph.py\u001b[0m in \u001b[0;36mfunc_graph_from_py_func\u001b[0;34m(name, python_func, args, kwargs, signature, func_graph, autograph, autograph_options, add_control_dependencies, arg_names, op_return_value, collections, capture_by_value, override_flat_arg_shapes)\u001b[0m\n\u001b[1;32m    905\u001b[0m     \u001b[0;31m# TensorSpecs by their `arg_names` for later binding.\u001b[0m\u001b[0;34m\u001b[0m\u001b[0;34m\u001b[0m\u001b[0;34m\u001b[0m\u001b[0m\n\u001b[1;32m    906\u001b[0m     func_graph.structured_input_signature = (\n\u001b[0;32m--> 907\u001b[0;31m         \u001b[0mconvert_structure_to_signature\u001b[0m\u001b[0;34m(\u001b[0m\u001b[0mfunc_args\u001b[0m\u001b[0;34m,\u001b[0m \u001b[0marg_names\u001b[0m\u001b[0;34m)\u001b[0m\u001b[0;34m,\u001b[0m\u001b[0;34m\u001b[0m\u001b[0;34m\u001b[0m\u001b[0m\n\u001b[0m\u001b[1;32m    908\u001b[0m         convert_structure_to_signature(func_kwargs))\n\u001b[1;32m    909\u001b[0m \u001b[0;34m\u001b[0m\u001b[0m\n",
      "\u001b[0;32m~/.local/lib/python3.7/site-packages/tensorflow_core/python/framework/func_graph.py\u001b[0m in \u001b[0;36mconvert_structure_to_signature\u001b[0;34m(structure, arg_names)\u001b[0m\n\u001b[1;32m    128\u001b[0m     ]\n\u001b[1;32m    129\u001b[0m \u001b[0;34m\u001b[0m\u001b[0m\n\u001b[0;32m--> 130\u001b[0;31m   \u001b[0mmapped\u001b[0m \u001b[0;34m=\u001b[0m \u001b[0;34m[\u001b[0m\u001b[0mencode_arg\u001b[0m\u001b[0;34m(\u001b[0m\u001b[0marg\u001b[0m\u001b[0;34m,\u001b[0m \u001b[0mpath\u001b[0m\u001b[0;34m)\u001b[0m \u001b[0;32mfor\u001b[0m \u001b[0mpath\u001b[0m\u001b[0;34m,\u001b[0m \u001b[0marg\u001b[0m \u001b[0;32min\u001b[0m \u001b[0mflattened\u001b[0m\u001b[0;34m]\u001b[0m\u001b[0;34m\u001b[0m\u001b[0;34m\u001b[0m\u001b[0m\n\u001b[0m\u001b[1;32m    131\u001b[0m   \u001b[0;32mreturn\u001b[0m \u001b[0mnest\u001b[0m\u001b[0;34m.\u001b[0m\u001b[0mpack_sequence_as\u001b[0m\u001b[0;34m(\u001b[0m\u001b[0mstructure\u001b[0m\u001b[0;34m,\u001b[0m \u001b[0mmapped\u001b[0m\u001b[0;34m)\u001b[0m\u001b[0;34m\u001b[0m\u001b[0;34m\u001b[0m\u001b[0m\n\u001b[1;32m    132\u001b[0m \u001b[0;34m\u001b[0m\u001b[0m\n",
      "\u001b[0;32m~/.local/lib/python3.7/site-packages/tensorflow_core/python/framework/func_graph.py\u001b[0m in \u001b[0;36m<listcomp>\u001b[0;34m(.0)\u001b[0m\n\u001b[1;32m    128\u001b[0m     ]\n\u001b[1;32m    129\u001b[0m \u001b[0;34m\u001b[0m\u001b[0m\n\u001b[0;32m--> 130\u001b[0;31m   \u001b[0mmapped\u001b[0m \u001b[0;34m=\u001b[0m \u001b[0;34m[\u001b[0m\u001b[0mencode_arg\u001b[0m\u001b[0;34m(\u001b[0m\u001b[0marg\u001b[0m\u001b[0;34m,\u001b[0m \u001b[0mpath\u001b[0m\u001b[0;34m)\u001b[0m \u001b[0;32mfor\u001b[0m \u001b[0mpath\u001b[0m\u001b[0;34m,\u001b[0m \u001b[0marg\u001b[0m \u001b[0;32min\u001b[0m \u001b[0mflattened\u001b[0m\u001b[0;34m]\u001b[0m\u001b[0;34m\u001b[0m\u001b[0;34m\u001b[0m\u001b[0m\n\u001b[0m\u001b[1;32m    131\u001b[0m   \u001b[0;32mreturn\u001b[0m \u001b[0mnest\u001b[0m\u001b[0;34m.\u001b[0m\u001b[0mpack_sequence_as\u001b[0m\u001b[0;34m(\u001b[0m\u001b[0mstructure\u001b[0m\u001b[0;34m,\u001b[0m \u001b[0mmapped\u001b[0m\u001b[0;34m)\u001b[0m\u001b[0;34m\u001b[0m\u001b[0;34m\u001b[0m\u001b[0m\n\u001b[1;32m    132\u001b[0m \u001b[0;34m\u001b[0m\u001b[0m\n",
      "\u001b[0;32m~/.local/lib/python3.7/site-packages/tensorflow_core/python/framework/func_graph.py\u001b[0m in \u001b[0;36mencode_arg\u001b[0;34m(arg, path)\u001b[0m\n\u001b[1;32m     96\u001b[0m       \u001b[0;32melse\u001b[0m\u001b[0;34m:\u001b[0m\u001b[0;34m\u001b[0m\u001b[0;34m\u001b[0m\u001b[0m\n\u001b[1;32m     97\u001b[0m         \u001b[0mname\u001b[0m \u001b[0;34m=\u001b[0m \u001b[0;34m\"/\"\u001b[0m\u001b[0;34m.\u001b[0m\u001b[0mjoin\u001b[0m\u001b[0;34m(\u001b[0m\u001b[0;34m[\u001b[0m\u001b[0mstr\u001b[0m\u001b[0;34m(\u001b[0m\u001b[0mp\u001b[0m\u001b[0;34m)\u001b[0m \u001b[0;32mfor\u001b[0m \u001b[0mp\u001b[0m \u001b[0;32min\u001b[0m \u001b[0mpath\u001b[0m\u001b[0;34m]\u001b[0m\u001b[0;34m)\u001b[0m\u001b[0;34m\u001b[0m\u001b[0;34m\u001b[0m\u001b[0m\n\u001b[0;32m---> 98\u001b[0;31m       \u001b[0;32mreturn\u001b[0m \u001b[0mtensor_spec\u001b[0m\u001b[0;34m.\u001b[0m\u001b[0mTensorSpec\u001b[0m\u001b[0;34m(\u001b[0m\u001b[0marg\u001b[0m\u001b[0;34m.\u001b[0m\u001b[0mshape\u001b[0m\u001b[0;34m,\u001b[0m \u001b[0marg\u001b[0m\u001b[0;34m.\u001b[0m\u001b[0mdtype\u001b[0m\u001b[0;34m,\u001b[0m \u001b[0mname\u001b[0m\u001b[0;34m)\u001b[0m\u001b[0;34m\u001b[0m\u001b[0;34m\u001b[0m\u001b[0m\n\u001b[0m\u001b[1;32m     99\u001b[0m     \u001b[0;32mif\u001b[0m \u001b[0misinstance\u001b[0m\u001b[0;34m(\u001b[0m\u001b[0marg\u001b[0m\u001b[0;34m,\u001b[0m \u001b[0mcomposite_tensor\u001b[0m\u001b[0;34m.\u001b[0m\u001b[0mCompositeTensor\u001b[0m\u001b[0;34m)\u001b[0m\u001b[0;34m:\u001b[0m\u001b[0;34m\u001b[0m\u001b[0;34m\u001b[0m\u001b[0m\n\u001b[1;32m    100\u001b[0m       \u001b[0;31m# TODO(b/133606651) Do we need to inject arg_name?\u001b[0m\u001b[0;34m\u001b[0m\u001b[0;34m\u001b[0m\u001b[0;34m\u001b[0m\u001b[0m\n",
      "\u001b[0;32m~/.local/lib/python3.7/site-packages/tensorflow_core/python/framework/ops.py\u001b[0m in \u001b[0;36mshape\u001b[0;34m(self)\u001b[0m\n\u001b[1;32m    475\u001b[0m     \"\"\"\n\u001b[1;32m    476\u001b[0m     \u001b[0;32mif\u001b[0m \u001b[0mself\u001b[0m\u001b[0;34m.\u001b[0m\u001b[0m_shape_val\u001b[0m \u001b[0;32mis\u001b[0m \u001b[0;32mNone\u001b[0m\u001b[0;34m:\u001b[0m\u001b[0;34m\u001b[0m\u001b[0;34m\u001b[0m\u001b[0m\n\u001b[0;32m--> 477\u001b[0;31m       \u001b[0mself\u001b[0m\u001b[0;34m.\u001b[0m\u001b[0m_shape_val\u001b[0m \u001b[0;34m=\u001b[0m \u001b[0mself\u001b[0m\u001b[0;34m.\u001b[0m\u001b[0m_c_api_shape\u001b[0m\u001b[0;34m(\u001b[0m\u001b[0;34m)\u001b[0m\u001b[0;34m\u001b[0m\u001b[0;34m\u001b[0m\u001b[0m\n\u001b[0m\u001b[1;32m    478\u001b[0m     \u001b[0;32mreturn\u001b[0m \u001b[0mself\u001b[0m\u001b[0;34m.\u001b[0m\u001b[0m_shape_val\u001b[0m\u001b[0;34m\u001b[0m\u001b[0;34m\u001b[0m\u001b[0m\n\u001b[1;32m    479\u001b[0m \u001b[0;34m\u001b[0m\u001b[0m\n",
      "\u001b[0;32m~/.local/lib/python3.7/site-packages/tensorflow_core/python/framework/ops.py\u001b[0m in \u001b[0;36m_c_api_shape\u001b[0;34m(self)\u001b[0m\n\u001b[1;32m    482\u001b[0m     \u001b[0mc_graph\u001b[0m \u001b[0;34m=\u001b[0m \u001b[0mself\u001b[0m\u001b[0;34m.\u001b[0m\u001b[0m_op\u001b[0m\u001b[0;34m.\u001b[0m\u001b[0m_graph\u001b[0m\u001b[0;34m.\u001b[0m\u001b[0m_c_graph\u001b[0m  \u001b[0;31m# pylint: disable=protected-access\u001b[0m\u001b[0;34m\u001b[0m\u001b[0;34m\u001b[0m\u001b[0m\n\u001b[1;32m    483\u001b[0m     shape_vector, unknown_shape = c_api.TF_GraphGetTensorShapeHelper(\n\u001b[0;32m--> 484\u001b[0;31m         c_graph, self._as_tf_output())\n\u001b[0m\u001b[1;32m    485\u001b[0m     \u001b[0;32mif\u001b[0m \u001b[0munknown_shape\u001b[0m\u001b[0;34m:\u001b[0m\u001b[0;34m\u001b[0m\u001b[0;34m\u001b[0m\u001b[0m\n\u001b[1;32m    486\u001b[0m       \u001b[0;32mreturn\u001b[0m \u001b[0mtensor_shape\u001b[0m\u001b[0;34m.\u001b[0m\u001b[0munknown_shape\u001b[0m\u001b[0;34m(\u001b[0m\u001b[0;34m)\u001b[0m\u001b[0;34m\u001b[0m\u001b[0;34m\u001b[0m\u001b[0m\n",
      "\u001b[0;31mKeyboardInterrupt\u001b[0m: "
     ]
    }
   ],
   "source": [
    "initial_amount = 15\n",
    "\n",
    "for episode in range(1, episodes + 1):\n",
    "    print(\"Episode: {}/{}\".format(episode, episodes))\n",
    "    state = state_creator(data, 0, window_size + 1)\n",
    "    total_profit = 0\n",
    "    trader.inventory = []\n",
    "    operation_amount = initial_amount\n",
    "    for t in tqdm(range(data_samples)):\n",
    "        action = trader.trade(state)\n",
    "        next_state = state_creator(data, t + 1, window_size + 1)\n",
    "        reward = 0\n",
    "\n",
    "        if action == 1 and operation_amount > 0: # Comprando uma ação\n",
    "            trader.inventory.append(data[t])\n",
    "            operation_amount -= 1\n",
    "            print(\"AI Trader bought: \", stocks_price_format(data[t]))\n",
    "        elif action == 2 and len(trader.inventory) > 0: # Vendendo uma ação  \n",
    "            buy_price = trader.inventory.pop(0)\n",
    "            reward = max(data[t] - buy_price, 0)\n",
    "            total_profit += data[t] - buy_price\n",
    "            operation_amount += 1\n",
    "            print(\"AI Trader sold: \", stocks_price_format(data[t]), \" Profit: \" + stocks_price_format(data[t] - buy_price))\n",
    "\n",
    "        if t == data_samples - 1:\n",
    "            done = True\n",
    "        else:\n",
    "            done = False\n",
    "\n",
    "        trader.memory.append((state, action, reward, next_state, done))\n",
    "\n",
    "        state = next_state\n",
    "\n",
    "        if done:\n",
    "            print(\"########################\")\n",
    "            print(\"Total profit: {}\".format(total_profit))\n",
    "            print(\"Total operation: {}\".format(operation_amount))\n",
    "            print(\"########################\")\n",
    "\n",
    "        if len(trader.memory) > batch_size and len(trader.memory) % (batch_size / 2) == 0:\n",
    "            trader.batch_train(batch_size)\n",
    "\n",
    "        if episode % 5 == 0:\n",
    "            trader.save(\"ai_trader_{}.h5\".format(episode))"
   ]
  },
  {
   "cell_type": "code",
   "execution_count": null,
   "metadata": {},
   "outputs": [],
   "source": []
  }
 ],
 "metadata": {
  "accelerator": "GPU",
  "colab": {
   "collapsed_sections": [],
   "name": "Aprendizagem por Reforço para Negociação de Ações.ipynb",
   "provenance": [
    {
     "file_id": "1ELWUphTJcRAqRDO-SBPF9YbvC1yaCQdJ",
     "timestamp": 1592258339716
    },
    {
     "file_id": "1ZPBM7gAAzsStog0-Y8JDUTxW55aYdor0",
     "timestamp": 1568463642722
    }
   ]
  },
  "kernelspec": {
   "display_name": "Python 3",
   "language": "python",
   "name": "python3"
  },
  "language_info": {
   "codemirror_mode": {
    "name": "ipython",
    "version": 3
   },
   "file_extension": ".py",
   "mimetype": "text/x-python",
   "name": "python",
   "nbconvert_exporter": "python",
   "pygments_lexer": "ipython3",
   "version": "3.7.6"
  }
 },
 "nbformat": 4,
 "nbformat_minor": 1
}
